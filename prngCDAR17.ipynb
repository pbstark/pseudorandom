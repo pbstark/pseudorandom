{
 "cells": [
  {
   "cell_type": "code",
   "execution_count": 1,
   "metadata": {
    "collapsed": true,
    "scrolled": false,
    "slideshow": {
     "slide_type": "skip"
    }
   },
   "outputs": [],
   "source": [
    "%matplotlib inline\n",
    "from __future__ import division, print_function, absolute_import\n",
    "import math\n",
    "import numpy as np\n",
    "import scipy as sp\n",
    "from scipy.misc import comb, factorial\n",
    "from scipy.optimize import brentq\n",
    "from scipy.stats import chisquare, norm\n",
    "import scipy.integrate\n",
    "from random import Random\n",
    "import matplotlib.pyplot as plt\n",
    "from mpl_toolkits.mplot3d import Axes3D"
   ]
  },
  {
   "cell_type": "markdown",
   "metadata": {
    "nbpresent": {
     "id": "7c592b78-433d-4db4-8bf3-51222abc2ce8"
    },
    "slideshow": {
     "slide_type": "slide"
    }
   },
   "source": [
    "# <font color=\"blue\">Don't Bet on your Random Number Generator</font>\n",
    "\n",
    "## P.B. Stark, Department of Statistics, UC Berkeley\n",
    "\n",
    "## Joint work with:\n",
    "\n",
    "## &nbsp;&nbsp;Ron Rivest, MIT <br>&nbsp;&nbsp;Kellie Ottoboni, UC Berkeley\n",
    "\n",
    "## Annual Symposium of the Consortium for Data Analytics in Risk (CDAR)\n",
    "### University of California, Berkeley \n",
    "### 27 October 2017"
   ]
  },
  {
   "cell_type": "markdown",
   "metadata": {
    "nbpresent": {
     "id": "f5841a19-e7ea-4e49-bdd8-2efe17ff3740"
    },
    "slideshow": {
     "slide_type": "slide"
    }
   },
   "source": [
    "Pseudo-random numbers are used in countless contexts, including jury selection, electronic casino games, physical and chemical simulations, bank stress tests, portfolio risk simulation, numerical integration, random sampling, Monte Carlo methods, stochastic optimization, and cryptography. They are used in scientific fields from finance to particle physics to sociology. \n",
    " \n",
    "It's tempting to think that the pseudo-random number generators (PRNGs) in common software packages and general-purpose programming languages in are \"good enough\" for most purposes. However, pigeonhole arguments and empirical results show that those PRNGs are not adequate for basic statistical purposes such as random sampling, generating random permutations, and the bootstrap – even for relatively small data sets. Cryptographers have developed cryptographically secure pseudo-random number generators (CS-PRNGs), which provide a far better approximation to truly random numbers, as manufacturers of gambling machines are well aware. For most purposes, the incremental computational cost of using a CS-PRNG is negligible. Statistical packages and general-purpose programming languages should use CS-PRNGs by default. "
   ]
  },
  {
   "cell_type": "markdown",
   "metadata": {
    "nbpresent": {
     "id": "f79b9a6d-7258-4d6a-9b08-cb8d56d21259"
    },
    "slideshow": {
     "slide_type": "slide"
    }
   },
   "source": [
    "<img src=\"./RandPics/crapShoot.jpg\" alt=\"crapshoot\" style=\"height: 600px;\"/>"
   ]
  },
  {
   "cell_type": "markdown",
   "metadata": {
    "slideshow": {
     "slide_type": "slide"
    }
   },
   "source": [
    "### Outline\n",
    "+ PRNGs\n",
    "    - why?\n",
    "    - overview\n",
    "    - taxonomy\n",
    "+ Tests\n",
    "    - Knuth\n",
    "    - Marsaglia's Diehard\n",
    "    - TestU01\n",
    "    - NIST"
   ]
  },
  {
   "cell_type": "markdown",
   "metadata": {
    "slideshow": {
     "slide_type": "subslide"
    }
   },
   "source": [
    "+ Bad/ Inappropriate PRNGs\n",
    "    - RANDU\n",
    "    - Leisure Games video slot machine\n",
    "    - Dual EC\n",
    "        + Juniper Networks\n",
    "    - GnuPG\n",
    "    - PHP\n",
    "    - Microsoft Windows XP, 2000\n",
    "+ Bad implementations\n",
    "    - Microsoft Excel\n",
    "    - Microsoft Visual Studio / .NET system.random\n",
    "+ Bad seeding\n",
    "    - Debian OpenSSL\n",
    "    - Common practice: too short\n",
    "        + not enough entropy / not random\n",
    "        + \"bad seeds\" e.g. MT\n",
    "+ Bad uses\n",
    "    - Generating random integers: R\n",
    "    - Generating random samples: PIKK\n",
    "    - Generating random permutations: Microsoft \n",
    "+ Pigeonhole bounds\n",
    "    - Counting\n",
    "    - $L_1$ bounds\n",
    "    - When does it matter?"
   ]
  },
  {
   "cell_type": "markdown",
   "metadata": {
    "slideshow": {
     "slide_type": "slide"
    }
   },
   "source": [
    "_A Million Random Digits with 100,000 Normal Deviates_ on Amazon.com \n",
    "\n",
    "https://www.amazon.com/Million-Random-Digits-Normal-Deviates/dp/0833030477\n",
    "\n",
    "> A very engrossing book with historical importance, it keeps you guessing until the end.\n",
    "\n",
    "> I can't understand all the negative reviews! This book literally contains everything I could ever ask for in a book. Recipe for spanokopita? Check! Name of every person ever born? Check! Next week's powerball, bingo, MLB, and NASCAR results? Check! By randomly combining and recombining the contents at random, I have read the works of Shakespeare, Harry Potter 8: the Tomb of Crying Stilton (to be released in 2014), the Bible AND the REAL Bible. I threw out my other books when I realized I could just jump around in this book and derive any other book I wanted. I think Borges wrote a story about this, but it's taking me a while to find that story in my book. I did find some steamy erotica this morning, though, so who's complaining?\n",
    "\n",
    "> Such a terrific reference work! But with so many terrific random digits, it's a shame they didn't sort them, to make it easier to find the one you're looking for.\n",
    "\n",
    "> While the printed version is good, I would have expected the publisher to have an audiobook version as well. \n",
    "\n",
    "> The book is a promising reference concept, but the execution is somewhat sloppy. Whatever generator they used was not fully tested. The bulk of each page seems random enough. However at the lower left and lower right of alternate pages, the number is found to increment directly.\n",
    "\n",
    "> If you like this book, I highly recommend that you read it in the original binary. As with most translations, conversion from binary to decimal frequently causes a loss of information and, unfortunately, it's the most significant digits that are lost in the conversion.\n",
    "\n",
    "> At first, I was overjoyed when I received my copy of this book. However, when an enemy in my department showed me HER copy, I found that they were the OPPOSITE of random - they were IDENTICAL."
   ]
  },
  {
   "cell_type": "markdown",
   "metadata": {
    "slideshow": {
     "slide_type": "slide"
    }
   },
   "source": [
    "XKCD https://xkcd.com/221/\n",
    "![xkcd random](https://imgs.xkcd.com/comics/random_number.png)\n",
    "\n",
    "Why randomness?\n",
    "\n",
    "+ unpredictability\n",
    "+ secrets / cryptography\n",
    "+ \"fairness\"\n",
    "    - jury selection\n",
    "    - lotteries\n",
    "    - casino games\n",
    "+ technical/statistical uses\n",
    "    - random sampling\n",
    "    - simulation / MCMC\n",
    "    - bootstrap\n",
    "    - permutation tests\n",
    "    - Monte Carlo integration\n",
    "    - simulated annealing, genetic algorithms, etc.\n",
    "    - randomized algorithms"
   ]
  },
  {
   "cell_type": "markdown",
   "metadata": {
    "nbpresent": {
     "id": "cb23e26a-4f21-4615-b126-5d7a110eb542"
    },
    "slideshow": {
     "slide_type": "subslide"
    }
   },
   "source": [
    "Why not actual randomness?\n",
    "\n",
    "+ availability\n",
    "\n",
    "+ speed\n",
    "\n",
    "+ reproducibility\n",
    "\n",
    "+ transparency"
   ]
  },
  {
   "cell_type": "markdown",
   "metadata": {
    "slideshow": {
     "slide_type": "slide"
    }
   },
   "source": [
    "## Properties of PRNGs\n",
    "\n",
    "+ dimension of output\n",
    "    - commonly 32 bits, but some have more\n",
    "    \n",
    "+ number of states\n",
    "    - dimension of state space in bits\n",
    "    - some PRNGs have state = output\n",
    "    - better generators generally have output = f(state), dim(state) $>>$ dim(output)\n",
    "\n",
    "+ period\n",
    "    - maximum over initial states of the number of states visited before repeating\n",
    "    - period &le; number of states\n",
    "    - if state has $s$ bits, period $\\le 2^s$\n",
    "    - for some PRNGs, period is much less than number of states\n",
    "    - for some seeds for some PRNGs, number of states visited is much less than period\n",
    "    "
   ]
  },
  {
   "cell_type": "markdown",
   "metadata": {
    "nbpresent": {
     "id": "85ecf6b8-17aa-4ac9-85c4-ad2d9e21ba47"
    },
    "slideshow": {
     "slide_type": "subslide"
    }
   },
   "source": [
    "+ $k$-distribution\n",
    "    - suppose $\\{X_i\\}$ is sequence of $P$ $w$-bit integers\n",
    "    - define $t_v(X_i)$ to be the first $v$ bits of $X_i$\n",
    "    - $\\{X_i\\}$ is $k$-distributed to $v$-bit accuracy if each of the $2^{kv}-1$ possible nonzero $kv$-bit vectors occurs equally often among the $P$ $kv$-bit vectors $(t_v(X_i),\\,t_v(X_{i+1}), \\ldots , t_v(X_{i+k-1}))$, &nbsp; $0\\le i < P$, and the zero vector occurs once less often.\n",
    "    - amounts to a form of uniformity in $k$-dimensional space, over an entire cycle\n",
    "    - does not measure dependence or other \"serial\" properties\n",
    "\n",
    "+ sensitivity to initial state; burn-in\n",
    "    - many PRNGs don't do well if the seed has too many zeros\n",
    "    - some require many iterations before output behaves well\n",
    "    - for some seeds, some PRNGs repeat very quickly"
   ]
  },
  {
   "cell_type": "markdown",
   "metadata": {
    "slideshow": {
     "slide_type": "slide"
    }
   },
   "source": [
    "## Some PRNGs"
   ]
  },
  {
   "cell_type": "markdown",
   "metadata": {
    "slideshow": {
     "slide_type": "fragment"
    }
   },
   "source": [
    "<div class=\"alert alert-block alert-warning\"><big>Anyone who considers arithmetical methods of producing random digits is, of course, in a state of sin. <br/>\n",
    "&nbsp;&nbsp;&nbsp;&nbsp;&nbsp;&nbsp;&nbsp;&nbsp;&mdash;John von Neumann</big></div>"
   ]
  },
  {
   "cell_type": "markdown",
   "metadata": {
    "nbpresent": {
     "id": "ffc54753-14f1-4a35-b312-2c6b4909273f"
    },
    "slideshow": {
     "slide_type": "slide"
    }
   },
   "source": [
    "### Middle Square\n",
    "\n",
    "Dates to Franciscan friar ca. 1240 (per [Wikipedia](https://en.wikipedia.org/wiki/Middle-square_method)); reinvented by von Neumann ca. 1949.\n",
    "\n",
    "Take $n$-digit number, square it, use middle $n$ digits as the \"random\" and the new seed.\n",
    "\n",
    "E.g., for $n=4$, take $X_0 = 1234$.\n",
    "\n",
    "$1234^2 = 1522756$, so $X_1 = 2275$.\n",
    "\n",
    "$2275^2 = 5175625$, so $X_2 = 7562$.\n",
    "\n",
    "+ $10^n$ possible states, but not all attainable from a given seed\n",
    "+ period at most $8^n$, but can be very short. E.g., for $n=4$,\n",
    "    - 0000, 0100, 2500, 3792, & 7600 repeat forever\n",
    "    - 0540 &rightarrow; 2916 &rightarrow; 5030 &rightarrow; 3009 &rightarrow; 0540\n"
   ]
  },
  {
   "cell_type": "markdown",
   "metadata": {
    "slideshow": {
     "slide_type": "slide"
    }
   },
   "source": [
    "### Linear Congruential Generators (LCGs) \n",
    "\n",
    "&nbsp;\n",
    "\n",
    "$$ X_{n+1} = (aX_n +c)\\mod m.$$\n",
    "\n",
    "LCG period is at most $m$."
   ]
  },
  {
   "cell_type": "markdown",
   "metadata": {
    "nbpresent": {
     "id": "7232317d-9c31-4eb8-9c07-c51b60aab684"
    },
    "slideshow": {
     "slide_type": "fragment"
    }
   },
   "source": [
    "#### Hull-Dobell Theorem: the period of an LCG is $m$ for all seeds $X_0$ iff\n",
    "\n",
    "+ $m$ and $c$ are relatively prime\n",
    "+ $a-1$  is divisible by all prime factors of $m$\n",
    "+ $a-1$  is divisible by 4 if $m$ is divisible by 4\n",
    "\n",
    "Multiplicative congruential generators ($c=0$), Lehmer (1949)."
   ]
  },
  {
   "cell_type": "markdown",
   "metadata": {
    "nbpresent": {
     "id": "a9a337be-5163-4f46-ae72-82eca65556a6"
    },
    "slideshow": {
     "slide_type": "subslide"
    }
   },
   "source": [
    "#### Marsaglia (PNAS, 1968): Random Numbers Fall Mainly in the Planes\n",
    "\n",
    "![Marsaglia68](./RandPics/marsaglia68.png)"
   ]
  },
  {
   "cell_type": "code",
   "execution_count": 2,
   "metadata": {
    "collapsed": true,
    "scrolled": false,
    "slideshow": {
     "slide_type": "subslide"
    }
   },
   "outputs": [],
   "source": [
    "# LCG; defaults to RANDU, a particularly bad choice\n",
    "class lcgRandom: # defaults to RANDU: BEWARE!\n",
    "    def __init__(self, seed=1234567890, A=0, B=65539, M = 2**31): \n",
    "        self.state = seed\n",
    "        self.A = A\n",
    "        self.B = B\n",
    "        self.M = M\n",
    "        \n",
    "    def getState(self):\n",
    "        return self.state, self.A, self.B, self.M\n",
    "    \n",
    "    def setState(self,seed=1234567890, A=0, B=65539, M = 2**31):\n",
    "        self.state = seed\n",
    "        self.A = A\n",
    "        self.B = B\n",
    "        self.M = M\n",
    "\n",
    "    def nextRandom(self):\n",
    "        self.state = (self.A + self.B * self.state) % self.M\n",
    "        return self.state/self.M\n",
    "\n",
    "    def random(self, size=None):  # vector of rands\n",
    "        if size==None:\n",
    "            return self.nextRandom()\n",
    "        else: \n",
    "            return np.reshape(np.array([self.nextRandom() for i in np.arange(np.prod(size))]), size)\n",
    "    \n",
    "    def randint(self, low=0, high=None, size=None):  # integer between low (inclusive) and high (exclusive)\n",
    "        if high==None:  # numpy.random.randint()-like behavior\n",
    "            high, low = low, 0\n",
    "        if size==None:\n",
    "            return low + np.floor(self.nextRandom()*(high-low)) # NOT AN ACCURATE ALGORITHM! See below.\n",
    "        else:\n",
    "            return low + np.floor(self.random(size=size)*(high-low))\n",
    "        "
   ]
  },
  {
   "cell_type": "markdown",
   "metadata": {
    "nbpresent": {
     "id": "7f9731a9-38b2-4c06-881f-e30ada533f21"
    },
    "slideshow": {
     "slide_type": "subslide"
    }
   },
   "source": [
    "### RANDU\n",
    "\n",
    "Particularly bad [linear congruential generator](https://en.wikipedia.org/wiki/Linear_congruential_generator) introduced by IBM in 1960s, widely copied.\n",
    "\n",
    "$$ X_{j+1} = 65539 X_j\\mod 2^{31}.$$\n",
    "\n",
    "Period is ($2^{29}$); all outputs are odd integers. \n",
    "\n",
    "Triples of values from RANDU fall on 15 planes in 3-dimensional space, as shown below."
   ]
  },
  {
   "cell_type": "code",
   "execution_count": 3,
   "metadata": {
    "collapsed": true,
    "nbpresent": {
     "id": "81e92cef-72a6-41a3-a4b5-2ec92a635751"
    },
    "scrolled": false,
    "slideshow": {
     "slide_type": "fragment"
    }
   },
   "outputs": [],
   "source": [
    "# generate triples using RANDU\n",
    "reps = int(10**5)\n",
    "randu = lcgRandom(12345)\n",
    "xs = np.transpose(randu.random(size=(reps,3)))"
   ]
  },
  {
   "cell_type": "code",
   "execution_count": 19,
   "metadata": {
    "nbpresent": {
     "id": "ccba6505-1d9f-4839-8da5-bcab6b1cd2b5"
    },
    "scrolled": false,
    "slideshow": {
     "slide_type": "subslide"
    }
   },
   "outputs": [
    {
     "data": {
      "image/png": "[encoded data removed]",
      "text/plain": [
       "<matplotlib.figure.Figure at 0x12bb2c7f0>"
      ]
     },
     "metadata": {},
     "output_type": "display_data"
    }
   ],
   "source": [
    "# plot the triples as points in R^3\n",
    "fig = plt.figure()\n",
    "ax = fig.add_subplot(111, projection='3d')\n",
    "ax.scatter(xs[0],xs[1], xs[2])\n",
    "\n",
    "plt.rcParams['figure.figsize'] = (18.0, 18.0) \n",
    "\n",
    "ax.view_init(-100,110)\n",
    "\n",
    "plt.show()"
   ]
  },
  {
   "cell_type": "markdown",
   "metadata": {
    "slideshow": {
     "slide_type": "slide"
    }
   },
   "source": [
    "### Wichmann-Hill (1982)\n",
    "\n",
    "Sum of 3 LCGs. Period is 6,953,607,871,644. \n",
    "\n",
    "    def WH(s1, s2, s3):\n",
    "        s1 = (171 * s1) % 30269\n",
    "        s2 = (172 * s2) % 30307\n",
    "        s3 = (170 * s3) % 30323\n",
    "        r = (s1/30269 + s2/30307 + s3/30323) %  1\n",
    "        return [r, s1, s2, s3]"
   ]
  },
  {
   "cell_type": "markdown",
   "metadata": {
    "nbpresent": {
     "id": "b7e2bbff-ba1b-4e39-a9e8-08737fc9a44d"
    },
    "slideshow": {
     "slide_type": "fragment"
    }
   },
   "source": [
    "<div class=\"alert alert-block alert-warning\"><big>The right way, the wrong way, and the Microsoft way.</big></div>\n",
    "\n",
    "WH generally not considered adequate for statistics, but was (nominally) the PRNG in Excel for several\n",
    "generations. \n",
    "\n",
    "- Excel did not allow the seed to be set, so analyses were not reproducible. \n",
    "- Excel's version sometimes gives negative numbers."
   ]
  },
  {
   "cell_type": "markdown",
   "metadata": {
    "nbpresent": {
     "id": "1159c8e2-d02d-4116-b7a1-6ddd1dc358a3"
    },
    "slideshow": {
     "slide_type": "subslide"
    }
   },
   "source": [
    "![mcCullough](./RandPics/notWichmannHill08.png)\n",
    "McCullough, B.D., 2008. Microsoft Excel's 'Not The Wichmann–Hill' random number generators\n",
    "_Computational Statistics & Data Analysis_, _52_, 4587&ndash;4593\n",
    "doi:10.1016/j.csda.2008.03.006"
   ]
  },
  {
   "cell_type": "markdown",
   "metadata": {
    "slideshow": {
     "slide_type": "subslide"
    }
   },
   "source": [
    "IMF Stress tests use Excel as of 2014\n",
    "\n",
    "![IMF Stress testing](./RandPics/IMF-stress.png)"
   ]
  },
  {
   "cell_type": "markdown",
   "metadata": {
    "slideshow": {
     "slide_type": "slide"
    }
   },
   "source": [
    "### Mersenne Twister (MT)  Matsumoto & Nishimura (1997)\n",
    "\n",
    "+ example of \"twisted generalized feedback shift register\"\n",
    "+ period $2^{19937}-1$, a Mersenne Prime\n",
    "+ $k$-distributed to 32-bit accuracy for all $k \\in \\{1, \\ldots, 623\\}$. \n",
    "+ passes DIEHARD and most of TestU01\n",
    "+ standard in many packages:\n",
    "    - GNU Octave, Maple, MATLAB, Mathematica, Python, R, Stata\n",
    "    - Apache, CMU Common Lisp, Embeddable Common Lisp, Free Pascal, GLib, PHP, GAUSS, IDL, Julia, Ruby, SageMath, Steel Bank Common Lisp, Scilab, Stata, GNU Scientific Library, GNU Multiple Precision Arithmetic Library, Microsoft Visual C++.\n",
    "    - SPSS and SAS offer MT, as does C++ (v11 and up)\n",
    "+ widely considered adequate for statistics&mdash;but not for crypto; we claim not, esp. for \"big data\"\n",
    "+ usual implementation has 624-dimensional state space, but TinyMT uses only 127 bits\n",
    "+ seeding complicated, since state is an array\n",
    "+ can take a while to \"burn in,\" especially for seeds with many zeros\n",
    "+ output for close seed states can be close\n",
    "+ 2002 update improves seeding\n",
    "+ completely predictable from 624 successive outputs\n",
    "+ problems discovered in 2007 (see TestU01, below)"
   ]
  },
  {
   "cell_type": "code",
   "execution_count": 5,
   "metadata": {
    "collapsed": true,
    "scrolled": false,
    "slideshow": {
     "slide_type": "subslide"
    }
   },
   "outputs": [],
   "source": [
    "# Python implementation of MT19937 from Wikipedia \n",
    "# https://en.wikipedia.org/wiki/Mersenne_Twister#Python_implementation\n",
    "\n",
    "def _int32(x):\n",
    "    # Get the 32 least significant bits.\n",
    "    return int(0xFFFFFFFF & x)\n",
    "\n",
    "class MT19937:\n",
    "\n",
    "    def __init__(self, seed):\n",
    "        # Initialize the index to 0\n",
    "        self.index = 624\n",
    "        self.mt = [0] * 624\n",
    "        self.mt[0] = seed  # Initialize the initial state to the seed\n",
    "        for i in range(1, 624):\n",
    "            self.mt[i] = _int32(\n",
    "                1812433253 * (self.mt[i - 1] ^ self.mt[i - 1] >> 30) + i)\n",
    "\n",
    "    def extract_number(self):\n",
    "        if self.index >= 624:\n",
    "            self.twist()\n",
    "\n",
    "        y = self.mt[self.index]\n",
    "\n",
    "        # Right shift by 11 bits\n",
    "        y = y ^ y >> 11\n",
    "        # Shift y left by 7 and take the bitwise and of 2636928640\n",
    "        y = y ^ y << 7 & 2636928640\n",
    "        # Shift y left by 15 and take the bitwise and of y and 4022730752\n",
    "        y = y ^ y << 15 & 4022730752\n",
    "        # Right shift by 18 bits\n",
    "        y = y ^ y >> 18\n",
    "\n",
    "        self.index = self.index + 1\n",
    "\n",
    "        return _int32(y)\n",
    "\n",
    "    def twist(self):\n",
    "        for i in range(624):\n",
    "            # Get the most significant bit and add it to the less significant\n",
    "            # bits of the next number\n",
    "            y = _int32((self.mt[i] & 0x80000000) +\n",
    "                       (self.mt[(i + 1) % 624] & 0x7fffffff))\n",
    "            self.mt[i] = self.mt[(i + 397) % 624] ^ y >> 1\n",
    "\n",
    "            if y % 2 != 0:\n",
    "                self.mt[i] = self.mt[i] ^ 0x9908b0df\n",
    "        self.index = 0"
   ]
  },
  {
   "cell_type": "markdown",
   "metadata": {
    "slideshow": {
     "slide_type": "slide"
    }
   },
   "source": [
    "### xorshift family\n",
    "\n",
    "Originated by Marsaglia, 2003.\n",
    "\n",
    "Vigna, S., 2014. Further scramblings of Marsaglia's xorshift generators. https://arxiv.org/abs/1404.0390\n",
    "\n",
    "128-bit xorshift+  Implemented in Python package randomstate https://pypi.python.org/pypi/randomstate/1.10.1\n",
    "\n",
    "    uint64_t s[2];\n",
    "\n",
    "    uint64_t xorshift128plus(void) {\n",
    "\t    uint64_t x = s[0];\n",
    "\t    uint64_t const y = s[1];\n",
    "\t    s[0] = y;\n",
    "\t    x ^= x << 23; // a\n",
    "\t    s[1] = x ^ y ^ (x >> 17) ^ (y >> 26); // b, c\n",
    "\t    return s[1] + y;\n",
    "    }\n",
    "    \n",
    "    \n",
    "1024-bit xorshift+\n",
    "\n",
    "    uint64_t s[16];\n",
    "    int p;\n",
    "    \n",
    "    uint64_t next(void) {\n",
    "        const uint64_t s0 = s[p];\n",
    "        uint64_t s1 = s[p = (p + 1) & 15];\n",
    "        const uint64_t result = s0 + s1;\n",
    "        s1 ^= s1 << 31; // a\n",
    "        s[p] = s1 ^ s0 ^ (s1 >> 11) ^ (s0 >> 30); // b, c\n",
    "    return result;\n",
    "}\n",
    "\n",
    "xorshift+ passes all the tests in BigCrush, has 128-bit state space and period $2^{128}-1$, but is \n",
    "only $(k-1)$-dimensionally equidistributed, where $k$ is the dimension of the distribution of the xorshift\n",
    "generator from which it's derived. E.g., for the 128-bit version, xorshift+ is only 1-dimensionally equidistributed."
   ]
  },
  {
   "cell_type": "markdown",
   "metadata": {
    "slideshow": {
     "slide_type": "slide"
    }
   },
   "source": [
    "## Other non-cryptographic PRNGs\n",
    "\n",
    "See http://www.pcg-random.org/ and the talk http://www.pcg-random.org/posts/stanford-colloquium-talk.html\n",
    "\n",
    "PCG family permutes the output of a LCG; good statistical properties and very fast and compact. Related to Rivest's RC5 cipher.\n",
    "\n",
    "Seems better than MT, xorshift+, et al. \n",
    "\n",
    "    // *Really* minimal PCG32 code / (c) 2014 M.E. O'Neill / pcg-random.org\n",
    "    // Licensed under Apache License 2.0 (NO WARRANTY, etc. see website)\n",
    "\n",
    "    typedef struct { uint64_t state;  uint64_t inc; } pcg32_random_t;\n",
    "\n",
    "    uint32_t pcg32_random_r(pcg32_random_t* rng)\n",
    "    {\n",
    "        uint64_t oldstate = rng->state;\n",
    "        // Advance internal state\n",
    "        rng->state = oldstate * 6364136223846793005ULL + (rng->inc|1);\n",
    "        // Calculate output function (XSH RR), uses old state for max ILP\n",
    "        uint32_t xorshifted = ((oldstate >> 18u) ^ oldstate) >> 27u;\n",
    "        uint32_t rot = oldstate >> 59u;\n",
    "        return (xorshifted >> rot) | (xorshifted << ((-rot) & 31));\n",
    "    }"
   ]
  },
  {
   "cell_type": "markdown",
   "metadata": {
    "slideshow": {
     "slide_type": "slide"
    }
   },
   "source": [
    "## Cryptographic hash functions\n",
    "\n",
    "1. produce fixed-length \"digest\" of an arbitrarily long \"message\": $H:\\{0, 1\\}^* \\rightarrow \\{0, 1\\}^L$.\n",
    "1. inexpensive to compute\n",
    "1. non-invertible (\"one-way,\" hard to find pre-image of any hash except by exhaustive enumeration)\n",
    "1. collision-resistant (hard to find $M_1 \\ne M_2$ such that $H(M_1) = H(M_2)$)\n",
    "1. small change to input produces big change to output (\"unpredictable,\" input and output effectively independent)\n",
    "1. equidistributed: bits of the hash are essentially random \n",
    "\n",
    "Summary: _as if_ $H(M)$ is random $L$-bit string is assigned to $M$ in a way that's essentially unique."
   ]
  },
  {
   "cell_type": "markdown",
   "metadata": {
    "slideshow": {
     "slide_type": "subslide"
    }
   },
   "source": [
    "## 1 step of SHA-256\n",
    "By User:kockmeyer - Own work, CC BY-SA 3.0, https://commons.wikimedia.org/w/index.php?curid=1823488\n",
    "\n",
    "![SHA-2](./RandPics/SHA-2.svg)\n",
    "\n",
    "$$ \\mbox{Ch} (E,F,G) \\equiv (E\\land F)\\oplus (\\neg E\\land G) $$\n",
    "$$ \\mbox{Ma} (A,B,C) \\equiv (A\\land B)\\oplus (A\\land C)\\oplus (B\\land C) $$\n",
    "$$ \\Sigma _0 (A) \\equiv (A\\!\\ggg \\!2)\\oplus (A\\!\\ggg \\!13)\\oplus (A\\!\\ggg \\!22) $$\n",
    "$$ \\Sigma _1 (E) \\equiv (E\\!\\ggg \\!6)\\oplus (E\\!\\ggg \\!11)\\oplus (E\\!\\ggg \\!25) $$\n",
    "$$\\boxplus  \\mbox{ is addition mod } 2^{32}$$"
   ]
  },
  {
   "cell_type": "markdown",
   "metadata": {
    "slideshow": {
     "slide_type": "skip"
    }
   },
   "source": [
    "XKCD: Geohashing\n",
    "![xkcd geohashing](https://imgs.xkcd.com/comics/geohashing.png)"
   ]
  },
  {
   "cell_type": "markdown",
   "metadata": {
    "slideshow": {
     "slide_type": "subslide"
    }
   },
   "source": [
    "XKCD https://xkcd.com/538/\n",
    "\n",
    "![XKCD security](https://imgs.xkcd.com/comics/security.png)"
   ]
  },
  {
   "cell_type": "markdown",
   "metadata": {
    "slideshow": {
     "slide_type": "subslide"
    }
   },
   "source": [
    "#### Simple, hash-based PRNG\n",
    "\n",
    "Generate a random string $S$ of reasonable length, e.g., 20 digits.\n",
    "\n",
    "$$ X_i = {\\mbox{Hash}}(S+i),$$\n",
    "\n",
    "where $+$ denotes string concatenation, and the resulting string is interpreted as a (long) hexadecimal number.\n",
    "\n",
    "**\"Counter mode.\"  Hash-based generators of this type have unbounded state spaces.**"
   ]
  },
  {
   "cell_type": "markdown",
   "metadata": {
    "slideshow": {
     "slide_type": "skip"
    }
   },
   "source": [
    "Implementation in Python by Ron Rivest: http://people.csail.mit.edu/rivest/sampler.py\n",
    "\n",
    "Implementation in angular-js by Chris Jerdonek: https://github.com/cjerdonek/quick-sampler\n",
    "\n",
    "Implementation in JavaScript by Philip Stark: https://www.stat.berkeley.edu/~stark/Java/Html/sha256Rand.htm"
   ]
  },
  {
   "cell_type": "markdown",
   "metadata": {
    "slideshow": {
     "slide_type": "slide"
    }
   },
   "source": [
    "![Rivest & Stark dice](./RandPics/napa_rivest_stark.jpg)"
   ]
  },
  {
   "cell_type": "markdown",
   "metadata": {
    "slideshow": {
     "slide_type": "subslide"
    }
   },
   "source": [
    "#### More complicated hash-based PRNGs\n",
    "\n",
    "Save randomness to re-seed, etc.\n",
    "\n",
    "See `Fortuna`, https://www.schneier.com/academic/fortuna/\n",
    "\n",
    "#### Other nominally cryptographic methods\n",
    "\n",
    "- Blum Blum Shub\n",
    "- Yarrow\n",
    "- ChaCha20\n",
    "- Dual elliptic curve\n",
    "- &hellip;"
   ]
  },
  {
   "cell_type": "markdown",
   "metadata": {
    "nbpresent": {
     "id": "502cda20-4d73-4a46-a8e1-5b981231f32f"
    },
    "slideshow": {
     "slide_type": "skip"
    }
   },
   "source": [
    "+ PHP Argyros & Kiayias Pwning Random Number Generators\n",
    "+ Juniper Networks backdoor https://www.wired.com/2015/12/researchers-solve-the-juniper-mystery-and-they-say-its-partially-the-nsas-fault/ https://threatpost.com/questions-linger-as-juniper-removes-backdoored-dual_ec-rng/115849/ https://www.schneier.com/blog/archives/2015/12/back_door_in_ju.html\n",
    "+ Debian OpenSSL \n",
    "    - https://www.exploit-db.com/exploits/5720/\n",
    "    - https://www.rapid7.com/db/vulnerabilities/openssl-debian-weak-keys\n",
    "+ Norwegian Voting System randomness check\n",
    "+ Other exploits\n",
    "    - https://www.nist.gov/news-events/news/2014/04/nist-removes-cryptography-algorithm-random-number-generator-recommendations\n",
    "    - https://people.eecs.berkeley.edu/~daw/papers/ddj-netscape.html\n",
    "\n",
    "+ Bitcoin on Android \n",
    "\n",
    "+ R"
   ]
  },
  {
   "cell_type": "markdown",
   "metadata": {
    "slideshow": {
     "slide_type": "slide"
    }
   },
   "source": [
    "# Some trainwrecks"
   ]
  },
  {
   "cell_type": "markdown",
   "metadata": {
    "slideshow": {
     "slide_type": "subslide"
    }
   },
   "source": [
    "## Microsoft Visual Studio system.random, 2011\n",
    "\n",
    "![Microsoft](./RandPics/visualStudiosysRand.png)\n",
    "\n",
    "https://connect.microsoft.com/VisualStudio/feedback/details/634761/system-random-serious-bug"
   ]
  },
  {
   "cell_type": "markdown",
   "metadata": {
    "slideshow": {
     "slide_type": "subslide"
    }
   },
   "source": [
    "![XP2](./RandPics/xp2k.png)"
   ]
  },
  {
   "cell_type": "markdown",
   "metadata": {
    "slideshow": {
     "slide_type": "subslide"
    }
   },
   "source": [
    "## Aristocrat Leisure of Australia Slot Machines\n",
    "\n",
    "<img src=\"./RandPics/wiredRussianSlot.png\" alt=\"Wired Slots\" height=\"600px\" />"
   ]
  },
  {
   "cell_type": "markdown",
   "metadata": {
    "slideshow": {
     "slide_type": "subslide"
    }
   },
   "source": [
    "<img src=\"./RandPics/russiaLeisure.png\" alt=\"Russian hack\" height=\"600px\" />"
   ]
  },
  {
   "cell_type": "markdown",
   "metadata": {
    "nbpresent": {
     "id": "670ea550-74b1-4e7d-b80f-eb948d97af9e"
    },
    "slideshow": {
     "slide_type": "subslide"
    }
   },
   "source": [
    "## Dual Elliptic Curve\n",
    "\n",
    "![dual EC](./RandPics/dualEC-1.png)"
   ]
  },
  {
   "cell_type": "markdown",
   "metadata": {
    "nbpresent": {
     "id": "725e6cb9-5f10-4507-a5fc-d1a780ebc07b"
    },
    "slideshow": {
     "slide_type": "subslide"
    }
   },
   "source": [
    "![dual EC](./RandPics/dualEC-2.png)\n",
    "Bernstein, D.J., T. Lange, and R. Niederhagen, 2016. Dual EC: A Standardized Backdoor, in _The New Codebreakers, Essays Dedicated to David Kahn on the Occasion of his 85th Birthday_, Ryan, P.Y.A., D. Naccache, and J-J Quisquater, eds., Springer, Berlin."
   ]
  },
  {
   "cell_type": "markdown",
   "metadata": {
    "slideshow": {
     "slide_type": "subslide"
    }
   },
   "source": [
    "## GnuPG RNG bug (18 years, 1998--2016) \n",
    "\n",
    "> \"An attacker who obtains 4640 bits from the RNG can trivially predict the next 160 bits of output\" \n",
    "\n",
    "https://threatpost.com/gpg-patches-18-year-old-libgcrypt-rng-bug/119984/"
   ]
  },
  {
   "cell_type": "markdown",
   "metadata": {
    "slideshow": {
     "slide_type": "subslide"
    }
   },
   "source": [
    "## RSA\n",
    "\n",
    "https://www.schneier.com/blog/archives/2012/02/lousy_random_nu.html\n",
    "\n",
    "![Lenstra](./RandPics/lenstraEtal.png)\n",
    "\n",
    "> \"An analysis comparing millions of RSA public keys gathered from the Internet was announced in 2012 by Lenstra, Hughes, Augier, Bos, Kleinjung, and Wachter. They were able to factor 0.2% of the keys using only Euclid's algorithm. They exploited a weakness unique to cryptosystems based on integer factorization. If n = pq is one public key and n′ = p′q′ is another, then if by chance p = p′, then a simple computation of gcd(n,n′) = p factors both n and n′, totally compromising both keys. Nadia Heninger, part of a group that did a similar experiment, said that the bad keys occurred almost entirely in embedded applications, and explains that the one-shared-prime problem uncovered by the two groups results from situations where the pseudorandom number generator is poorly seeded initially and then reseeded between the generation of the first and second primes.\""
   ]
  },
  {
   "cell_type": "markdown",
   "metadata": {
    "slideshow": {
     "slide_type": "subslide"
    }
   },
   "source": [
    "## PHP\n",
    "\n",
    "![php](./RandPics/argyrosKiayias.png)"
   ]
  },
  {
   "cell_type": "markdown",
   "metadata": {
    "slideshow": {
     "slide_type": "subslide"
    }
   },
   "source": [
    "## Bitcoin on Android: Java nonce collision \n",
    "\n",
    "> \"In August 2013, it was revealed that bugs in the Java class SecureRandom could generate collisions in the k nonce values used for ECDSA in implementations of Bitcoin on Android. When this occurred the private key could be recovered, in turn allowing stealing Bitcoins from the containing wallet.\"\n",
    "\n",
    "https://en.wikipedia.org/wiki/Random_number_generator_attack#Java_nonce_collision"
   ]
  },
  {
   "cell_type": "markdown",
   "metadata": {
    "nbpresent": {
     "id": "6f3afa49-37e4-4e4c-8394-e55d23679c9e"
    },
    "slideshow": {
     "slide_type": "subslide"
    }
   },
   "source": [
    "## Debian OpenSSL\n",
    "\n",
    "![openSSL](./RandPics/openSSL.png)\n",
    "\n",
    "Valgrind and Purify warned about uninitialized data. \n",
    "Only remaining entropy in seed was the process ID. \n",
    "\n",
    "Default maximum process ID is 32,768 in Linux.\n",
    "\n",
    "Took 2 years (2006--2008) to notice the bug."
   ]
  },
  {
   "cell_type": "markdown",
   "metadata": {
    "nbpresent": {
     "id": "300c3128-2f26-440d-bd66-d44bad00fad9"
    },
    "slideshow": {
     "slide_type": "subslide"
    }
   },
   "source": [
    "XKCD \n",
    "\n",
    "![xkcd](https://imgs.xkcd.com/comics/security_holes.png)"
   ]
  },
  {
   "cell_type": "markdown",
   "metadata": {
    "slideshow": {
     "slide_type": "slide"
    }
   },
   "source": [
    "### Generating a random integer uniformly distributed on $\\{1, \\ldots, m\\}$"
   ]
  },
  {
   "cell_type": "markdown",
   "metadata": {
    "slideshow": {
     "slide_type": "fragment"
    }
   },
   "source": [
    "Naive method: start with $X \\sim U[0,1)$ and define $Y \\equiv 1 + \\lfloor mX \\rfloor$. "
   ]
  },
  {
   "cell_type": "markdown",
   "metadata": {
    "slideshow": {
     "slide_type": "fragment"
    }
   },
   "source": [
    "<div class=\"alert alert-block alert-info\"><big>In theory, there's no difference between theory and practice, but in practice, there is. <br/>\n",
    "&nbsp;&nbsp;&nbsp;&nbsp;&nbsp;&nbsp;&nbsp;&nbsp;&mdash;Jan L.A. van de Snepscheut</big>\n",
    "</div>"
   ]
  },
  {
   "cell_type": "markdown",
   "metadata": {
    "slideshow": {
     "slide_type": "fragment"
    }
   },
   "source": [
    "In practice, $X$ is not really $U[0,1)$: derived by normalizing a PRN\n",
    "that's (supposed to be) uniform on $w$-bit integers. "
   ]
  },
  {
   "cell_type": "markdown",
   "metadata": {
    "slideshow": {
     "slide_type": "subslide"
    }
   },
   "source": [
    "+ If $m > 2^w$, at least $m-2^w$ values will have probability 0 instead of probability $1/m$.\n",
    "\n",
    "+ Unless $m$ is a power of 2, the distribution of $Y$ isn't uniform on $\\{1, \\ldots, m\\}$. \n",
    "\n",
    "    - For $m < 2^w$, the ratio of the largest to smallest selection probability is, to first order,  $1+ m 2^{-w}$. (See, e.g., Knuth v2 3.4.1.A.)\n",
    "\n",
    "    - For $m = 10^9$ and $w=32$, $1 + m 2^{-w} \\approx 1.233$. \n",
    "\n",
    "    - If $w=32$, then for $m>2^{32}=4.24e9$, some values will have probability 0. \n",
    "    \n",
    "    - Until relatively recently, R did not support 64-bit integers."
   ]
  },
  {
   "cell_type": "markdown",
   "metadata": {
    "slideshow": {
     "slide_type": "subslide"
    }
   },
   "source": [
    "#### More accurate method\n",
    "A better way to generate a (pseudo-)random integer on $\\{1, \\ldots m\\}$ from a (pseudo-random) $w$-bit integer in practice is as follows:\n",
    "\n",
    "1. Set $\\mu = \\log_2(m-1)$.\n",
    "1. Define a $w$-bit _mask_ consisting of $\\mu$ bits set to 1 and $(w-\\mu)$ bits set to zero.\n",
    "1. Generate a random $w$-bit integer $Y$. \n",
    "1. Define $y$ to be the bitwise `and` of $Y$ and the mask.\n",
    "1. If $y \\le m-1$, output $x = y+1$; otherwise, return to step 3.\n",
    "\n",
    "This is how random integers are generated in numpy by `numpy.random.randint()`.\n",
    "However, `numpy.random.choice()` does something else that's biased: it finds the closest integer to $mX$.\n",
    "\n",
    "In `R`, one would generally use the function\n",
    "\n",
    "    sample(1:m, k, replace=FALSE) \n",
    "    \n",
    "to draw $k$ pseudo-random integers between $1$ and $m$. \n",
    "It seems that `sample()` uses variant of the faulty `1 + floor(m*X)` approach. "
   ]
  },
  {
   "cell_type": "markdown",
   "metadata": {
    "slideshow": {
     "slide_type": "subslide"
    }
   },
   "source": [
    "## R random integer generator / sample()"
   ]
  },
  {
   "cell_type": "markdown",
   "metadata": {
    "slideshow": {
     "slide_type": "subslide"
    }
   },
   "source": [
    "```\n",
    "if (dn > INT_MAX || k > INT_MAX) {\n",
    "\t    PROTECT(y = allocVector(REALSXP, k));\n",
    "\t    if (replace) {\n",
    "\t\tdouble *ry = REAL(y);\n",
    "\t\tfor (R_xlen_t i = 0; i < k; i++) ry[i] = floor(dn * ru() + 1);\n",
    " \t    } else {\n",
    "#ifdef LONG_VECTOR_SUPPORT\n",
    "\t\tR_xlen_t n = (R_xlen_t) dn;\n",
    "\t\tdouble *x = (double *)R_alloc(n, sizeof(double));\n",
    "\t\tdouble *ry = REAL(y);\n",
    "\t\tfor (R_xlen_t i = 0; i < n; i++) x[i] = (double) i;\n",
    "\t\tfor (R_xlen_t i = 0; i < k; i++) {\n",
    "\t\t    R_xlen_t j = (R_xlen_t)floor(n * ru());\n",
    "\t\t    ry[i] = x[j] + 1;\n",
    "\t\t    x[j] = x[--n];\n",
    "\t\t}\n",
    "#else\n",
    "\t\terror(_(\"n >= 2^31, replace = FALSE is only supported on 64-bit platforms\"));\n",
    "#endif\n",
    "\t    }\n",
    "\t} else {\n",
    "\t    int n = (int) dn;\n",
    "\t    PROTECT(y = allocVector(INTSXP, k));\n",
    "\t    int *iy = INTEGER(y);\n",
    "\t    /* avoid allocation for a single sample */\n",
    "\t    if (replace || k < 2) {\n",
    "\t\tfor (int i = 0; i < k; i++) iy[i] = (int)(dn * unif_rand() + 1);\n",
    "\t    } else {\n",
    "\t\tint *x = (int *)R_alloc(n, sizeof(int));\n",
    "\t\tfor (int i = 0; i < n; i++) x[i] = i;\n",
    "\t\tfor (int i = 0; i < k; i++) {\n",
    " \t\t    int j = (int)(n * unif_rand());\n",
    " \t\t    iy[i] = x[j] + 1;\n",
    " \t\t    x[j] = x[--n];\n",
    " \t\t}\n",
    " \t}\n",
    "```"
   ]
  },
  {
   "cell_type": "markdown",
   "metadata": {
    "slideshow": {
     "slide_type": "subslide"
    }
   },
   "source": [
    "```\n",
    "/* Our PRNGs have at most 32 bit of precision, and all have at least 25 */\n",
    "\n",
    "static R_INLINE double ru()\n",
    "{\n",
    "    double U = 33554432.0;\n",
    "    return (floor(U*unif_rand()) + unif_rand())/U;\n",
    "}\n",
    "```"
   ]
  },
  {
   "cell_type": "markdown",
   "metadata": {
    "nbpresent": {
     "id": "071f0865-6c89-4e59-8798-e7891473a5ab"
    },
    "slideshow": {
     "slide_type": "slide"
    }
   },
   "source": [
    "## How can you tell whether a sequence is random?\n",
    "\n",
    "http://dilbert.com/strip/2001-10-25"
   ]
  },
  {
   "cell_type": "markdown",
   "metadata": {
    "nbpresent": {
     "id": "0e5f4c39-1a90-4a01-ac8c-74bebe97e1bd"
    },
    "slideshow": {
     "slide_type": "subslide"
    }
   },
   "source": [
    "## Tests of PRNGS\n",
    "\n",
    "+ Theoretical analyses, e.g., Knuth (1969), Marsaglia (1968)\n",
    "\n",
    "+ Statistical tests"
   ]
  },
  {
   "cell_type": "markdown",
   "metadata": {
    "nbpresent": {
     "id": "630cf3cf-a093-403b-8bde-e1070ebe93a7"
    },
    "slideshow": {
     "slide_type": "subslide"
    }
   },
   "source": [
    "#### Knuth (1969) _The Art of Computer Programming_, v.2 \n",
    "\n",
    "+ 11 types of behavior: equidistribution, series, gaps, poker, coupon collector, permutation frequency, runs, max of $t$, collisions, birthday spacings, serial correlation\n",
    "+ tests on subsequences, spectral test\n",
    "+ Many $\\chi^2$-based tests\n",
    "+ Kolmogorov-Smirnov test for uniformity\n",
    "+ Sphere-packing\n",
    "+ **MORE**"
   ]
  },
  {
   "cell_type": "markdown",
   "metadata": {
    "nbpresent": {
     "id": "47249019-8c2a-40c7-a3ab-54b1c50b57d9"
    },
    "slideshow": {
     "slide_type": "subslide"
    }
   },
   "source": [
    "#### Marsaglia (1996) DIEHARD tests\n",
    "\n",
    "+ Birthday spacings\n",
    "+ Overlapping permutations of 5 random numbers\n",
    "+ Ranks of binary matrices of various dimensions\n",
    "+ Monkeys at typewriters: count overlapping \"words\" in strings of bits\n",
    "+ Count the 1s in bytes; translate to \"words.\"\n",
    "+ Parking lot test, 100 &times; 100 square lot. Count non-collisions.\n",
    "+ Minimum distance test: Min distance between 8,000 random points in a 10,000 &times; 10,000 square. \n",
    "+ Sphere-packing in a cube at random; diameter of smallest sphere.\n",
    "+ Squeeze test: Multiply 231 by random floats on (0,1) until hitting 1.\n",
    "+ Overlapping sums of 100 random (0,1) floats.\n",
    "+ Runs test for random floats\n",
    "+ #wins and # rolls in 200,000 games of craps"
   ]
  },
  {
   "cell_type": "markdown",
   "metadata": {
    "slideshow": {
     "slide_type": "subslide"
    }
   },
   "source": [
    "#### L’Ecuyer and Simard (2007) TestU01 http://dl.acm.org/citation.cfm?doid=1268776.1268777\n",
    "\n",
    "+ Kolmogorov-Smirnov, Cr&aacute;mer-von Mises, Anderson-Darling, clustering, runs, gaps, hits in partition of a hypercube (collisions, empty cells, time between visits, ...), birthday spacings, close pairs, coupon collector, sum collector, complexity of bit strings (__linear complexity__, jump complexity, jump size complexity, Lempel-Ziv complexity), spectral tests on bit strings, autocorrelation of bits, runs and gaps in bits, ..., ranks of binary matrices, longest runs, Hamming weights, random walks, close pairs of binary sequences, "
   ]
  },
  {
   "cell_type": "markdown",
   "metadata": {
    "nbpresent": {
     "id": "9c499181-0004-4f7b-9fa7-02eaf7f8d7ca"
    },
    "slideshow": {
     "slide_type": "subslide"
    }
   },
   "source": [
    "### NIST Tests\n",
    "\n",
    "+ http://csrc.nist.gov/groups/ST/toolkit/rng/stats_tests.html\n",
    "+ http://csrc.nist.gov/groups/ST/toolkit/rng/documents/SP800-22rev1a.pdf\n",
    "\n",
    "![NIST](./RandPics/NISTTests.png)"
   ]
  },
  {
   "cell_type": "markdown",
   "metadata": {
    "nbpresent": {
     "id": "845c1885-481a-44f1-b50e-0a738fee0629"
    },
    "slideshow": {
     "slide_type": "skip"
    }
   },
   "source": [
    "#### Proposed new tests\n",
    "\n",
    "+ Multinomial range test\n",
    "+ Sequential probability ratio tests using:\n",
    "    - $s$ most common samples for particular sampling algorithm\n",
    "    - frequency of derangements in random permutations"
   ]
  },
  {
   "cell_type": "markdown",
   "metadata": {
    "slideshow": {
     "slide_type": "slide"
    }
   },
   "source": [
    "## Permutations\n",
    "\n",
    "$n!$ possible permutations of $n$ distinct objects.\n",
    "\n",
    "$n!$ grows quickly with $n$: \n",
    "\n",
    "$$ n! \\sim \\sqrt {2\\pi n}\\left({\\frac {n}{e}}\\right)^n (\\mbox{Stirling's approximation})$$ "
   ]
  },
  {
   "cell_type": "markdown",
   "metadata": {
    "slideshow": {
     "slide_type": "slide"
    }
   },
   "source": [
    "## Random Sampling\n",
    "\n",
    "One of the most fundamental tools in Statistics.\n",
    "\n",
    "+ Surveys and extrapolation\n",
    "    - Opinion surveys and polls\n",
    "    - Census (for some purposes) and Current Population Survey\n",
    "    - Environmental statistics\n",
    "    - Litigation, including class actions, discrimination, ...\n",
    "+ Experiments\n",
    "    - Medicine / clinical trials\n",
    "    - Agriculture\n",
    "    - Marketing\n",
    "    - Product development\n",
    "+ Quality control and auditing\n",
    "    - Process control\n",
    "    - Financial auditing\n",
    "    - Healthcare auditing\n",
    "    - Election auditing\n",
    "+ Sampling and resampling methods\n",
    "    - Bootstrap\n",
    "    - Permutation tests\n",
    "    - MCMC\n",
    "\n",
    "etc."
   ]
  },
  {
   "cell_type": "markdown",
   "metadata": {
    "slideshow": {
     "slide_type": "subslide"
    }
   },
   "source": [
    "## Simple random sampling\n",
    "\n",
    "Draw $k \\le n$ items from a population of $n$ items, in such a way that\n",
    "each of the $n \\choose k$ subsets of size $k$ is equally likely."
   ]
  },
  {
   "cell_type": "markdown",
   "metadata": {
    "slideshow": {
     "slide_type": "fragment"
    }
   },
   "source": [
    "Many standard statistical methods assume the sample is drawn in this way, or allocated between treatment and control in this way (e.g., $k$ of $n$ subjects are assigned to treatment, and the remaining $n-k$ to control)."
   ]
  },
  {
   "cell_type": "markdown",
   "metadata": {
    "slideshow": {
     "slide_type": "slide"
    }
   },
   "source": [
    "## Pigeonhole principle\n",
    "\n",
    "If you put $N>n$ pigeons in $n$ pigeonholes, then at least one\n",
    "pigeonhole must contain more than one pigeon."
   ]
  },
  {
   "cell_type": "markdown",
   "metadata": {
    "slideshow": {
     "slide_type": "fragment"
    }
   },
   "source": [
    "## Corollary\n",
    "At most $n$ pigeons can be put in $n$ pigeonholes if at most\n",
    "one pigeon is put in each hole."
   ]
  },
  {
   "cell_type": "markdown",
   "metadata": {
    "nbpresent": {
     "id": "cafedd64-2342-4b7d-8ca2-ba0ebf738d25"
    },
    "slideshow": {
     "slide_type": "subslide"
    }
   },
   "source": [
    "## Stirling bounds on permutations\n",
    "\n",
    "$$ e n^{n+1/2} e^{-n} \\ge n! \\ge \\sqrt{2 \\pi} n^{n+1/2} e^{-n}.$$ "
   ]
  },
  {
   "cell_type": "markdown",
   "metadata": {
    "nbpresent": {
     "id": "ad1a7772-e30b-4369-8913-cd7b17e7be8e"
    },
    "slideshow": {
     "slide_type": "slide"
    }
   },
   "source": [
    "## Sampling without replacement\n",
    "\n",
    "#### Entropy bounds\n",
    "\n",
    "$$ \\frac{2^{nH(k/n)}}{n+1} \\le {n \\choose k} \\le 2^{nH(k/n)},$$\n",
    "\n",
    "where $H(q) \\equiv -q \\log_2(q) - (1-q) \\log_2 (1-q)$.\n",
    "\n",
    "#### Stirling bounds\n",
    "\n",
    "For $\\ell \\ge 1$ and $m \\ge 2$,\n",
    "\n",
    "$$ { {\\ell m } \\choose { \\ell }} \\ge \\frac{m^{m(\\ell-1)+1}}{\\sqrt{\\ell} (m-1)^{(m-1)(\\ell-1)}}. $$"
   ]
  },
  {
   "cell_type": "markdown",
   "metadata": {},
   "source": [
    "## Sampling with replacement\n",
    "\n",
    "$n^k$ possible samples of size $k$ from $n$ items"
   ]
  },
  {
   "cell_type": "code",
   "execution_count": 6,
   "metadata": {
    "slideshow": {
     "slide_type": "skip"
    }
   },
   "outputs": [
    {
     "name": "stdout",
     "output_type": "stream",
     "text": [
      "-54958.82305773146\n",
      "2.4795998617142972e-68\n"
     ]
    }
   ],
   "source": [
    "def stirling_lower_bound(n):\n",
    "    return math.sqrt(2*math.pi)*n**(n+.5)*math.e**(-n)\n",
    "\n",
    "def stirling_lower_bound_log(n):\n",
    "    return math.log(2*math.pi)/2+(n+.5)*math.log(n)-n*math.log(math.e)\n",
    "\n",
    "def stirling_upper_bound_log(n):\n",
    "    return 1+(n+.5)*math.log(n)-n*math.log(math.e)\n",
    "\n",
    "print(math.log(2**32)-stirling_lower_bound_log(7000))\n",
    "print(2/math.factorial(52))"
   ]
  },
  {
   "cell_type": "markdown",
   "metadata": {
    "nbpresent": {
     "id": "72344475-defb-4fc8-bf4e-78b774924ebd"
    },
    "slideshow": {
     "slide_type": "subslide"
    }
   },
   "source": [
    "## Sizes of some coops & flocks\n",
    "\n",
    "| Expression     | full      |  scientific notation | \n",
    "|:---------------:|----------:|----------:|\n",
    "|$2^{32}$        | 4,294,967,296 | 4.29e9 |\n",
    "|$2^{64}$        |   18,446,744,073,709,551,616 | 1.84e19|\n",
    "|$2^{128}$       |            | 3.40e38 |\n",
    "|$2^{32 \\times 624}$ | | 9.27e6010|\n",
    "|$13!$      |                           6,227,020,800 | 6.23e9|\n",
    "|$21!$      |     51,090,942,171,709,440,000 | 5.11e19|                        \n",
    "|$35!$      |                                    | 1.03e40|\n",
    "|$2084!$     |                                                 | 3.73e6013 |\n",
    "|${50 \\choose 10}$   |        10,272,278,170 | 1.03e10|\n",
    "|${100 \\choose 10}$ | 17,310,309,456,440 | 1.73e13|\n",
    "|${500 \\choose 10}$ |         |     2.4581e20 |\n",
    "|$\\frac{2^{32}}{{50 \\choose 10}}$   | 0.418 | |\n",
    "|$\\frac{2^{64}}{{500 \\choose 10}}$ | 0.075 | |\n",
    "|$\\frac{2^{32}}{7000!}$ | | $<$ 1e-54,958 |\n",
    "|$\\frac{2}{52!}$ | | 2.48e-68 |\n",
    "\n"
   ]
  },
  {
   "cell_type": "markdown",
   "metadata": {
    "slideshow": {
     "slide_type": "slide"
    }
   },
   "source": [
    "## $L_1$ bounds\n",
    "\n",
    "Suppose ${\\mathbb P}_0$ and ${\\mathbb P}_1$ are probability distributions on a common measurable space. \n",
    "\n",
    "If there is some set $S$ for which ${\\mathbb P}_0 = \\epsilon$ and ${\\mathbb P}_1(S) = 0$, then $\\|{\\mathbb P}_0 - {\\mathbb P}_1 \\|_1 \\ge 2 \\epsilon$."
   ]
  },
  {
   "cell_type": "markdown",
   "metadata": {
    "slideshow": {
     "slide_type": "fragment"
    }
   },
   "source": [
    "Thus there is a function $f$ with $|f| \\le 1$ such that \n",
    "\n",
    "$${\\mathbb E}_{{\\mathbb P}_0}f -  {\\mathbb E}_{{\\mathbb P}_1}f \\ge 2 \\epsilon.$$"
   ]
  },
  {
   "cell_type": "markdown",
   "metadata": {
    "slideshow": {
     "slide_type": "fragment"
    }
   },
   "source": [
    "- If PRNG has $n$ states and want to generate $N>n$ equally likely outcomes, at least $N-n$ outcomes will have probability zero instead of $1/N$."
   ]
  },
  {
   "cell_type": "markdown",
   "metadata": {
    "slideshow": {
     "slide_type": "fragment"
    }
   },
   "source": [
    "- $\\| \\mbox{true} - \\mbox{desired} \\|_1 \\ge 2 \\times \\frac{N-n}{N}$"
   ]
  },
  {
   "cell_type": "markdown",
   "metadata": {
    "slideshow": {
     "slide_type": "slide"
    }
   },
   "source": [
    "### Random sampling\n",
    "\n",
    "Given a good source of randomness, many ways to draw a simple random sample."
   ]
  },
  {
   "cell_type": "markdown",
   "metadata": {
    "slideshow": {
     "slide_type": "fragment"
    }
   },
   "source": [
    "One basic approach is like shuffling a deck of $n$ cards, then dealing the top $k$: permute the population at random, then take the first $k$ elements of the permutation to be the sample."
   ]
  },
  {
   "cell_type": "markdown",
   "metadata": {
    "nbpresent": {
     "id": "8fdde283-a832-4474-ab5e-ef3c9761d656"
    },
    "slideshow": {
     "slide_type": "fragment"
    }
   },
   "source": [
    "There are a number of standard ways to generate a random permutation&mdash;i.e., to shuffle the deck."
   ]
  },
  {
   "cell_type": "markdown",
   "metadata": {
    "nbpresent": {
     "id": "a706651a-ad14-4c8f-b945-84478d65f78c"
    },
    "slideshow": {
     "slide_type": "subslide"
    }
   },
   "source": [
    "### Algorithm `PIKK` (permute indices and keep $k$)\n",
    "\n",
    "For instance, if we had a way to generate independent, identically distributed (iid) $U[0,1]$ random numbers, we could do it as follows:\n",
    "\n",
    "**Algorithm `PIKK`**\n",
    "\n",
    "+ assign iid $U[0,1]$ numbers to the $n$ elements of the population\n",
    "+ sort on that number (break ties randomly)\n",
    "+ the sample consists of first $k$ items in sorted list \n",
    "+ amounts to generating a random permutation of the population, then taking first $k$.\n",
    "+ if the numbers really are iid, every permutation is equally likely, and first $k$ are an SRS\n",
    "+ requires $n$ random numbers (and sorting)"
   ]
  },
  {
   "cell_type": "code",
   "execution_count": 7,
   "metadata": {
    "collapsed": true,
    "nbpresent": {
     "id": "0e780766-11ca-4f79-8f44-01a3d6cbe624"
    },
    "scrolled": false,
    "slideshow": {
     "slide_type": "subslide"
    }
   },
   "outputs": [],
   "source": [
    "def PIKK(n,k, gen=np.random):\n",
    "    try: \n",
    "        x = gen.random(n)\n",
    "    except TypeError:\n",
    "        x = np.array([gen.random() for i in np.arange(n)])\n",
    "    return set(np.argsort(x)[0:k])"
   ]
  },
  {
   "cell_type": "markdown",
   "metadata": {
    "slideshow": {
     "slide_type": "subslide"
    }
   },
   "source": [
    "There are more efficient ways to generate a random permutation than assigning a number to each element and sorting, for instance the \"Fisher-Yates shuffle\" or \"Knuth shuffle\" (Knuth attributes it to Durstenfeld). \n",
    "\n",
    "**Algorithm Fisher-Yates-Knuth-Durstenfeld `shuffle` (backwards version)**\n",
    "\n",
    "    for i=1, ..., n-1:\n",
    "        J <- random integer uniformly distributed on {i, ..., n}\n",
    "        (a[J], a[i]) <- (a[i], a[J])\n",
    "        \n",
    "This requires the ability to generate independent random integers on various ranges. Doesn't require sorting."
   ]
  },
  {
   "cell_type": "markdown",
   "metadata": {
    "nbpresent": {
     "id": "3bc782e1-c678-499f-8ef8-3e7c6071f80a"
    },
    "slideshow": {
     "slide_type": "subslide"
    }
   },
   "source": [
    "There's a version suitable for streaming, i.e., generating a random permutation of a list that has an (initially) unknown number $n$ of elements:\n",
    "\n",
    "**Algorithm Fisher-Yates-Knuth-Durstenfeld `shuffle` (streaming version)**\n",
    "\n",
    "    i <- 0\n",
    "    a = []\n",
    "    while there are records left:\n",
    "        i <- i+1\n",
    "        J <- random integer uniformly distributed on {1, ..., i}\n",
    "        if J < i:\n",
    "            a[i] <- a[J]\n",
    "            a[J] <- next record\n",
    "        else:\n",
    "            a[i] <- next record\n",
    "\n",
    "Again, need to be able to generate independent uniformly distributed random integers."
   ]
  },
  {
   "cell_type": "code",
   "execution_count": 8,
   "metadata": {
    "nbpresent": {
     "id": "e2cfd746-e9a4-4fd1-87b5-7c7426321266"
    },
    "scrolled": false,
    "slideshow": {
     "slide_type": "subslide"
    }
   },
   "outputs": [
    {
     "name": "stdout",
     "output_type": "stream",
     "text": [
      "[1 5 8 4 7 0 6 3 2 9]\n"
     ]
    }
   ],
   "source": [
    "def fykd(a, gen=np.random):\n",
    "    for i in range(len(a)-2):\n",
    "        J = gen.randint(i,len(a))\n",
    "        a[i], a[J] = a[J], a[i]\n",
    "    return(a)\n",
    "\n",
    "print(fykd(np.arange(10)))"
   ]
  },
  {
   "cell_type": "markdown",
   "metadata": {
    "nbpresent": {
     "id": "0dd3fa87-4f21-4743-96d8-1e9b7b38d670"
    },
    "slideshow": {
     "slide_type": "subslide"
    }
   },
   "source": [
    "### Proof that the streaming Fisher-Yates-Knuth-Durstenfeld algorithm works\n",
    "\n",
    "Induction: \n",
    "\n",
    "For $i=1$, obvious.\n",
    "\n",
    "At stage $i$, suppose all $i!$ permutations are equally likely. For each such permutation, there are\n",
    "$i+1$ distinct, equally likely permutations at stage $i+1$, resulting from swapping the $i+1$st item with one\n",
    "of the first $i$, or putting it in position $i+1$. These possibilities are mutually exclusive of\n",
    "the permutations attainable from a different permutation of the first $i$ items.\n",
    "\n",
    "Thus, this enumerates all $(i+1)i! = (i+1)!$ permutations of $(i+1)$ items, and they are equally likely. &#x25A0;"
   ]
  },
  {
   "cell_type": "markdown",
   "metadata": {},
   "source": [
    "## A good way to get a bad shuffle\n",
    "\n",
    "Sort using a \"random\" comparison function, e.g.,\n",
    "\n",
    "    def RandomSort(a,b):\n",
    "        return (0.5 - np.random.random())\n",
    "\n",
    "But this fails the basic properties of an ordering, e.g., transitivity, reflexiveness, etc. Doesn't produce random permutation. Output also depends on sorting algorithm. "
   ]
  },
  {
   "cell_type": "markdown",
   "metadata": {
    "nbpresent": {
     "id": "6816a681-8996-4885-8fd1-305004c9eeaf"
    },
    "slideshow": {
     "slide_type": "slide"
    }
   },
   "source": [
    "<div class=\"alert alert-block alert-warning\"><big>The right way, the wrong way, and the Microsoft way.</big></div>\n",
    "\n",
    "Notoriously used by Microsoft to offer a selection of browsers in the EU. Resulted in IE being 5th of 5 about half the time in IE and about 26% of the time in Chrome, but only 6% of the time in Safari (4th about 40% of the time). \n",
    "\n",
    "See, e.g., http://www.computerworld.com/article/2520190/web-apps/microsoft-s-eu-ballot-fails-to-randomize-browser-order.html"
   ]
  },
  {
   "cell_type": "markdown",
   "metadata": {
    "nbpresent": {
     "id": "a84b3be0-9837-4d65-b77f-2ee2ae6f7092"
    },
    "slideshow": {
     "slide_type": "slide"
    }
   },
   "source": [
    "### Cormen et al. (2009) Algorithm `Random_Sample`\n",
    "\n",
    "+ recursive algorithm\n",
    "+ requires only $k$ random numbers (integers)\n",
    "+ does not require sorting"
   ]
  },
  {
   "cell_type": "code",
   "execution_count": 9,
   "metadata": {
    "nbpresent": {
     "id": "c997a519-de55-48ce-a631-18c28c202b0b"
    },
    "scrolled": false,
    "slideshow": {
     "slide_type": "subslide"
    }
   },
   "outputs": [
    {
     "data": {
      "text/plain": [
       "{38, 50, 76, 78, 100}"
      ]
     },
     "execution_count": 9,
     "metadata": {},
     "output_type": "execute_result"
    }
   ],
   "source": [
    "def Random_Sample(n, k, gen=np.random):  # from Cormen et al. 2009\n",
    "    if k==0:\n",
    "        return set()\n",
    "    else:\n",
    "        S = Random_Sample(n-1, k-1)\n",
    "        i = gen.randint(1,n+1) \n",
    "        if i in S:\n",
    "            S = S.union([n])\n",
    "        else:\n",
    "            S = S.union([i])\n",
    "    return S\n",
    "\n",
    "Random_Sample(100,5)"
   ]
  },
  {
   "cell_type": "markdown",
   "metadata": {
    "nbpresent": {
     "id": "20fee7fb-3c07-46de-98dc-08adc780997d"
    },
    "slideshow": {
     "slide_type": "skip"
    }
   },
   "source": [
    "**Proof.** Recursion."
   ]
  },
  {
   "cell_type": "markdown",
   "metadata": {
    "nbpresent": {
     "id": "5ba00eb5-2f76-4bfd-8805-6f5de14d3d54"
    },
    "slideshow": {
     "slide_type": "slide"
    }
   },
   "source": [
    "## Reservoir algorithms \n",
    "\n",
    "The previous algorithms require $n$ to be known.\n",
    "There are _reservoir_ algorithms that do not.\n",
    "Moreover, the algorithms are suitable for streaming (aka _online_) use: items are examined\n",
    "sequentially and either enter into the reservoir, or, if not, are never revisited."
   ]
  },
  {
   "cell_type": "markdown",
   "metadata": {
    "nbpresent": {
     "id": "cf538b23-80fe-4c86-b701-8b41ace2d7b5"
    },
    "slideshow": {
     "slide_type": "subslide"
    }
   },
   "source": [
    "## Algorithm `R`, Waterman (per Knuth, 1997)\n",
    "+ Put first $k$ items into the _reservoir_\n",
    "+ when item $k+j$ is examined, either skip it (with probability $j/(k+j)$) or swap for a uniformly selected item in the reservoir (with probability $k/(k+j)$)\n",
    "+ naive version requires generating at most $n-k$ random numbers\n",
    "+ closely related to FYKD shuffle"
   ]
  },
  {
   "cell_type": "code",
   "execution_count": 10,
   "metadata": {
    "nbpresent": {
     "id": "9de0e0a3-0138-4574-ac14-6d6512ca9ff3"
    },
    "scrolled": false,
    "slideshow": {
     "slide_type": "subslide"
    }
   },
   "outputs": [
    {
     "data": {
      "text/plain": [
       "{29, 43, 59, 96, 98}"
      ]
     },
     "execution_count": 10,
     "metadata": {},
     "output_type": "execute_result"
    }
   ],
   "source": [
    "def R(n,k):  # Waterman's algorithm R\n",
    "    S = np.arange(1, k+1)  # fill the reservoir\n",
    "    for t in range(k+1,n+1):\n",
    "        i = np.random.randint(1,t+1)\n",
    "        if i <= k:\n",
    "            S[i-1] = t\n",
    "    return set(S)\n",
    "\n",
    "R(100,5)"
   ]
  },
  {
   "cell_type": "markdown",
   "metadata": {
    "nbpresent": {
     "id": "1b0da558-4925-4a78-a448-a57a88896a41"
    },
    "slideshow": {
     "slide_type": "fragment"
    }
   },
   "source": [
    "Like `Random-Sample`, the proof that algorithm `R` generates an SRS uses the ability to generate independent random integers, uniformly distributed on $\\{1, \\ldots, m \\}$."
   ]
  },
  {
   "cell_type": "markdown",
   "metadata": {
    "nbpresent": {
     "id": "c90702ad-4964-454d-bde8-c1e51737bc07"
    },
    "slideshow": {
     "slide_type": "subslide"
    }
   },
   "source": [
    "## Algorithm Z, Vitter (1985)\n",
    "\n",
    "Much more efficient than `R`, using random skips. Works in time essentially linear in $k$. \n",
    "\n",
    "Note: Vitter proposes using the (inaccurate) $J = \\lfloor mU \\rfloor$ to generate a random integer between $0$ and $m$ in both algorithm `R` and algorithm `Z`. The issue is pervasive!"
   ]
  },
  {
   "cell_type": "markdown",
   "metadata": {
    "nbpresent": {
     "id": "5566f748-1f2c-452b-89cd-99a857c0b0fc"
    },
    "slideshow": {
     "slide_type": "slide"
    }
   },
   "source": [
    "## Example: frequency of samples using PIKK\n",
    "\n",
    "Use `PIKK` to generate samples using RANDU and MT.\n",
    "\n",
    "Tally empirical probability of each sample; test for uniformity by range.\n",
    "\n",
    "A (true) simple random sample of size $k$ from a population of size $n$ has chance $1/{n \\choose k}$ of\n",
    "resulting in each of the ${n \\choose k}$ possible subsets.\n",
    "\n",
    "The joint distribution of the number of times each _possible_ sample is selected in $N$\n",
    "independent random samples is multinomial with ${n \\choose k}$ categories,\n",
    "equal category probabilities $1/{n \\choose k}$, and $N$ draws.\n",
    "\n",
    "The pidgeonhold arguments prove that the actual distribution cannot be exactly multinomial, but\n",
    "how bad is the approximation?\n",
    "\n",
    "We can test the hypothesis using as the test statistic the range of category counts.\n",
    "\n",
    "Since we can't trust simulations to give an accurate result (that's the problem we are studying!), we need to rely on asymptotics.\n",
    "\n"
   ]
  },
  {
   "cell_type": "code",
   "execution_count": 11,
   "metadata": {
    "collapsed": true,
    "nbpresent": {
     "id": "bedd360c-6dfc-4070-b7e4-b3bcde5b550e"
    },
    "slideshow": {
     "slide_type": "skip"
    }
   },
   "outputs": [],
   "source": [
    "# utility function\n",
    "\n",
    "def tallySamples(n, k, prng=Random.random, reps=int(10**7)):\n",
    "    uniqueSampleCounts = dict()\n",
    "    for i in np.arange(reps):\n",
    "        sam = frozenset(PIKK(n, k, prng))\n",
    "        if sam in uniqueSampleCounts:\n",
    "            uniqueSampleCounts[sam] += 1\n",
    "        else:\n",
    "            uniqueSampleCounts[sam] = 1\n",
    "    return uniqueSampleCounts\n",
    "\n",
    "def distrNormalRange(w, n):\n",
    "    '''\n",
    "    The CDF of the range of n IID standard normals evaluated at w\n",
    "    '''\n",
    "    innerInt = lambda x: norm.pdf(x)*(norm.cdf(x+w) - norm.cdf(x))**(n-1)\n",
    "    tmp = scipy.integrate.quad(innerInt, -np.inf, np.inf)\n",
    "    return n*tmp[0]\n",
    "\n",
    "def distrMultinomialRange(w, n, k):\n",
    "    '''\n",
    "    CDF of the range of multinomial variables, evaluated at w\n",
    "    n draws, k categories each having probability 1/k\n",
    "    '''\n",
    "    cutoff = (w - 1/(2*n))*np.sqrt(k/n)\n",
    "    return distrNormalRange(cutoff, k)\n",
    "\n",
    "def aveSamRange(sam): # empirical mean of the sample range\n",
    "    m = 0\n",
    "    totCnt = 0\n",
    "    for s, cnt in sam.items():\n",
    "        m += np.ptp([x[i] for i in s])*cnt\n",
    "        totCnt += cnt\n",
    "    return m/totCnt\n",
    "\n",
    "def aveSamVar(sam):  # empirical mean of the sample variance\n",
    "    m = 0\n",
    "    totCnt = 0\n",
    "    for s, cnt in sam.items():\n",
    "        m += np.var([x[i] for i in s], ddof=1)*cnt\n",
    "        totCnt += cnt\n",
    "    return m/totCnt\n",
    "\n",
    "def summarizeSams(counts, n, k, verbose=False):\n",
    "    reps = np.sum(counts)\n",
    "    vals = sp.special.binom(n, k)\n",
    "    obsVals = len(counts)\n",
    "    ect = reps/vals\n",
    "    maxct = np.amax(counts)\n",
    "    minct = np.amin(counts)\n",
    "    rangect = maxct-minct\n",
    "    pvalueRange = 1-distrMultinomialRange(rangect, reps, vals)\n",
    "    pvalueChi2 = chisquare(counts)\n",
    "    if verbose:\n",
    "        print('reps:',reps, 'possible values:', vals, 'observed values:', obsVals,\\\n",
    "              'expected count:', ect, 'min count:', minct, 'max count:', maxct,\\\n",
    "              'range:', rangect, 'p value for range:', pvalueRange,\\\n",
    "              'p value for chi-square:', pvalueChi2)\n",
    "    return [reps, vals, obsVals, ect, maxct, minct, rangect, pvalueRange, pvalueChi2]"
   ]
  },
  {
   "cell_type": "code",
   "execution_count": 12,
   "metadata": {
    "collapsed": true,
    "nbpresent": {
     "id": "18d48f30-b1be-4de6-af1b-fc93d71853bc"
    },
    "slideshow": {
     "slide_type": "skip"
    }
   },
   "outputs": [],
   "source": [
    "# set up the simulation\n",
    "reps = int(10**7)\n",
    "n = 30\n",
    "k = 2"
   ]
  },
  {
   "cell_type": "code",
   "execution_count": 13,
   "metadata": {
    "collapsed": true,
    "nbpresent": {
     "id": "35399f1c-a4a3-4879-9313-b7bb93d61221"
    },
    "scrolled": false,
    "slideshow": {
     "slide_type": "skip"
    }
   },
   "outputs": [],
   "source": [
    "# RANDU\n",
    "lcg = lcgRandom(seed=100) # set seed of RANDU to 100\n",
    "uniqueSamplesRU = tallySamples(n, k, lcg, reps)"
   ]
  },
  {
   "cell_type": "code",
   "execution_count": 14,
   "metadata": {
    "nbpresent": {
     "id": "e3c029c4-4def-4342-8aa4-9ae6b4d4bb32"
    },
    "scrolled": false,
    "slideshow": {
     "slide_type": "slide"
    }
   },
   "outputs": [
    {
     "name": "stdout",
     "output_type": "stream",
     "text": [
      "reps: 10000000 possible values: 435.0 observed values: 435 expected count: 22988.5057471 min count: 21235 max count: 23533 range: 2298 p value for range: -4.4408920985e-16 p value for chi-square: Power_divergenceResult(statistic=2780.7692870000001, pvalue=0.0)\n"
     ]
    },
    {
     "data": {
      "image/png": "[encoded data removed]",
      "text/plain": [
       "<matplotlib.figure.Figure at 0x1229384a8>"
      ]
     },
     "metadata": {},
     "output_type": "display_data"
    }
   ],
   "source": [
    "[reps2, vals, obsVals, ect, maxct, minct, rangect, pvalueRange, pvalueChi2] =\\\n",
    "    summarizeSams(list(uniqueSamplesRU.values()), n, k, verbose=True)\n",
    "\n",
    "ns, bins, patches = plt.hist(list(uniqueSamplesRU.values()), maxct-minct+1, normed=1, facecolor='blue', alpha=0.75)\n",
    "plt.rcParams['figure.figsize'] = (18.0, 18.0) "
   ]
  },
  {
   "cell_type": "markdown",
   "metadata": {
    "nbpresent": {
     "id": "bd8190f0-8cf4-494e-b112-88d8f150b711"
    },
    "slideshow": {
     "slide_type": "subslide"
    }
   },
   "source": [
    "RANDU with PIKK hits all 435 samples, but not equally often. Based on the chi-square test and the range test, the $p$-value for the hypothesis that these $10^7$ samples are simple random samples is essentially 0."
   ]
  },
  {
   "cell_type": "markdown",
   "metadata": {
    "nbpresent": {
     "id": "43989d52-bcb4-4dc7-91fc-171dc10ee1d5"
    },
    "slideshow": {
     "slide_type": "slide"
    }
   },
   "source": [
    "## Hypothesis tests for MT and RANDU\n",
    "\n",
    "$5 \\times 10^7$ replications, $n=30$, $k=2$.\n",
    "\n",
    "Sample variance of a population\n",
    "with 28 zeros, one 1, one -1."
   ]
  },
  {
   "cell_type": "code",
   "execution_count": 15,
   "metadata": {
    "collapsed": true,
    "nbpresent": {
     "id": "3b8762e7-ed54-45a8-9ca7-35a00df0478d"
    },
    "slideshow": {
     "slide_type": "skip"
    }
   },
   "outputs": [],
   "source": [
    "import pandas as pd\n",
    "pd.set_option('display.float_format', '{:.4g}'.format)"
   ]
  },
  {
   "cell_type": "code",
   "execution_count": 16,
   "metadata": {
    "nbpresent": {
     "id": "7feffce4-fd19-4787-a799-954b33f4945a"
    },
    "slideshow": {
     "slide_type": "skip"
    }
   },
   "outputs": [
    {
     "data": {
      "text/html": [
       "<div>\n",
       "<style>\n",
       "    .dataframe thead tr:only-child th {\n",
       "        text-align: right;\n",
       "    }\n",
       "\n",
       "    .dataframe thead th {\n",
       "        text-align: left;\n",
       "    }\n",
       "\n",
       "    .dataframe tbody tr th {\n",
       "        vertical-align: top;\n",
       "    }\n",
       "</style>\n",
       "<table border=\"1\" class=\"dataframe\">\n",
       "  <thead>\n",
       "    <tr style=\"text-align: right;\">\n",
       "      <th></th>\n",
       "      <th>PRNG</th>\n",
       "      <th>seed</th>\n",
       "      <th>Chi-squared</th>\n",
       "      <th>Df</th>\n",
       "      <th>P-value</th>\n",
       "      <th>Range</th>\n",
       "      <th>Range P-value</th>\n",
       "    </tr>\n",
       "  </thead>\n",
       "  <tbody>\n",
       "    <tr>\n",
       "      <th>0</th>\n",
       "      <td>RANDU</td>\n",
       "      <td>100</td>\n",
       "      <td>[ 12155.0519878]</td>\n",
       "      <td>434</td>\n",
       "      <td>[ 0.]</td>\n",
       "      <td>8709</td>\n",
       "      <td>-4.441e-16</td>\n",
       "    </tr>\n",
       "    <tr>\n",
       "      <th>9</th>\n",
       "      <td>MT_choice</td>\n",
       "      <td>100</td>\n",
       "      <td>[ 407.4165142]</td>\n",
       "      <td>434</td>\n",
       "      <td>[ 0.81558425]</td>\n",
       "      <td>2286</td>\n",
       "      <td>0.08578</td>\n",
       "    </tr>\n",
       "    <tr>\n",
       "      <th>6</th>\n",
       "      <td>SHA256</td>\n",
       "      <td>100</td>\n",
       "      <td>[ 409.6081138]</td>\n",
       "      <td>434</td>\n",
       "      <td>[ 0.79423828]</td>\n",
       "      <td>2196</td>\n",
       "      <td>0.171</td>\n",
       "    </tr>\n",
       "    <tr>\n",
       "      <th>1</th>\n",
       "      <td>SD</td>\n",
       "      <td>100</td>\n",
       "      <td>[ 355.2852094]</td>\n",
       "      <td>434</td>\n",
       "      <td>[ 0.99767171]</td>\n",
       "      <td>2189</td>\n",
       "      <td>0.1798</td>\n",
       "    </tr>\n",
       "    <tr>\n",
       "      <th>3</th>\n",
       "      <td>MT</td>\n",
       "      <td>100</td>\n",
       "      <td>[ 454.6745488]</td>\n",
       "      <td>434</td>\n",
       "      <td>[ 0.23778712]</td>\n",
       "      <td>2174</td>\n",
       "      <td>0.1996</td>\n",
       "    </tr>\n",
       "    <tr>\n",
       "      <th>5</th>\n",
       "      <td>MT</td>\n",
       "      <td>429496729</td>\n",
       "      <td>[ 493.676701]</td>\n",
       "      <td>434</td>\n",
       "      <td>[ 0.02488693]</td>\n",
       "      <td>2089</td>\n",
       "      <td>0.341</td>\n",
       "    </tr>\n",
       "    <tr>\n",
       "      <th>10</th>\n",
       "      <td>MT_choice</td>\n",
       "      <td>233424280</td>\n",
       "      <td>[ 461.0437666]</td>\n",
       "      <td>434</td>\n",
       "      <td>[ 0.17825415]</td>\n",
       "      <td>2026</td>\n",
       "      <td>0.4741</td>\n",
       "    </tr>\n",
       "    <tr>\n",
       "      <th>4</th>\n",
       "      <td>MT</td>\n",
       "      <td>233424280</td>\n",
       "      <td>[ 429.9387088]</td>\n",
       "      <td>434</td>\n",
       "      <td>[ 0.54602838]</td>\n",
       "      <td>1965</td>\n",
       "      <td>0.6143</td>\n",
       "    </tr>\n",
       "    <tr>\n",
       "      <th>8</th>\n",
       "      <td>SHA256</td>\n",
       "      <td>429496729</td>\n",
       "      <td>[ 482.0878312]</td>\n",
       "      <td>434</td>\n",
       "      <td>[ 0.05502463]</td>\n",
       "      <td>1964</td>\n",
       "      <td>0.6166</td>\n",
       "    </tr>\n",
       "    <tr>\n",
       "      <th>7</th>\n",
       "      <td>SHA256</td>\n",
       "      <td>233424280</td>\n",
       "      <td>[ 381.5704324]</td>\n",
       "      <td>434</td>\n",
       "      <td>[ 0.96666455]</td>\n",
       "      <td>1846</td>\n",
       "      <td>0.8545</td>\n",
       "    </tr>\n",
       "    <tr>\n",
       "      <th>11</th>\n",
       "      <td>MT_choice</td>\n",
       "      <td>429496729</td>\n",
       "      <td>[ 451.5718156]</td>\n",
       "      <td>434</td>\n",
       "      <td>[ 0.27056103]</td>\n",
       "      <td>1792</td>\n",
       "      <td>0.9248</td>\n",
       "    </tr>\n",
       "    <tr>\n",
       "      <th>2</th>\n",
       "      <td>SD</td>\n",
       "      <td>233424280</td>\n",
       "      <td>[ 289.7548432]</td>\n",
       "      <td>434</td>\n",
       "      <td>[ 0.99999999]</td>\n",
       "      <td>1422</td>\n",
       "      <td>1</td>\n",
       "    </tr>\n",
       "  </tbody>\n",
       "</table>\n",
       "</div>"
      ],
      "text/plain": [
       "         PRNG       seed       Chi-squared   Df        P-value  Range  \\\n",
       "0       RANDU        100  [ 12155.0519878]  434          [ 0.]   8709   \n",
       "9   MT_choice        100    [ 407.4165142]  434  [ 0.81558425]   2286   \n",
       "6      SHA256        100    [ 409.6081138]  434  [ 0.79423828]   2196   \n",
       "1          SD        100    [ 355.2852094]  434  [ 0.99767171]   2189   \n",
       "3          MT        100    [ 454.6745488]  434  [ 0.23778712]   2174   \n",
       "5          MT  429496729     [ 493.676701]  434  [ 0.02488693]   2089   \n",
       "10  MT_choice  233424280    [ 461.0437666]  434  [ 0.17825415]   2026   \n",
       "4          MT  233424280    [ 429.9387088]  434  [ 0.54602838]   1965   \n",
       "8      SHA256  429496729    [ 482.0878312]  434  [ 0.05502463]   1964   \n",
       "7      SHA256  233424280    [ 381.5704324]  434  [ 0.96666455]   1846   \n",
       "11  MT_choice  429496729    [ 451.5718156]  434  [ 0.27056103]   1792   \n",
       "2          SD  233424280    [ 289.7548432]  434  [ 0.99999999]   1422   \n",
       "\n",
       "    Range P-value  \n",
       "0      -4.441e-16  \n",
       "9         0.08578  \n",
       "6           0.171  \n",
       "1          0.1798  \n",
       "3          0.1996  \n",
       "5           0.341  \n",
       "10         0.4741  \n",
       "4          0.6143  \n",
       "8          0.6166  \n",
       "7          0.8545  \n",
       "11         0.9248  \n",
       "2               1  "
      ]
     },
     "execution_count": 16,
     "metadata": {},
     "output_type": "execute_result"
    }
   ],
   "source": [
    "US = pd.read_csv('uniqueSampleSummary.csv')\n",
    "US_cols = ['PRNG', 'seed', 'Chi-squared', 'Df', 'P-value', 'Range', 'Range P-value']\n",
    "US[US_cols].sort_values(['Range P-value', 'P-value'])"
   ]
  },
  {
   "cell_type": "code",
   "execution_count": 17,
   "metadata": {
    "nbpresent": {
     "id": "5f5265f4-a888-4ec3-83ff-48545d4394c9"
    },
    "slideshow": {
     "slide_type": "slide"
    }
   },
   "outputs": [
    {
     "data": {
      "text/html": [
       "<div>\n",
       "<style>\n",
       "    .dataframe thead tr:only-child th {\n",
       "        text-align: right;\n",
       "    }\n",
       "\n",
       "    .dataframe thead th {\n",
       "        text-align: left;\n",
       "    }\n",
       "\n",
       "    .dataframe tbody tr th {\n",
       "        vertical-align: top;\n",
       "    }\n",
       "</style>\n",
       "<table border=\"1\" class=\"dataframe\">\n",
       "  <thead>\n",
       "    <tr style=\"text-align: right;\">\n",
       "      <th></th>\n",
       "      <th>PRNG</th>\n",
       "      <th>seed</th>\n",
       "      <th>Avg Sample Var</th>\n",
       "      <th>Var Bias</th>\n",
       "      <th>Var Bias/SE</th>\n",
       "    </tr>\n",
       "  </thead>\n",
       "  <tbody>\n",
       "    <tr>\n",
       "      <th>1</th>\n",
       "      <td>RANDU</td>\n",
       "      <td>100</td>\n",
       "      <td>0.06879</td>\n",
       "      <td>-0.0001749</td>\n",
       "      <td>-6.462</td>\n",
       "    </tr>\n",
       "    <tr>\n",
       "      <th>19</th>\n",
       "      <td>MT_choice</td>\n",
       "      <td>100</td>\n",
       "      <td>0.06888</td>\n",
       "      <td>-8.172e-05</td>\n",
       "      <td>-3.019</td>\n",
       "    </tr>\n",
       "    <tr>\n",
       "      <th>13</th>\n",
       "      <td>SHA256</td>\n",
       "      <td>100</td>\n",
       "      <td>0.0689</td>\n",
       "      <td>-6.341e-05</td>\n",
       "      <td>-2.343</td>\n",
       "    </tr>\n",
       "    <tr>\n",
       "      <th>15</th>\n",
       "      <td>SHA256</td>\n",
       "      <td>233424280</td>\n",
       "      <td>0.06892</td>\n",
       "      <td>-4.549e-05</td>\n",
       "      <td>-1.681</td>\n",
       "    </tr>\n",
       "    <tr>\n",
       "      <th>3</th>\n",
       "      <td>SD</td>\n",
       "      <td>100</td>\n",
       "      <td>0.06892</td>\n",
       "      <td>-4.337e-05</td>\n",
       "      <td>-1.602</td>\n",
       "    </tr>\n",
       "    <tr>\n",
       "      <th>7</th>\n",
       "      <td>MT</td>\n",
       "      <td>100</td>\n",
       "      <td>0.06892</td>\n",
       "      <td>-4.176e-05</td>\n",
       "      <td>-1.543</td>\n",
       "    </tr>\n",
       "    <tr>\n",
       "      <th>23</th>\n",
       "      <td>MT_choice</td>\n",
       "      <td>429496729</td>\n",
       "      <td>0.06893</td>\n",
       "      <td>-3.774e-05</td>\n",
       "      <td>-1.394</td>\n",
       "    </tr>\n",
       "    <tr>\n",
       "      <th>9</th>\n",
       "      <td>MT</td>\n",
       "      <td>233424280</td>\n",
       "      <td>0.06893</td>\n",
       "      <td>-3.407e-05</td>\n",
       "      <td>-1.259</td>\n",
       "    </tr>\n",
       "    <tr>\n",
       "      <th>5</th>\n",
       "      <td>SD</td>\n",
       "      <td>233424280</td>\n",
       "      <td>0.06894</td>\n",
       "      <td>-2.605e-05</td>\n",
       "      <td>-0.9624</td>\n",
       "    </tr>\n",
       "    <tr>\n",
       "      <th>21</th>\n",
       "      <td>MT_choice</td>\n",
       "      <td>233424280</td>\n",
       "      <td>0.06895</td>\n",
       "      <td>-2.036e-05</td>\n",
       "      <td>-0.7522</td>\n",
       "    </tr>\n",
       "    <tr>\n",
       "      <th>11</th>\n",
       "      <td>MT</td>\n",
       "      <td>429496729</td>\n",
       "      <td>0.06895</td>\n",
       "      <td>-2.012e-05</td>\n",
       "      <td>-0.7433</td>\n",
       "    </tr>\n",
       "    <tr>\n",
       "      <th>10</th>\n",
       "      <td>MT</td>\n",
       "      <td>429496729</td>\n",
       "      <td>0.06895</td>\n",
       "      <td>-1.746e-05</td>\n",
       "      <td>-0.645</td>\n",
       "    </tr>\n",
       "    <tr>\n",
       "      <th>17</th>\n",
       "      <td>SHA256</td>\n",
       "      <td>429496729</td>\n",
       "      <td>0.06895</td>\n",
       "      <td>-1.397e-05</td>\n",
       "      <td>-0.5161</td>\n",
       "    </tr>\n",
       "    <tr>\n",
       "      <th>20</th>\n",
       "      <td>MT_choice</td>\n",
       "      <td>233424280</td>\n",
       "      <td>0.06896</td>\n",
       "      <td>-8.697e-06</td>\n",
       "      <td>-0.3214</td>\n",
       "    </tr>\n",
       "    <tr>\n",
       "      <th>22</th>\n",
       "      <td>MT_choice</td>\n",
       "      <td>429496729</td>\n",
       "      <td>0.06896</td>\n",
       "      <td>-6.167e-06</td>\n",
       "      <td>-0.2279</td>\n",
       "    </tr>\n",
       "    <tr>\n",
       "      <th>4</th>\n",
       "      <td>SD</td>\n",
       "      <td>233424280</td>\n",
       "      <td>0.06896</td>\n",
       "      <td>-3.447e-06</td>\n",
       "      <td>-0.1274</td>\n",
       "    </tr>\n",
       "    <tr>\n",
       "      <th>2</th>\n",
       "      <td>SD</td>\n",
       "      <td>100</td>\n",
       "      <td>0.06897</td>\n",
       "      <td>-4.472e-07</td>\n",
       "      <td>-0.01653</td>\n",
       "    </tr>\n",
       "    <tr>\n",
       "      <th>18</th>\n",
       "      <td>MT_choice</td>\n",
       "      <td>100</td>\n",
       "      <td>0.06897</td>\n",
       "      <td>-1.372e-07</td>\n",
       "      <td>-0.005071</td>\n",
       "    </tr>\n",
       "    <tr>\n",
       "      <th>12</th>\n",
       "      <td>SHA256</td>\n",
       "      <td>100</td>\n",
       "      <td>0.06897</td>\n",
       "      <td>1.453e-06</td>\n",
       "      <td>0.05368</td>\n",
       "    </tr>\n",
       "    <tr>\n",
       "      <th>8</th>\n",
       "      <td>MT</td>\n",
       "      <td>233424280</td>\n",
       "      <td>0.06897</td>\n",
       "      <td>2.723e-06</td>\n",
       "      <td>0.1006</td>\n",
       "    </tr>\n",
       "    <tr>\n",
       "      <th>16</th>\n",
       "      <td>SHA256</td>\n",
       "      <td>429496729</td>\n",
       "      <td>0.06897</td>\n",
       "      <td>4.303e-06</td>\n",
       "      <td>0.159</td>\n",
       "    </tr>\n",
       "    <tr>\n",
       "      <th>0</th>\n",
       "      <td>RANDU</td>\n",
       "      <td>100</td>\n",
       "      <td>0.06898</td>\n",
       "      <td>1.452e-05</td>\n",
       "      <td>0.5366</td>\n",
       "    </tr>\n",
       "    <tr>\n",
       "      <th>6</th>\n",
       "      <td>MT</td>\n",
       "      <td>100</td>\n",
       "      <td>0.06898</td>\n",
       "      <td>1.768e-05</td>\n",
       "      <td>0.6534</td>\n",
       "    </tr>\n",
       "    <tr>\n",
       "      <th>14</th>\n",
       "      <td>SHA256</td>\n",
       "      <td>233424280</td>\n",
       "      <td>0.06898</td>\n",
       "      <td>1.849e-05</td>\n",
       "      <td>0.6833</td>\n",
       "    </tr>\n",
       "  </tbody>\n",
       "</table>\n",
       "</div>"
      ],
      "text/plain": [
       "         PRNG       seed  Avg Sample Var   Var Bias  Var Bias/SE\n",
       "1       RANDU        100         0.06879 -0.0001749       -6.462\n",
       "19  MT_choice        100         0.06888 -8.172e-05       -3.019\n",
       "13     SHA256        100          0.0689 -6.341e-05       -2.343\n",
       "15     SHA256  233424280         0.06892 -4.549e-05       -1.681\n",
       "3          SD        100         0.06892 -4.337e-05       -1.602\n",
       "7          MT        100         0.06892 -4.176e-05       -1.543\n",
       "23  MT_choice  429496729         0.06893 -3.774e-05       -1.394\n",
       "9          MT  233424280         0.06893 -3.407e-05       -1.259\n",
       "5          SD  233424280         0.06894 -2.605e-05      -0.9624\n",
       "21  MT_choice  233424280         0.06895 -2.036e-05      -0.7522\n",
       "11         MT  429496729         0.06895 -2.012e-05      -0.7433\n",
       "10         MT  429496729         0.06895 -1.746e-05       -0.645\n",
       "17     SHA256  429496729         0.06895 -1.397e-05      -0.5161\n",
       "20  MT_choice  233424280         0.06896 -8.697e-06      -0.3214\n",
       "22  MT_choice  429496729         0.06896 -6.167e-06      -0.2279\n",
       "4          SD  233424280         0.06896 -3.447e-06      -0.1274\n",
       "2          SD        100         0.06897 -4.472e-07     -0.01653\n",
       "18  MT_choice        100         0.06897 -1.372e-07    -0.005071\n",
       "12     SHA256        100         0.06897  1.453e-06      0.05368\n",
       "8          MT  233424280         0.06897  2.723e-06       0.1006\n",
       "16     SHA256  429496729         0.06897  4.303e-06        0.159\n",
       "0       RANDU        100         0.06898  1.452e-05       0.5366\n",
       "6          MT        100         0.06898  1.768e-05       0.6534\n",
       "14     SHA256  233424280         0.06898  1.849e-05       0.6833"
      ]
     },
     "execution_count": 17,
     "metadata": {},
     "output_type": "execute_result"
    }
   ],
   "source": [
    "biases = pd.read_csv('statBias.csv')\n",
    "biases_lfs = biases[biases['method']=='least freq sample']\n",
    "cols = ['PRNG', 'seed', 'Avg Sample Var', 'Var Bias', 'Var Bias/SE']\n",
    "biases[cols].sort_values(['Var Bias/SE', 'PRNG', 'seed'], ascending = True)"
   ]
  },
  {
   "cell_type": "markdown",
   "metadata": {
    "nbpresent": {
     "id": "9db040dc-5ddc-43b9-905a-bdfebc480f88"
    },
    "slideshow": {
     "slide_type": "slide"
    }
   },
   "source": [
    "## PRNGs in Common packages\n",
    "\n",
    "| Package/Lang   | default    | other      | SRS algorithm  |\n",
    "|:---------------|:----------:|:----------:|:--------------:|\n",
    "| SAS 9.2        | MT         | 32-bit LCG | Floyd's ordered hash or Fan et al. 1962 |\n",
    "| SPSS 20.0      | 32-bit LCG | MT1997ar   | trunc + rand indices |\n",
    "| SPSS &le; 12.0 | 32-bit LCG |            |                |\n",
    "| STATA 13       | KISS 32    |            | PIKK           |\n",
    "| STATA 14       | MT         |            | PIKK           |\n",
    "| R              | MT         |            | trunc + rand indices |\n",
    "| python         | MT         |            | mask + rand indices  |\n",
    "| MATLAB         | MT         |            | trunc + PIKK         |\n",
    "\n",
    "**Key.** MT = Mersenne Twister. LCG = linear congruential generator. PIKK = assign a number to each of the $n$ items and sort. The KISS generator combines 4 generators of three types: two multiply-with-carry\n",
    "generators, the 3-shift register SHR3 and the congruential generator CONG.\n",
    "\n",
    "Prior to April 2011, in Stata 10 exhibited predictable behavior:\n",
    "95.1% of the $2^{31}$ possible seed values resulted in the first and second draws from rnormal() having the same sign."
   ]
  },
  {
   "cell_type": "markdown",
   "metadata": {
    "nbpresent": {
     "id": "72344475-defb-4fc8-bf4e-78b774924ebd"
    },
    "slideshow": {
     "slide_type": "subslide"
    }
   },
   "source": [
    "## Sizes of some coops & flocks\n",
    "\n",
    "| Expression     | full      |  scientific notation | \n",
    "|:---------------:|----------:|----------:|\n",
    "|$2^{32}$        | 4,294,967,296 | 4.29e9 |\n",
    "|$2^{64}$        |   18,446,744,073,709,551,616 | 1.84e19|\n",
    "|$2^{128}$       |            | 3.40e38 |\n",
    "|$2^{32 \\times 624}$ | | 9.27e6010|\n",
    "|$13!$      |                           6,227,020,800 | 6.23e9|\n",
    "|$21!$      |     51,090,942,171,709,440,000 | 5.11e19|                        \n",
    "|$35!$      |                                    | 1.03e40|\n",
    "|$2084!$     |                                                 | 3.73e6013 |\n",
    "|${50 \\choose 10}$   |        10,272,278,170 | 1.03e10|\n",
    "|${100 \\choose 10}$ | 17,310,309,456,440 | 1.73e13|\n",
    "|${500 \\choose 10}$ |         |     2.4581e20 |\n",
    "|$\\frac{2^{32}}{{50 \\choose 10}}$   | 0.418 | |\n",
    "|$\\frac{2^{64}}{{500 \\choose 10}}$ | 0.075 | |\n",
    "|$\\frac{2^{32}}{7000!}$ | | $<$ 1e-54,958 |\n",
    "|$\\frac{2}{52!}$ | | 2.48e-68 |\n",
    "\n"
   ]
  },
  {
   "cell_type": "markdown",
   "metadata": {
    "slideshow": {
     "slide_type": "slide"
    }
   },
   "source": [
    "## Is MT adequate for statistics?\n",
    "\n",
    "+ Know from pigeonhole argument that $L_1$ distance between true and desired is big for modest sampling & permutation problems.\n",
    "\n",
    "+ Know from equidistribution of MT that large ensemble frequencies will be right, but expect dependence issues\n",
    "\n",
    "+ Looking for problems that occur across seeds, large enough to be visible in $O(10^5)$ replications\n",
    "\n",
    "+ Examined simple random sample frequencies, derangements, partial derangements, Spearman correlation, etc.\n",
    "    \n",
    "+ _Must_ be problems, but where are they?"
   ]
  },
  {
   "cell_type": "markdown",
   "metadata": {
    "nbpresent": {
     "id": "8066555a-8af2-40b5-b264-a0fac9da86b7"
    },
    "slideshow": {
     "slide_type": "slide"
    }
   },
   "source": [
    "## Best Practices\n",
    "\n",
    "+ Use a source of real randomness to set the seed with a substantial amount of entropy, e.g., 20 rolls of 10-sided dice.\n",
    "+ Record the seed so your analysis is reproducible.\n",
    "+ Use a PRNG at least as good as the Mersenne Twister, and preferably a cryptographically secure PRNG. Consider the PCG family. \n",
    "+ Avoid standard linear congruential generators and the Wichmann-Hill generator.\n",
    "+ Use open-source software, and record the version of the software.\n",
    "+ Use a sampling algorithm that does not \"waste randomness.\" Avoid permuting the entire population.\n",
    "+ Be aware of discretization issues in the sampling algorithm; many methods assume the PRNG produces $U[0,1]$ or $U[0,1)$ random numbers, rather than (an approximation to) numbers that are uniform on $w$-bit binary integers.\n",
    "+ Consider the size of the problem: are your PRNG and sampling algorithm adequate?\n",
    "+ Avoid \"tests of representativeness\" and procedures that reject some samples. They alter the distribution of the sample."
   ]
  },
  {
   "cell_type": "markdown",
   "metadata": {
    "nbpresent": {
     "id": "e155dd7f-847c-4154-9b55-5ace34c45a67"
    },
    "slideshow": {
     "slide_type": "subslide"
    }
   },
   "source": [
    "## Recommendations\n",
    "\n",
    "+ Replace the standard PRNGs in R and Python with PRNGs with unbounded state spaces, and cryptographic or near-cryptographic quality\n",
    "    - Consider using AES in counter mode, since Intel chips have hardware support for AES\n",
    "+ Replace R's sample() with the mask algorithm"
   ]
  },
  {
   "cell_type": "markdown",
   "metadata": {
    "nbpresent": {
     "id": "8c651f97-ced8-491b-b960-1971e68f20cd"
    },
    "slideshow": {
     "slide_type": "slide"
    }
   },
   "source": [
    "## References\n",
    "\n",
    "1. Argyros, G. and A. Kiayias, 2012. PRNG: Pwning Random Number Generators.\n",
    "https://media.blackhat.com/bh-us-12/Briefings/Argyros/BH_US_12_Argyros_PRNG_WP.pdf\n",
    "1. Bernstein, D.J., T. Lange, and R. Niederhagen, 2016. Dual EC: A Standardized Back Door, in _The New Codebreakers, Essays Dedicated to David Kahn on the Occasion of his 85th Birthday_, Ryan, P.Y.A., D. Naccache, and J-J Quisquater, eds., Springer, Berlin.\n",
    "1. Cormen, T.H., C.E. Leiserson, R.L. Rivest and C. Stein, 2009. _Introduction to Algorithms, 3rd edition_, MIT Press.\n",
    "1. Fishman, G.S., and L.R. Moore, 1981. In Search of Correlation in Multiplicative Congruential Generators with Modulus 2\\*\\*31-1, _Computer Science and Statistics: Proceedings of the 13 Symposium on the Interface_, William F. Eddy, ed., Springer Verlag, New York.\n",
    "1. Knuth, D., 1997 _The Art of Computer Programming, V.II: Seminumerical methods_, 3rd edition, Addison-Wesley, Boston.\n",
    "1. L'Ecuyer, P. and R. Simard, 2007. TestU01: A C Library for Empirical Testing of Random Number Generators, _ACM Trans. Math. Softw._, _33_, http://doi.acm.org/10.1145/1268776.1268777\n",
    "1. Marsaglia, G., 1968. Random Numbers Fall Mainly in the Planes, _PNAS_, _61_, 25&ndash;28.\n",
    "1. Marsaglia, G., 2003. Xorshift RNGs. _Journal of Statistical Software_, _8_, 1&ndash;6.\n",
    "1. Matsumoto, M., and T. Nishimura, 1998. 8). Mersenne twister: a 623-dimensionally equidistributed uniform pseudo-random number generator, _ACM Transactions on Modeling and Computer Simulation_, _8_, 3&ndash;30. doi:10.1145/272991.272995\n",
    "1. McCullough, B.D., 2008. Microsoft's 'Not the Wichmann-Hill' random number generator. _Computational Statistics and Data Analysis_, _52_ (10), 4587–4593. http://dx.doi.org/10.1016/j.csda.2008.03.006\n",
    "1. NIST Computer Security Division, _Random Number Generation_ http://csrc.nist.gov/groups/ST/toolkit/rng/\n",
    "1. O'Neill, M.E., 2015. PCG: A Family of Simple Fast Space-Efficient Statistically Good Algorithms for Random Number Generation, submitted to _ACM Transactions on Mathematical Software_. http://www.pcg-random.org/pdf/toms-oneill-pcg-family-v1.02.pdf\n",
    "1. http://www.pcg-random.org/\n",
    "1. Shannon, C.E., 1948. A Mathematical Theory of Communication, _Bell System Technical Journal, 27_, 379&ndash;423, 623&ndash;656. \n",
    "1. Vitter, J.S., 1985. Random Sampling with a Reservoir, _ACM Transactions on Mathematical Software, 11_, 37&ndash;57.\n",
    "1. Wikipedia articles, including https://en.wikipedia.org/wiki/Mersenne_Twister, https://en.wikipedia.org/wiki/Linear_congruential_generator, https://en.wikipedia.org/wiki/Comparison_of_hardware_random_number_generators, https://en.wikipedia.org/wiki/Pseudorandom_number_generator, https://en.wikipedia.org/wiki/List_of_random_number_generators, https://en.wikipedia.org/wiki/Random_number_generator_attack "
   ]
  },
  {
   "cell_type": "code",
   "execution_count": 18,
   "metadata": {
    "nbpresent": {
     "id": "27985606-0f78-414c-b5af-d21655f5ae76"
    },
    "scrolled": false,
    "slideshow": {
     "slide_type": "skip"
    }
   },
   "outputs": [
    {
     "name": "stdout",
     "output_type": "stream",
     "text": [
      "Loading extensions from ~/.ipython/extensions is deprecated. We recommend managing extensions like any other Python packages, in site-packages.\n"
     ]
    },
    {
     "name": "stderr",
     "output_type": "stream",
     "text": [
      "/anaconda/lib/python3.6/site-packages/IPython/core/formatters.py:830: FormatterWarning: JSON expects JSONable list/dict containers, not JSON strings\n",
      "  FormatterWarning)\n"
     ]
    },
    {
     "data": {
      "application/json": {
       "Software versions": [
        {
         "module": "Python",
         "version": "3.6.1 64bit [GCC 4.2.1 Compatible Apple LLVM 6.0 (clang-600.0.57)]"
        },
        {
         "module": "IPython",
         "version": "6.1.0"
        },
        {
         "module": "OS",
         "version": "Darwin 16.7.0 x86_64 i386 64bit"
        },
        {
         "module": "scipy",
         "version": "0.19.0"
        },
        {
         "module": "numpy",
         "version": "1.12.1"
        },
        {
         "module": "pandas",
         "version": "0.20.1"
        },
        {
         "module": "matplotlib",
         "version": "2.0.2"
        },
        {
         "module": "notebook",
         "version": "5.0.0"
        }
       ]
      },
      "text/html": [
       "<table><tr><th>Software</th><th>Version</th></tr><tr><td>Python</td><td>3.6.1 64bit [GCC 4.2.1 Compatible Apple LLVM 6.0 (clang-600.0.57)]</td></tr><tr><td>IPython</td><td>6.1.0</td></tr><tr><td>OS</td><td>Darwin 16.7.0 x86_64 i386 64bit</td></tr><tr><td>scipy</td><td>0.19.0</td></tr><tr><td>numpy</td><td>1.12.1</td></tr><tr><td>pandas</td><td>0.20.1</td></tr><tr><td>matplotlib</td><td>2.0.2</td></tr><tr><td>notebook</td><td>5.0.0</td></tr><tr><td colspan='2'>Fri Oct 27 11:39:51 2017 PDT</td></tr></table>"
      ],
      "text/latex": [
       "\\begin{tabular}{|l|l|}\\hline\n",
       "{\\bf Software} & {\\bf Version} \\\\ \\hline\\hline\n",
       "Python & 3.6.1 64bit [GCC 4.2.1 Compatible Apple LLVM 6.0 (clang-600.0.57)] \\\\ \\hline\n",
       "IPython & 6.1.0 \\\\ \\hline\n",
       "OS & Darwin 16.7.0 x86\\letterunderscore{}64 i386 64bit \\\\ \\hline\n",
       "scipy & 0.19.0 \\\\ \\hline\n",
       "numpy & 1.12.1 \\\\ \\hline\n",
       "pandas & 0.20.1 \\\\ \\hline\n",
       "matplotlib & 2.0.2 \\\\ \\hline\n",
       "notebook & 5.0.0 \\\\ \\hline\n",
       "\\hline \\multicolumn{2}{|l|}{Fri Oct 27 11:39:51 2017 PDT} \\\\ \\hline\n",
       "\\end{tabular}\n"
      ],
      "text/plain": [
       "Software versions\n",
       "Python 3.6.1 64bit [GCC 4.2.1 Compatible Apple LLVM 6.0 (clang-600.0.57)]\n",
       "IPython 6.1.0\n",
       "OS Darwin 16.7.0 x86_64 i386 64bit\n",
       "scipy 0.19.0\n",
       "numpy 1.12.1\n",
       "pandas 0.20.1\n",
       "matplotlib 2.0.2\n",
       "notebook 5.0.0\n",
       "Fri Oct 27 11:39:51 2017 PDT"
      ]
     },
     "execution_count": 18,
     "metadata": {},
     "output_type": "execute_result"
    }
   ],
   "source": [
    "%load_ext version_information\n",
    "%version_information scipy, numpy, pandas, matplotlib, notebook"
   ]
  },
  {
   "cell_type": "code",
   "execution_count": null,
   "metadata": {
    "collapsed": true,
    "nbpresent": {
     "id": "31a9a65d-d3a8-49ef-8ac2-7d7740c5a203"
    },
    "slideshow": {
     "slide_type": "skip"
    }
   },
   "outputs": [],
   "source": []
  }
 ],
 "metadata": {
  "anaconda-cloud": {},
  "celltoolbar": "Slideshow",
  "kernelspec": {
   "display_name": "Python 3",
   "language": "python",
   "name": "python3"
  },
  "language_info": {
   "codemirror_mode": {
    "name": "ipython",
    "version": 3
   },
   "file_extension": ".py",
   "mimetype": "text/x-python",
   "name": "python",
   "nbconvert_exporter": "python",
   "pygments_lexer": "ipython3",
   "version": "3.6.1"
  },
  "nbpresent": {
   "slides": {
    "2c31fdd9-dea4-4ccc-815a-10e8bda0941f": {
     "id": "2c31fdd9-dea4-4ccc-815a-10e8bda0941f",
     "prev": "eae1a0cf-36dc-49ca-a8d5-b7642ba36a22",
     "regions": {
      "d2ebb5bf-b74e-4c0b-8d3a-8b7378b8e630": {
       "attrs": {
        "height": 1,
        "width": 1,
        "x": 0,
        "y": 0
       },
       "content": {
        "cell": "cb23e26a-4f21-4615-b126-5d7a110eb542",
        "part": "whole"
       },
       "id": "d2ebb5bf-b74e-4c0b-8d3a-8b7378b8e630"
      }
     }
    },
    "76ded17c-b706-469b-934e-4466dea74da8": {
     "id": "76ded17c-b706-469b-934e-4466dea74da8",
     "layout": "manual",
     "prev": "e4c9bcb5-dd0b-4f11-8cb8-6a74aaab3448",
     "regions": {
      "8ecc2405-5135-4310-87be-9506e08a6260": {
       "attrs": {
        "height": 1,
        "width": 1,
        "x": -0.0035629453681710215,
        "y": 0.00422275006598047
       },
       "id": "8ecc2405-5135-4310-87be-9506e08a6260"
      }
     }
    },
    "bc4ff9cc-16ec-4c6f-98f3-7267bd014019": {
     "id": "bc4ff9cc-16ec-4c6f-98f3-7267bd014019",
     "prev": null,
     "regions": {
      "19ad7bc5-0af8-4ec5-b867-d56a5aef1e3d": {
       "attrs": {
        "height": 1,
        "width": 1,
        "x": 0,
        "y": 0
       },
       "content": {
        "cell": "7c592b78-433d-4db4-8bf3-51222abc2ce8",
        "part": "whole"
       },
       "id": "19ad7bc5-0af8-4ec5-b867-d56a5aef1e3d"
      }
     }
    },
    "e4c9bcb5-dd0b-4f11-8cb8-6a74aaab3448": {
     "id": "e4c9bcb5-dd0b-4f11-8cb8-6a74aaab3448",
     "prev": "2c31fdd9-dea4-4ccc-815a-10e8bda0941f",
     "regions": {
      "f060dfff-d4d8-494e-aa19-e2ad81d78a2d": {
       "attrs": {
        "height": 1,
        "width": 1,
        "x": 0,
        "y": 0
       },
       "content": {
        "cell": "f79b9a6d-7258-4d6a-9b08-cb8d56d21259",
        "part": "whole"
       },
       "id": "f060dfff-d4d8-494e-aa19-e2ad81d78a2d"
      }
     }
    },
    "eae1a0cf-36dc-49ca-a8d5-b7642ba36a22": {
     "id": "eae1a0cf-36dc-49ca-a8d5-b7642ba36a22",
     "prev": "bc4ff9cc-16ec-4c6f-98f3-7267bd014019",
     "regions": {
      "e4e5f330-1178-4d9b-9fc1-06afea68e454": {
       "attrs": {
        "height": 1,
        "width": 1,
        "x": 0,
        "y": 0
       },
       "content": {
        "cell": "f5841a19-e7ea-4e49-bdd8-2efe17ff3740",
        "part": "source"
       },
       "id": "e4e5f330-1178-4d9b-9fc1-06afea68e454"
      }
     }
    }
   },
   "themes": {}
  }
 },
 "nbformat": 4,
 "nbformat_minor": 1
}
