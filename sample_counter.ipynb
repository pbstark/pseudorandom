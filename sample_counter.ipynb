{
 "cells": [
  {
   "cell_type": "markdown",
   "metadata": {
    "nbpresent": {
     "id": "8c2af75e-2e00-4266-9cfb-a43d1b7971ea"
    }
   },
   "source": [
    "# Simple Random Sampling: Not So Simple\n",
    "\n",
    "Random sampling is one of the most fundamental tools in Statistics.\n",
    "\n",
    "Used for:\n",
    "\n",
    "+ Surveys and extrapolation\n",
    "    - Opinion surveys and polls\n",
    "    - Census (for some purposes) and Current Population Survey\n",
    "    - Environmental statistics\n",
    "    - Litigation, including class actions, discrimination, ...\n",
    "+ Experiments\n",
    "    - Medicine / clinical trials\n",
    "    - Agriculture\n",
    "    - Marketing\n",
    "    - Product development\n",
    "+ Quality control and auditing\n",
    "    - Process control\n",
    "    - Financial auditing\n",
    "    - Healthcare auditing\n",
    "    - Election auditing\n",
    "+ Sampling and resampling methods\n",
    "    - Bootstrap\n",
    "    - Permutation tests\n",
    "    - MCMC\n",
    "\n",
    "and on and on.\n",
    "\n",
    "_Simple random sampling_ refers to drawing $k \\le n$ items from a population of $n$ items, in such a way that\n",
    "each of the $n \\choose k$ subsets of size $k$ is equally likely.\n",
    "\n",
    "Many standard statistical methods assume the sample is drawn in this way, or allocated between treatment and control in this way (e.g., $k$ of $n$ subjects are assigned to treatment, and the remaining $n-k$ to control).\n",
    "\n",
    "\n",
    "This notebook examines common strategies for drawing pseudo-random samples of size $k$ from a population of size $n$. \n",
    "\n",
    "It has a brief disussion of pseudo-random number generators (PRNGs) and of algorithms used to select pseudo-random samples using PRNGs.\n",
    "\n",
    "Among other things, it finds bounds on the number of samples that can be generated using a variety of PRNGs, for a number of algorithms that use PRNs to generate samples:\n",
    "\n",
    "+ a common algorithm that involves assigning a PRN to each of the $n$ elements, then taking those elements assigned the smallest $k$ numbers to be the sample (`PIKK` for \"permute and keep $k$\")\n",
    "+ algorithm `R`, a streamable algorithm that also uses at least one PRN per element of the population, but avoids the sort\n",
    "+ algorithm `Random-Sample` on p. 130 of [Cormen et al. (2009)](https://mitpress.mit.edu/books/introduction-algorithms), which uses only $k$ random integers\n",
    "+ a hypothetical sampling algorithm that uses an optimal coding of samples to turn strings of $\\log_2{n \\choose k}$ bits into samples of size $k$\n",
    "\n",
    "It also considers how that affects the bias and uncertainty of estimates based on such pseudo-random samples rather than on actual simple random samples.\n",
    "\n",
    "PRNGs considered include [linear congruential generators](https://en.wikipedia.org/wiki/Linear_congruential_generator) (LCGs, including [RANDU](https://en.wikipedia.org/wiki/RANDU)), and the [Mersenne Twister](https://en.wikipedia.org/wiki/Mersenne_Twister). The behavior of the [middle square method](https://en.wikipedia.org/wiki/Middle-square_method) is worse. \n",
    "There is some discussion of using cryptographic hash functions to generate PRNs.\n",
    "\n",
    "[Kellie Ottoboni](http://www.stat.berkeley.edu/~kellieotto/), [Ronald L. Rivest](http://people.csail.mit.edu/rivest/) and [Philip B. Stark](www.stat.berkeley.edu/~stark)\n",
    "\n"
   ]
  },
  {
   "cell_type": "markdown",
   "metadata": {
    "nbpresent": {
     "id": "ddb12980-be3f-4970-ad1a-19add5f2fecb"
    }
   },
   "source": [
    "## References\n",
    "\n",
    "1. Cormen, T.H., C.E. Leiserson, R.L. Rivest and C. Stein, 2009. _Introduction to Algorithms, 3rd edition_, MIT Press.\n",
    "1. Fishman, G.S., and L.R. Moore, 1981. In Search of Correlation in Multiplicative Congruential Generators with Modulus 2\\*\\*31-1, _Computer Science and Statistics: Proceedings of the 13 Symposium on the Interface_, William F. Eddy, ed., Springer Verlag, New York.\n",
    "1. Knuth, D., 1997 _The Art of Computer Programming, V.II: Seminumerical methods_, 3rd edition, Addison-Wesley, Boston.\n",
    "1. L'Ecuyer, P. and R. Simard, 2007. TestU01: A C Library for Empirical Testing of Random Number Generators, _ACM Trans. Math. Softw._, _33_, http://doi.acm.org/10.1145/1268776.1268777\n",
    "1. Marsaglia, G., 1968. Random Numbers Fall Mainly in the Planes, _PNAS_, _61_, 25&ndash;28.\n",
    "1. Marsaglia, G., 2003. Xorshift RNGs. _Journal of Statistical Software_, _8_, 1&ndash;6.\n",
    "1. Matsumoto, M., and T. Nishimura, 1998. 8). Mersenne twister: a 623-dimensionally equidistributed uniform pseudo-random number generator, _ACM Transactions on Modeling and Computer Simulation_, _8_, 3&ndash;30. doi:10.1145/272991.272995\n",
    "1. NIST Computer Security Division, _Random Number Generation_ http://csrc.nist.gov/groups/ST/toolkit/rng/\n",
    "1. O'Neill, M.E., 2015. PCG: A Family of Simple Fast Space-Efficient Statistically Good Algorithms for Random Number Generation, submitted to _ACM Transactions on Mathematical Software_. http://www.pcg-random.org/pdf/toms-oneill-pcg-family-v1.02.pdf\n",
    "1. http://www.pcg-random.org/\n",
    "1. Shannon, C.E., 1948. A Mathematical Theory of Communication, _Bell System Technical Journal, 27_, 379&ndash;423, 623&ndash;656. \n",
    "1. Vitter, J.S., 1985. Random Sampling with a Reservoir, _ACM Transactions on Mathematical Software, 11_, 37&ndash;57.\n",
    "1. Wikipedia articles, including https://en.wikipedia.org/wiki/Mersenne_Twister, https://en.wikipedia.org/wiki/Linear_congruential_generator, https://en.wikipedia.org/wiki/Comparison_of_hardware_random_number_generators, https://en.wikipedia.org/wiki/Pseudorandom_number_generator, https://en.wikipedia.org/wiki/List_of_random_number_generators "
   ]
  },
  {
   "cell_type": "markdown",
   "metadata": {
    "nbpresent": {
     "id": "3a9f403c-cdc7-4657-a2e2-361ecd57fa3f"
    }
   },
   "source": [
    "Highly encourage you to look at the customer reviews of _A Million Random Digits with 100,000 Normal Deviates_ on Amazon.com \n",
    "\n",
    "https://www.amazon.com/Million-Random-Digits-Normal-Deviates/dp/0833030477\n",
    "\n",
    "> Such a terrific reference work! But with so many terrific random digits, it's a shame they didn't sort them, to make it easier to find the one you're looking for.\n",
    "\n",
    "> While the printed version is good, I would have expected the publisher to have an audiobook version as well. \n",
    "\n",
    "> The book is a promising reference concept, but the execution is somewhat sloppy. Whatever generator they used was not fully tested. The bulk of each page seems random enough. However at the lower left and lower right of alternate pages, the number is found to increment directly.\n",
    "\n",
    "> If you like this book, I highly recommend that you read it in the original binary. As with most translations, conversion from binary to decimal frequently causes a loss of information and, unfortunately, it's the most significant digits that are lost in the conversion.\n",
    "\n",
    "> At first, I was overjoyed when I received my copy of this book. However, when an enemy in my department showed me HER copy, I found that they were the OPPOSITE of random - they were IDENTICAL."
   ]
  },
  {
   "cell_type": "code",
   "execution_count": 1,
   "metadata": {
    "collapsed": false,
    "nbpresent": {
     "id": "cff8170e-2289-4e97-92f9-dc5a15e4c6d4"
    },
    "scrolled": false
   },
   "outputs": [],
   "source": [
    "%matplotlib inline\n",
    "from __future__ import division\n",
    "import math\n",
    "import numpy as np\n",
    "import scipy as sp\n",
    "from scipy.misc import comb, factorial\n",
    "from scipy.optimize import brentq\n",
    "from scipy.stats import chisquare\n",
    "import matplotlib.pyplot as plt\n",
    "from mpl_toolkits.mplot3d import Axes3D"
   ]
  },
  {
   "cell_type": "markdown",
   "metadata": {
    "nbpresent": {
     "id": "cafedd64-2342-4b7d-8ca2-ba0ebf738d25"
    }
   },
   "source": [
    "## Pigeon-hole principle\n",
    "\n",
    "If you put $N>n$ pigeons in $n$ pigeonholes, then at least one\n",
    "pigeonhole must contain more than one pigeon.\n",
    "\n",
    "## Corollary\n",
    "At most $n$ pigeons can be put in $n$ pigeonholes if at most\n",
    "one pigeon is put in each hole."
   ]
  },
  {
   "cell_type": "markdown",
   "metadata": {
    "nbpresent": {
     "id": "72344475-defb-4fc8-bf4e-78b774924ebd"
    }
   },
   "source": [
    "## Some pigeon coops\n",
    "\n",
    "| Expression     | full      |  scientific notation | \n",
    "|:---------------|:----------:|:----------:|\n",
    "|$2^{32}$        | 4,294,967,296 | 4.24e9 |\n",
    "|$2^{64}$        |   18,446,744,073,709,551,616 | 1.84e19|\n",
    "|$2^{128}$       |            | 3.40e38 |\n",
    "|$2^{32 \\times 624}$ | | 9.27e6010|\n",
    "|$13!$      |                           6,227,020,800 | 6.23e9|\n",
    "|$21!$      |     51,090,942,171,709,440,000 | 5.11e19|                        \n",
    "|$35!$      |                                    | 1.03e40|\n",
    "|$2084!$     |                                                 | 3.73e6013 |\n",
    "|${50 \\choose 10}$   |        10,272,278,170 | 1.03e10|\n",
    "|${100 \\choose 10}$ | 17,310,309,456,440 | 1.73e13|\n",
    "|${500 \\choose 10}$ |         |     2.4581e20 |\n",
    "|$\\frac{2^{32}}{{50 \\choose 10}}$   | 0.418 | |\n",
    "|$\\frac{2^{64}}{{500 \\choose 10}}$ | 0.075 | |\n",
    "|$\\frac{2^{32 \\times 624}}{{3.9e8 \\choose 1000}}$ | 0.00000158 | 1.58e-6 |"
   ]
  },
  {
   "cell_type": "markdown",
   "metadata": {
    "nbpresent": {
     "id": "266b487c-73ea-4c19-871a-51452517e3b2"
    }
   },
   "source": [
    "## Outline:\n",
    "\n",
    "+ Impossibility bounds from pidgeon-hole principle, assuming perfect PRNG\n",
    "+ Implications for $\\ell_1$ distances\n",
    "+ Some bad algorithms for sampling, assuming perfect PRNG\n",
    "    - drawing an integer uniform on ${1, \\ldots, m}$\n",
    "    - simple random sampling\n",
    "+ A review of PRNGs\n",
    "+ Empirical results for bias of the sample mean\n",
    "+ What should we do?"
   ]
  },
  {
   "cell_type": "markdown",
   "metadata": {
    "nbpresent": {
     "id": "72f3f417-99a8-44f2-950f-fca1289f1ab9"
    }
   },
   "source": [
    "## $L_1$ bounds\n",
    "\n",
    "Suppose ${\\mathbb P}_0$ and ${\\mathbb P}_1$ are probability distributions on a common measurable space. \n",
    "\n",
    "If there is some set $S$ for which ${\\mathbb P}_0 = \\epsilon$ and ${\\mathbb P}_1(S) = 0$, then $\\|{\\mathbb P}_0 - {\\mathbb P}_1 \\|_1 \\ge 2 \\epsilon$.\n",
    "\n",
    "It follows that there is a function $f$ with $|f| \\le 1$ such that \n",
    "\n",
    "$${\\mathbb E}_{{\\mathbb P}_0}f -  {\\mathbb E}_{{\\mathbb P}_1}f \\ge 2 \\epsilon.$$"
   ]
  },
  {
   "cell_type": "markdown",
   "metadata": {
    "nbpresent": {
     "id": "37476b18-79d1-483b-bfc2-ac25aefd6d85"
    }
   },
   "source": [
    "### Generating a random integer uniformly distributed on $\\{1, \\ldots, m\\}$\n",
    "\n",
    "`Random_Sample` requires $k$ independent random integers uniformly distributed on $\\{1, \\ldots, m\\}$, for $m = n-k, n-k+1, \\ldots, n$. \n",
    "\n",
    "#### Naive method\n",
    "A standard way to generate a random integer is to start with $X \\sim U[0,1)$ and define $Y \\equiv 1 + \\lfloor mX \\rfloor$. \n",
    "\n",
    "In theory, that's fine. But in practice, $X$ is not really $U[0,1)$ but instead is derived by normalizing a PRN\n",
    "that's uniform on $w$-bit integers. Then, unless $m$ is a power of 2, the distribution of $Y$ isn't uniform on $\\{1, \\ldots, m\\}$. For $m < 2^w$, the ratio of the largest to smallest selection probability \n",
    "is, to first order,  $1+ m 2^{-w}$. (See, e.g., Knuth v2 3.4.1.A.)\n",
    "\n",
    "For $m = 10^9$ and $w=32$, $1 + m 2^{-w} \\approx 1.233$. That could easily matter.\n",
    "\n",
    "For $m > 2^{w}$, at least $m-2^w$ values will have probability 0 instead of probability $1/m$. \n",
    "\n",
    "If $w=32$, then for $m>2^{32}=4.24e9$, some values will have probability 0. Until relatively recently, R did not support 64-bit integers."
   ]
  },
  {
   "cell_type": "markdown",
   "metadata": {
    "nbpresent": {
     "id": "7afe21f7-5625-44a5-9c11-21158c112bb2"
    }
   },
   "source": [
    "#### More accurate method\n",
    "A better way to generate a (pseudo-)random integer on $\\{1, \\ldots m\\}$ from a (pseudo-random) $w$-bit integer in practice is as follows:\n",
    "\n",
    "1. Set $\\mu = \\log_2(m-1)$.\n",
    "1. Define a $w$-bit _mask_ consisting of $\\mu$ bits set to 1 and $(w-\\mu)$ bits set to zero.\n",
    "1. Generate a random $w$-bit integer $Y$. \n",
    "1. Define $y$ to be the bitwise `and` of $y$ and the mask.\n",
    "1. If $y \\le m-1$, output $x = y+1$; otherwise, return to step 3.\n",
    "\n",
    "This is how random integers are generated in numpy by `numpy.random.randint()`.\n",
    "However, `numpy.random.choice()` does something else that's biased: it finds the closest integer to $mX$.\n",
    "\n",
    "In `R`, one would generally use the function `sample(1:m, k, replace=FALSE)` to draw pseudo-random\n",
    "integers. \n",
    "It seems that `sample()` uses the faulty `1 + floor(m*X)` approach. "
   ]
  },
  {
   "cell_type": "markdown",
   "metadata": {
    "nbpresent": {
     "id": "8fdde283-a832-4474-ab5e-ef3c9761d656"
    }
   },
   "source": [
    "<hr />\n",
    "# Random sampling\n",
    "\n",
    "A _simple random sample of size $k$ from a population of size $n$_ is a sample drawn in such a way that each of the ${n \\choose k}$ possible subsets of size $k$ is equally likely.\n",
    "\n",
    "Given a good source of randomness, there are many ways to operationalize this definition to draw simple random samples.\n",
    "\n",
    "One basic approach is like shuffling a deck of $n$ cards, then dealing the top $k$: permute the population at random, then take the first $k$ elements of the permutation to be the sample.\n",
    "\n",
    "There are a number of standard ways to generate a random permutation&mdash;i.e., to shuffle the deck."
   ]
  },
  {
   "cell_type": "markdown",
   "metadata": {
    "nbpresent": {
     "id": "a706651a-ad14-4c8f-b945-84478d65f78c"
    }
   },
   "source": [
    "### Algorithm `PIKK` (permute indices and keep $k$)\n",
    "\n",
    "For instance, if we had a way to generate independent, identically distributed (iid) $U[0,1]$ random numbers, we could do it as follows:\n",
    "\n",
    "**Algorithm `PIKK`**\n",
    "\n",
    "+ assign iid $U[0,1]$ numbers to the $n$ elements of the population\n",
    "+ the sample consists of the $k$ items assigned the smallest random numbers (break ties randomly)\n",
    "\n",
    "+ amounts to generating a random permutation of the population, then taking first $k$.\n",
    "+ if the numbers really are iid, every permutation is equally likely, and it follows that the first $k$ are an SRS\n",
    "+ requires $n$ random numbers (and sorting)"
   ]
  },
  {
   "cell_type": "code",
   "execution_count": 2,
   "metadata": {
    "collapsed": false,
    "nbpresent": {
     "id": "3c187f18-fda3-45b1-af42-a279549e2b74"
    },
    "scrolled": false
   },
   "outputs": [
    {
     "name": "stdout",
     "output_type": "stream",
     "text": [
      "0.746705110185\n",
      "[[ 0.3062164   0.11695244]\n",
      " [ 0.94576698  0.62202994]\n",
      " [ 0.22027683  0.72339154]\n",
      " [ 0.35785771  0.63662245]]\n",
      "3.0\n",
      "[[ 8.  7.]\n",
      " [ 9.  7.]\n",
      " [ 8. -1.]]\n"
     ]
    }
   ],
   "source": [
    "# LCG; defaults to RANDU, a particularly bad choice\n",
    "class lcgRandom: # defaults to RANDU: BEWARE!\n",
    "    def __init__(self, seed=1234567890, A=0, B=65539, M = 2**31): \n",
    "        self.state = seed\n",
    "        self.A = A\n",
    "        self.B = B\n",
    "        self.M = M\n",
    "        \n",
    "    def getState(self):\n",
    "        return self.state, self.A, self.B, self.M\n",
    "    \n",
    "    def setState(self,seed=1234567890, A=0, B=65539, M = 2**31):\n",
    "        self.state = seed\n",
    "        self.A = A\n",
    "        self.B = B\n",
    "        self.M = M\n",
    "\n",
    "    def nextRandom(self):\n",
    "        self.state = (self.A + self.B * self.state) % self.M\n",
    "        return self.state/self.M\n",
    "\n",
    "    def random(self, size=None):  # vector of rands\n",
    "        if size==None:\n",
    "            return self.nextRandom()\n",
    "        else: \n",
    "            return np.reshape(np.array([self.nextRandom() for i in np.arange(np.prod(size))]), size)\n",
    "    \n",
    "    def randint(self, low=0, high=None, size=None):  # integer between low (inclusive) and high (exclusive)\n",
    "        if high==None:  # numpy.random.randint()-like behavior\n",
    "            high, low = low, 0\n",
    "        if size==None:\n",
    "            return low + np.floor(self.nextRandom()*(high-low)) # NOT AN ACCURATE ALGORITHM! See below.\n",
    "        else:\n",
    "            return low + np.floor(self.random(size=size)*(high-low))\n",
    "        \n",
    "randu = lcgRandom()  # default values are RANDU\n",
    "\n",
    "# test random()\n",
    "print randu.random()\n",
    "print randu.random(size=(4,2))\n",
    "\n",
    "# test randint()\n",
    "print randu.randint(1,5)\n",
    "print randu.randint(-1,10,size=(3,2))"
   ]
  },
  {
   "cell_type": "code",
   "execution_count": 3,
   "metadata": {
    "collapsed": false,
    "nbpresent": {
     "id": "0e780766-11ca-4f79-8f44-01a3d6cbe624"
    },
    "scrolled": false
   },
   "outputs": [
    {
     "name": "stdout",
     "output_type": "stream",
     "text": [
      "set([32, 57, 4, 33, 73])\n",
      "set([81, 58, 76, 61, 15])\n"
     ]
    }
   ],
   "source": [
    "def PIKK(n,k, gen=np.random):\n",
    "    return set(np.argsort(gen.random(n))[0:k])\n",
    "\n",
    "print PIKK(100,5)\n",
    "print PIKK(100,5, gen=lcgRandom())"
   ]
  },
  {
   "cell_type": "markdown",
   "metadata": {
    "nbpresent": {
     "id": "3bc782e1-c678-499f-8ef8-3e7c6071f80a"
    }
   },
   "source": [
    "There are more efficient ways to generate a random permutation than assigning a number to each element and sorting, for instance the \"Fisher-Yates shuffle\" or \"Knuth shuffle\" (Knuth attributes it to Durstenfeld). \n",
    "\n",
    "**Algorithm Fisher-Yates-Knuth-Durstenfeld `shuffle` (backwards version)**\n",
    "\n",
    "    for i=1, ..., n-1:\n",
    "        J <- random integer uniformly distributed on {i, ..., n}\n",
    "        (a[J], a[i]) <- (a[i], a[J])\n",
    "        \n",
    "This requires the ability to generate independent random integers on various ranges. Doesn't require sorting.\n",
    "\n",
    "There's a version suitable for streaming, i.e., generating a random permutation of a list that has an (initially) unknown number $n$ of elements:\n",
    "\n",
    "**Algorithm Fisher-Yates-Knuth-Durstenfeld `shuffle` (streaming version)**\n",
    "\n",
    "    i <- 0\n",
    "    a = []\n",
    "    while there are records left:\n",
    "        i <- i+1\n",
    "        J <- random integer uniformly distributed on {1, ..., i}\n",
    "        if J < i:\n",
    "            a[i] <- a[J]\n",
    "            a[J] <- next record\n",
    "        else:\n",
    "            a[i] <- next record\n",
    "\n",
    "Again, need to be able to generate independent uniformly distributed random integers."
   ]
  },
  {
   "cell_type": "code",
   "execution_count": 4,
   "metadata": {
    "collapsed": false,
    "nbpresent": {
     "id": "e2cfd746-e9a4-4fd1-87b5-7c7426321266"
    },
    "scrolled": false
   },
   "outputs": [
    {
     "name": "stdout",
     "output_type": "stream",
     "text": [
      "[4, 2, 0, 3, 9, 5, 6, 1, 8, 7]\n"
     ]
    }
   ],
   "source": [
    "def fykd(a, gen=np.random):\n",
    "    for i in range(len(a)-2):\n",
    "        J = gen.randint(i,len(a))\n",
    "        a[i], a[J] = a[J], a[i]\n",
    "    return(a)\n",
    "\n",
    "print fykd(range(10))"
   ]
  },
  {
   "cell_type": "markdown",
   "metadata": {
    "nbpresent": {
     "id": "0dd3fa87-4f21-4743-96d8-1e9b7b38d670"
    }
   },
   "source": [
    "### Proof that the streaming Fisher-Yates-Knuth-Durstenfeld algorithm works\n",
    "\n",
    "Induction: \n",
    "\n",
    "For $i=1$, obvious.\n",
    "\n",
    "At stage $i$, suppose all $i!$ permutations are equally likely. For each such permutation, there are\n",
    "$i+1$ distinct, equally likely permutations at stage $i+1$, resulting from swapping the $i+1$st item with one\n",
    "of the first $i$, or putting it in position $i+1$. These possibilities are mutually exclusive of\n",
    "the permutations attainable from a different permutation of the first $i$ items.\n",
    "\n",
    "Thus, this enumerates all $(i+1)i! = (i+1)!$ permutations of $(i+1)$ items, and they are equally likely. &#x25A0;"
   ]
  },
  {
   "cell_type": "markdown",
   "metadata": {
    "nbpresent": {
     "id": "6816a681-8996-4885-8fd1-305004c9eeaf"
    }
   },
   "source": [
    "## A good way to get a bad shuffle\n",
    "\n",
    "Sort using a \"random\" comparison function, e.g.,\n",
    "\n",
    "    def RandomSort(a,b):\n",
    "        return (0.5 - np.random.random())\n",
    "\n",
    "But this fails the basic properties of an ordering, e.g., transitivity, reflexiveness, etc. Doesn't produce random permutation. Output also depends on sorting algorithm. \n",
    "\n",
    "#### The right way, the wrong way, and the Microsoft way.\n",
    "Notoriously used by Microsoft to offer a selection of browsers in the EU. Resulted in IE being 5th of 5 about half the time in IE and about 26% of the time in Chrome, but only 6% of the time in Safari (4th about 40% of the time). \n",
    "\n",
    "See, e.g., http://www.computerworld.com/article/2520190/web-apps/microsoft-s-eu-ballot-fails-to-randomize-browser-order.html\n"
   ]
  },
  {
   "cell_type": "markdown",
   "metadata": {
    "nbpresent": {
     "id": "a84b3be0-9837-4d65-b77f-2ee2ae6f7092"
    }
   },
   "source": [
    "### Cormen et al. (2009) Algorithm `Random_Sample`\n",
    "\n",
    "+ recursive algorithm\n",
    "+ requires only $k$ random numbers (integers)\n",
    "+ does not require sorting"
   ]
  },
  {
   "cell_type": "code",
   "execution_count": 5,
   "metadata": {
    "collapsed": false,
    "nbpresent": {
     "id": "c997a519-de55-48ce-a631-18c28c202b0b"
    },
    "scrolled": false
   },
   "outputs": [
    {
     "data": {
      "text/plain": [
       "{10, 20, 74, 81, 100}"
      ]
     },
     "execution_count": 5,
     "metadata": {},
     "output_type": "execute_result"
    }
   ],
   "source": [
    "def Random_Sample(n, k, gen=np.random):  # from Cormen et al.\n",
    "    if k==0:\n",
    "        return set()\n",
    "    else:\n",
    "        S = Random_Sample(n-1, k-1)\n",
    "        i = gen.randint(1,n) \n",
    "        if i in S:\n",
    "            S = S.union([n])\n",
    "        else:\n",
    "            S = S.union([i])\n",
    "    return S\n",
    "\n",
    "Random_Sample(100,5)"
   ]
  },
  {
   "cell_type": "markdown",
   "metadata": {
    "nbpresent": {
     "id": "20fee7fb-3c07-46de-98dc-08adc780997d"
    }
   },
   "source": [
    "That this algorithm produces an SRS is not obvious. For illustration, consider the case $n=10$, $k=2$.\n",
    "\n",
    "The first recursive call decreases $k$ to 1. The second decreases $k$ to 0, so $S=\\{\\}$ and we return up a level\n",
    "of recursion.  \n",
    "That level draws $i = i_1$ from $\\{1, \\ldots , 9\\}$. This $i$ isn't in $S$, so each value in $\\{1, \\ldots, 9\\}$ \n",
    "has probability $1/9$ of being in $S$ at this stage. \n",
    "Now we pop to the top recursive level and draw $i =i_2$ from $\\{1, \\ldots, 10\\}$, independently\n",
    "of $i_1$.\n",
    "\n",
    "Consider two inclusion probabilities: $\\Pr \\{ S \\supset \\{1, 2\\} \\}$ and $\\Pr \\{ S \\supset \\{1, 10\\} \\}$.\n",
    "\n",
    "$$ \\Pr(S \\supset \\{1,2\\}) = P(\\{i_1=1 \\mbox{ and } i_2=2 \\} \\mbox{ or }  \\{ i_1=2 \\mbox{ and } i_2=1 \\}) = P(i_1=1 \\mbox{ and } i_2=2) + P(i_1=2 \\mbox{ and } i_2=1)\n",
    "= (1/9)(1/10)+(1/9)(1/10) = 2/90 = \\frac{1}{{10 \\choose 2 }}.$$\n",
    "\n",
    "$$ \\Pr (S \\supset \\{1,10\\}) = P(i_1=1 \\mbox{ and } \\{i_2=10 \\mbox{ or } i_2=1\\})\n",
    "= (1/9)(1/10 + 1/10) = 2/90.$$"
   ]
  },
  {
   "cell_type": "markdown",
   "metadata": {
    "nbpresent": {
     "id": "5ba00eb5-2f76-4bfd-8805-6f5de14d3d54"
    }
   },
   "source": [
    "## Reservoir algorithms \n",
    "\n",
    "The previous algorithms require $n$ to be known.\n",
    "There are _reservoir_ algorithms that do not.\n",
    "Moreover, the algorithms are suitable for streaming (aka _online_) use: items are examined\n",
    "sequentially and either enter into the reservoir, or, if not, are never revisited."
   ]
  },
  {
   "cell_type": "markdown",
   "metadata": {
    "nbpresent": {
     "id": "cf538b23-80fe-4c86-b701-8b41ace2d7b5"
    }
   },
   "source": [
    "## Algorithm `R`, Waterman (per Knuth, 1997)\n",
    "+ Put first $k$ items into the _reservoir_\n",
    "+ when item $k+j$ is examined, either skip it (with probability $j/(k+j)$) or swap for a uniformly selected item in the reservoir (with probability $k/(k+j)$)\n",
    "+ naive version requires generating at most $n-k$ random numbers\n",
    "+ closely related to FYKD shuffle"
   ]
  },
  {
   "cell_type": "code",
   "execution_count": 6,
   "metadata": {
    "collapsed": false,
    "nbpresent": {
     "id": "9de0e0a3-0138-4574-ac14-6d6512ca9ff3"
    },
    "scrolled": false
   },
   "outputs": [
    {
     "data": {
      "text/plain": [
       "{5, 16, 57, 93, 99}"
      ]
     },
     "execution_count": 6,
     "metadata": {},
     "output_type": "execute_result"
    }
   ],
   "source": [
    "def R(n,k):  # Waterman's algorithm R\n",
    "    S = range(1, k+1)  # fill the reservoir\n",
    "    for t in range(k+1,n+1):\n",
    "        i = np.random.randint(1,t)\n",
    "        if i <= k:\n",
    "            S[i-1] = t\n",
    "    return set(S)\n",
    "\n",
    "R(100,5)"
   ]
  },
  {
   "cell_type": "markdown",
   "metadata": {
    "nbpresent": {
     "id": "1b0da558-4925-4a78-a448-a57a88896a41"
    }
   },
   "source": [
    "Like `Random-Sample`, the proof that algorithm `R` generates an SRS uses the ability to generate independent random integers, uniformly distributed on $\\{1, \\ldots, m \\}$."
   ]
  },
  {
   "cell_type": "markdown",
   "metadata": {
    "nbpresent": {
     "id": "c90702ad-4964-454d-bde8-c1e51737bc07"
    }
   },
   "source": [
    "## Algorithm Z, Vitter (1985)\n",
    "\n",
    "Much more efficient than `R`, using random skips. Works in time essentially linear in $k$. \n",
    "\n",
    "Note: Vitter proposes using the (inaccurate) $J = \\lfloor mU \\rfloor$ to generate a random integer between $0$ and $m$ in both algorithm `R` and algorithm `Z`. The issue is pervasive!"
   ]
  },
  {
   "cell_type": "markdown",
   "metadata": {
    "nbpresent": {
     "id": "6c622156-18e7-40be-92de-417b28159585"
    }
   },
   "source": [
    "## Pseudo-random number generators (PRNGs)\n",
    "\n",
    "Most computers lack the hardware needed to generate truly random numbers. (But see, e.g., https://en.wikipedia.org/wiki/Comparison_of_hardware_random_number_generators.  As of 23 June 2016, www.random.org claims to have produced $1.30 \\times 10^9$ random bits. That's aa little less than 10 full periods of a PRNG with 32-bit output and 32-bit state.)\n",
    "\n",
    "Instead, they use algorithms called pseudo-random number generators (PRNGs) to generate deterministic sequences from an initial \"seed,\" which generally can be set by the user, for instance to an externally generated random value.\n",
    "\n",
    "Depending on the quality of the PRNG, the sequences behave more or less like sequences of random numbers.\n",
    "\n",
    "Each time a number is generated, the PRNG's \"state\" changes.\n",
    "\n",
    "Must consider fitness for use of PRNGs. What's \"good enough?\"\n",
    "\n",
    "Different requirements for statistics with small data, simulations, statistics with big data, and cryptography."
   ]
  },
  {
   "cell_type": "markdown",
   "metadata": {
    "nbpresent": {
     "id": "d55eed53-0b64-4582-afcc-b897ac1ed089"
    }
   },
   "source": [
    "## Properties of PRNGs\n",
    "\n",
    "+ dimension of output\n",
    "    - commonly 32 bits, but some have more\n",
    "    \n",
    "+ number of states\n",
    "    - dimension of state space in bits\n",
    "    - sometimes state = output, but better generators generally have output = f(state)\n",
    "\n",
    "+ period\n",
    "    - maximum over initial states of the number of states visited before repeating\n",
    "    - period &le; number of states\n",
    "    - if state has $s$ bits, period $\\le 2^s$\n",
    "    - for some PRNGs, period is much less than number of states\n",
    "    - for some seeds for some PRNGs, number of states visited is much less than period\n",
    "    \n",
    "+ $k$-distribution\n",
    "    - suppose $\\{X_i\\}$ is sequence of $P$ $w$-bit integers\n",
    "    - define $t_v(X_i)$ to be the first $v$ bits of $X_i$\n",
    "    - $\\{X_i\\}$ is $k$-distributed to $v$-bit accuracy if each of the $2^{kv}-1$ possible nonzero $kv$-bit vectors occurs equally often among the $P$ $kv$-bit vectors\n",
    "$$ (t_v(X_i),\\,t_v(X_{i+1}), \\ldots ,t_v(X_{i+k-1}))\\quad (0\\le i<P),$$\n",
    "and the zero vector occurs once less often.\n",
    "    - amounts to a form of uniformity in $k$-dimensional space, over an entire cycle\n",
    "    - does not measure dependence or other \"serial\" properties\n",
    "\n",
    "+ sensitivity to initial state; burn-in\n",
    "    - many PRNGs don't do well if the seed has too many zeros\n",
    "    - some require many iterations before output behaves well\n",
    "    - for some seeds, some PRNGs repeat very quickly"
   ]
  },
  {
   "cell_type": "markdown",
   "metadata": {
    "nbpresent": {
     "id": "b35b269d-0b5f-46bf-a48a-c9e9fdc27cf7"
    }
   },
   "source": [
    "## Some PRNGs"
   ]
  },
  {
   "cell_type": "markdown",
   "metadata": {
    "nbpresent": {
     "id": "2a3a7a60-487f-41e1-88b1-97dbe93394f6"
    }
   },
   "source": [
    "### Middle Square\n",
    "\n",
    "Dates to Franciscan friar ca. 1240 (per [Wikipedia](https://en.wikipedia.org/wiki/Middle-square_method)); reinvented by von Neumann ca. 1949.\n",
    "\n",
    "Take $n$-digit number, square it, use middle $n$ digits as the \"random\" and the new seed.\n",
    "\n",
    "E.g., for $n=4$, take $X_0 = 1234$.\n",
    "\n",
    "$1234^2 = 1522756$, so $X_1 = 2275$.\n",
    "\n",
    "$2275^2 = 5175625$, so $X_2 = 7562$.\n",
    "\n",
    "+ $10^n$ possible states, but not all attainable from a given seed\n",
    "+ period at most $8^n$, but can be very short. E.g., for $n=4$,\n",
    "    - 0000, 0100, 2500, 3792, & 7600 repeat forever\n",
    "    - 0540 &rightarrow; 2916 &rightarrow; 5030 &rightarrow; 3009 &rightarrow; 0540\n"
   ]
  },
  {
   "cell_type": "markdown",
   "metadata": {
    "nbpresent": {
     "id": "320f5ca5-9a95-4cc1-b3b4-bf7ebe2b4f0c"
    }
   },
   "source": [
    "### Linear Congruential Generators (LCGs)\n",
    "\n",
    "$$ X_{n+1} = (aX_n +c)\\mod m.$$\n",
    "\n",
    "LCG period is at most $m$.\n",
    "\n",
    "#### Hull-Dobell Theorem: the period of an LCG is $m$ for all seeds $X_0$ iff\n",
    "\n",
    "+ $m$ and $c$ are relatively prime\n",
    "+ $a-1$  is divisible by all prime factors of $m$\n",
    "+ $a-1$  is divisible by 4 if $m$ is divisible by 4\n"
   ]
  },
  {
   "cell_type": "markdown",
   "metadata": {
    "nbpresent": {
     "id": "16c59de7-737f-40aa-89bb-99d4c9112ce0"
    }
   },
   "source": [
    "### RANDU\n",
    "\n",
    "RANDU is a particularly bad [linear congruential generator](https://en.wikipedia.org/wiki/Linear_congruential_generator) promulgated in the 1960s and widely copied.\n",
    "\n",
    "RANDU is given by the recursion\n",
    "\n",
    "$$ X_{j+1} = 65539 X_j\\mod 2^{31}.$$\n",
    "\n",
    "It has a short period ($2^{29}$), all its outputs are odd integers. It fails the spectral test.\n",
    "\n",
    "Triples of values from RANDU fall on 15 planes in 3-dimensional space, as shown below."
   ]
  },
  {
   "cell_type": "code",
   "execution_count": 7,
   "metadata": {
    "collapsed": false,
    "nbpresent": {
     "id": "82a66e03-cfc3-4853-8de2-3663668568f0"
    },
    "scrolled": false
   },
   "outputs": [],
   "source": [
    "# generate triples using RANDU\n",
    "reps = int(10**5)\n",
    "\n",
    "xs = np.transpose(randu.random(size=(reps,3)))"
   ]
  },
  {
   "cell_type": "code",
   "execution_count": 24,
   "metadata": {
    "collapsed": false,
    "nbpresent": {
     "id": "a2c274e9-e39c-48ad-bc96-a21cb3e4e0c0"
    },
    "scrolled": false
   },
   "outputs": [
    {
     "data": {
      "image/png": "[encoded data removed]",
      "text/plain": [
       "<matplotlib.figure.Figure at 0x10b46d810>"
      ]
     },
     "metadata": {},
     "output_type": "display_data"
    }
   ],
   "source": [
    "# plot the triples as points in R^3\n",
    "fig = plt.figure()\n",
    "ax = fig.add_subplot(111, projection='3d')\n",
    "ax.scatter(xs[0],xs[1], xs[2])\n",
    "\n",
    "plt.rcParams['figure.figsize'] = (18.0, 18.0) \n",
    "\n",
    "ax.view_init(-100,110)\n",
    "\n",
    "plt.show()"
   ]
  },
  {
   "cell_type": "markdown",
   "metadata": {
    "nbpresent": {
     "id": "ae2166a7-ff87-4572-8fec-6f7d1461b74b"
    }
   },
   "source": [
    "### Wichmann-Hill (1982)\n",
    "\n",
    "Sum of 3 LCGs. Period is 6,953,607,871,644. \n",
    "\n",
    "    def WH(s1, s2, s3):\n",
    "        s1 = (171 * s1) % 30269\n",
    "        s2 = (172 * s2) % 30307\n",
    "        s3 = (170 * s3) % 30323\n",
    "        r = (s1/30269 + s2/30307 + s3/30323) %  1\n",
    "        return [r, s1, s2, s3]\n",
    "\n",
    "#### The right way, the wrong way, and the Microsoft way.\n",
    "WH generally not considered adequate for statistics, but was (nominally) the PRNG in Excel for several\n",
    "generations. Excel did not allow the seed to be set, so analyses were not reproducible.\n",
    "\n",
    "Moreover, WH in Excel had an implementation bug that persisted for several generations (occasionally gave\n",
    "a negative number; since seed couldn't be set, could not replicate!). See\n",
    "McCullough, B.D., 2008. Microsoft Excel’s ‘Not The Wichmann–Hill’ random number generators\n",
    "_Computational Statistics & Data Analysis_, _52_, 4587&ndash;4593\n",
    "doi:10.1016/j.csda.2008.03.006"
   ]
  },
  {
   "cell_type": "markdown",
   "metadata": {
    "nbpresent": {
     "id": "c60a7ecf-5ef4-46f5-a471-82ed03b4ff04"
    }
   },
   "source": [
    "### Mersenne Twister (MT)  Matsumoto & Nishimura (1997)\n",
    "\n",
    "+ example of \"twisted generalized feedback shift register\"\n",
    "+ period $2^{19937}-1$, a Mersenne Prime\n",
    "+ $k$-distributed to 32-bit accuracy for all $k \\in \\{1, \\ldots, 623\\}$. \n",
    "+ passes DIEHARD and most of TestU01 (see below)\n",
    "+ standard in many packages:\n",
    "    - GNU Octave, Maple, MATLAB, Mathematica, Python, R, Stata\n",
    "    - Apache, CMU Common Lisp, Embeddable Common Lisp, Free Pascal, GLib, PHP, GAUSS, IDL, Julia, Ruby, SageMath, Steel Bank Common Lisp, Scilab, Stata, GNU Scientific Library, GNU Multiple Precision Arithmetic Library, Microsoft Visual C++, C++ (v11 and up).\n",
    "    - SPSS and SAS offer MT \n",
    "+ generally considered adequate for statistics (but not for cryptography); however, will trouble that in this work, esp. for \"big data\"\n",
    "+ usual implementation has 624-dimensional state space, but TinyMT uses only 127 bits\n",
    "+ seeding complicated, since state is an array\n",
    "+ can take a while to \"burn in,\" especially for seeds with many zeros\n",
    "+ output for close seed states can be close\n",
    "+ 2002 update improves seeding\n",
    "+ completely predictable from 624 successive outputs\n",
    "+ problems discovered in 2007 (see TestU01, below)"
   ]
  },
  {
   "cell_type": "code",
   "execution_count": 9,
   "metadata": {
    "collapsed": true,
    "nbpresent": {
     "id": "7ea35026-263c-4087-b3db-23fe53ecad58"
    },
    "scrolled": false
   },
   "outputs": [],
   "source": [
    "# Python implementation of MT19937 from Wikipedia \n",
    "# https://en.wikipedia.org/wiki/Mersenne_Twister#Python_implementation\n",
    "\n",
    "def _int32(x):\n",
    "    # Get the 32 least significant bits.\n",
    "    return int(0xFFFFFFFF & x)\n",
    "\n",
    "class MT19937:\n",
    "\n",
    "    def __init__(self, seed):\n",
    "        # Initialize the index to 0\n",
    "        self.index = 624\n",
    "        self.mt = [0] * 624\n",
    "        self.mt[0] = seed  # Initialize the initial state to the seed\n",
    "        for i in range(1, 624):\n",
    "            self.mt[i] = _int32(\n",
    "                1812433253 * (self.mt[i - 1] ^ self.mt[i - 1] >> 30) + i)\n",
    "\n",
    "    def extract_number(self):\n",
    "        if self.index >= 624:\n",
    "            self.twist()\n",
    "\n",
    "        y = self.mt[self.index]\n",
    "\n",
    "        # Right shift by 11 bits\n",
    "        y = y ^ y >> 11\n",
    "        # Shift y left by 7 and take the bitwise and of 2636928640\n",
    "        y = y ^ y << 7 & 2636928640\n",
    "        # Shift y left by 15 and take the bitwise and of y and 4022730752\n",
    "        y = y ^ y << 15 & 4022730752\n",
    "        # Right shift by 18 bits\n",
    "        y = y ^ y >> 18\n",
    "\n",
    "        self.index = self.index + 1\n",
    "\n",
    "        return _int32(y)\n",
    "\n",
    "    def twist(self):\n",
    "        for i in range(624):\n",
    "            # Get the most significant bit and add it to the less significant\n",
    "            # bits of the next number\n",
    "            y = _int32((self.mt[i] & 0x80000000) +\n",
    "                       (self.mt[(i + 1) % 624] & 0x7fffffff))\n",
    "            self.mt[i] = self.mt[(i + 397) % 624] ^ y >> 1\n",
    "\n",
    "            if y % 2 != 0:\n",
    "                self.mt[i] = self.mt[i] ^ 0x9908b0df\n",
    "        self.index = 0"
   ]
  },
  {
   "cell_type": "markdown",
   "metadata": {
    "nbpresent": {
     "id": "199fd3d0-ccf3-41aa-90f1-d6305ae53d27"
    }
   },
   "source": [
    "### xorshift family\n",
    "\n",
    "Originated by Marsaglia, 2003.\n",
    "\n",
    "Vigna, S., 2014. Further scramblings of Marsaglia's xorshift generators. https://arxiv.org/abs/1404.0390\n",
    "\n",
    "128-bit xorshift+  Implemented in Python package randomstate https://pypi.python.org/pypi/randomstate/1.10.1\n",
    "\n",
    "    uint64_t s[2];\n",
    "\n",
    "    uint64_t xorshift128plus(void) {\n",
    "\t    uint64_t x = s[0];\n",
    "\t    uint64_t const y = s[1];\n",
    "\t    s[0] = y;\n",
    "\t    x ^= x << 23; // a\n",
    "\t    s[1] = x ^ y ^ (x >> 17) ^ (y >> 26); // b, c\n",
    "\t    return s[1] + y;\n",
    "    }\n",
    "    \n",
    "    \n",
    "1024-bit xorshift+\n",
    "\n",
    "    uint64_t s[16];\n",
    "    int p;\n",
    "    \n",
    "    uint64_t next(void) {\n",
    "        const uint64_t s0 = s[p];\n",
    "        uint64_t s1 = s[p = (p + 1) & 15];\n",
    "        const uint64_t result = s0 + s1;\n",
    "        s1 ^= s1 << 31; // a\n",
    "        s[p] = s1 ^ s0 ^ (s1 >> 11) ^ (s0 >> 30); // b, c\n",
    "    return result;\n",
    "}\n",
    "\n",
    "xorshift+ passes all the tests in BigCrush, has 128-bit state space and period $2^{128}-1$, but is \n",
    "only $(k-1)$-dimensionally equidistributed, where $k$ is the dimension of the distribution of the xorshift\n",
    "generator from which it's derived. E.g., for the 128-bit version, xorshift+ is only 1-dimensionally equidistributed."
   ]
  },
  {
   "cell_type": "markdown",
   "metadata": {
    "nbpresent": {
     "id": "b787f275-b859-4145-95b1-665a1d48ad59"
    }
   },
   "source": [
    "## Other non-cryptographic PRNGs\n",
    "\n",
    "See http://www.pcg-random.org/ and the talk http://www.pcg-random.org/posts/stanford-colloquium-talk.html\n",
    "\n",
    "PCG family permutes the output of a LCG; good statistical properties and very fast and compact. Related to Rivest's RC5 cipher.\n",
    "\n",
    "Seems better than MT, xorshift+, et al. \n",
    "\n",
    "    // *Really* minimal PCG32 code / (c) 2014 M.E. O'Neill / pcg-random.org\n",
    "    // Licensed under Apache License 2.0 (NO WARRANTY, etc. see website)\n",
    "\n",
    "    typedef struct { uint64_t state;  uint64_t inc; } pcg32_random_t;\n",
    "\n",
    "    uint32_t pcg32_random_r(pcg32_random_t* rng)\n",
    "    {\n",
    "        uint64_t oldstate = rng->state;\n",
    "        // Advance internal state\n",
    "        rng->state = oldstate * 6364136223846793005ULL + (rng->inc|1);\n",
    "        // Calculate output function (XSH RR), uses old state for max ILP\n",
    "        uint32_t xorshifted = ((oldstate >> 18u) ^ oldstate) >> 27u;\n",
    "        uint32_t rot = oldstate >> 59u;\n",
    "        return (xorshifted >> rot) | (xorshifted << ((-rot) & 31));\n",
    "    }"
   ]
  },
  {
   "cell_type": "markdown",
   "metadata": {},
   "source": [
    "## Tests of PRNGS\n",
    "\n",
    "### Theoretical analyses, e.g., Knuth (1969), Marsaglia (1968)\n",
    "\n",
    "### Statistical tests\n",
    "\n",
    "#### Knuth (1969) _The Art of Computer Programming_, v.2 \n",
    "\n",
    "+ 11 types of behavior: equidistribution, series, gaps, poker, coupon collector, permutation frequency, runs, max of $t$, collisions, birthday spacings, serial correlation\n",
    "+ tests on subsequences, spectral test\n",
    "+ Many $\\chi^2$-based tests\n",
    "+ Kolmogorov-Smirnov test for uniformity\n",
    "+ Sphere-packing\n",
    "+ **MORE**\n",
    "\n",
    "#### Marsaglia (1996) DIEHARD tests\n",
    "\n",
    "+ Birthday spacings\n",
    "+ Overlapping permutations of 5 random numbers\n",
    "+ Ranks of binary matrices of various dimensions\n",
    "+ Monkeys at typewriters: count overlapping \"words\" in strings of bits\n",
    "+ Count the 1s in bytes; translate to \"words.\"\n",
    "+ Parking lot test, 100 &times; 100 square lot. Count non-collisions.\n",
    "+ Minimum distance test: Min distance between 8,000 random points in a 10,000 &times; 10,000 square. \n",
    "+ Sphere-packing in a cube at random; diameter of smallest sphere.\n",
    "+ Squeeze test: Multiply 231 by random floats on (0,1) until hitting 1.\n",
    "+ Overlapping sums of 100 random (0,1) floats.\n",
    "+ Runs test for random floats\n",
    "+ #wins and # rolls in 200,000 games of craps\n",
    "\n",
    "#### L’Ecuyer and Simard (2007) TestU01 http://dl.acm.org/citation.cfm?doid=1268776.1268777\n",
    "\n",
    "+ Kolmogorov-Smirnov, Cr&aacute;mer-von Mises, Anderson-Darling, clustering, runs, gaps, hits in partition of a hypercube (collisions, empty cells, time between visits, ...), birthday spacings, close pairs, coupon collector, sum collector, complexity of bit strings (linear complexity, jump complexity, jump size complexity, Lempel-Ziv complexity), spectral tests on bit strings, autocorrelation of bits, runs and gaps in bits, ..., ranks of binary matrices, longest runs, Hamming weights, random walks, close pairs of binary sequences, \n",
    "\n",
    "#### NIST \n",
    "\n",
    "+ http://csrc.nist.gov/groups/ST/toolkit/rng/stats_tests.html\n",
    "+ http://csrc.nist.gov/groups/ST/toolkit/rng/documents/SP800-22rev1a.pdf"
   ]
  },
  {
   "cell_type": "markdown",
   "metadata": {
    "nbpresent": {
     "id": "bdef9321-714e-4fd5-8b6b-56ced5ed9dee"
    }
   },
   "source": [
    "### Methods based on cryptographic hash functions\n",
    "\n",
    "Cryptographic hash functions have several basic properties:\n",
    "\n",
    "1. produce fixed-length \"digest\" of an arbitrarily long \"message\": $H:\\{0, 1\\}^* \\rightarrow \\{0, 1\\}^L$.\n",
    "1. inexpensive to compute\n",
    "1. non-invertible (\"one-way,\" hard to find pre-image of any hash except by exhaustive enumeration)\n",
    "1. collision-resistant (hard to find $M_1 \\ne M_2$ such that $H(M_1) = H(M_2)$)\n",
    "1. small change to input produces big change to output (\"unpredictable,\" input and output effectively independent)\n",
    "1. equidistributed: bits of the hash are essentially random \n",
    "\n",
    "Summary: _as if_ $H(M)$ is random $L$-bit string is assigned to $M$ in a way that's essentially unique."
   ]
  },
  {
   "cell_type": "markdown",
   "metadata": {
    "nbpresent": {
     "id": "3b170eb0-5041-4692-8409-c6711db37054"
    }
   },
   "source": [
    "## 1 step of SHA-256\n",
    "By User:kockmeyer - Own work, CC BY-SA 3.0, https://commons.wikimedia.org/w/index.php?curid=1823488\n",
    "\n",
    "<img src=\"./SHA-2.svg\" />\n",
    "\n",
    "$$ \\mbox{Ch} (E,F,G) \\equiv (E\\land F)\\oplus (\\neg E\\land G) $$\n",
    "$$ \\mbox{Ma} (A,B,C) \\equiv (A\\land B)\\oplus (A\\land C)\\oplus (B\\land C) $$\n",
    "$$ \\Sigma _0 (A) \\equiv (A\\!\\ggg \\!2)\\oplus (A\\!\\ggg \\!13)\\oplus (A\\!\\ggg \\!22) $$\n",
    "$$ \\Sigma _1 (E) \\equiv (E\\!\\ggg \\!6)\\oplus (E\\!\\ggg \\!11)\\oplus (E\\!\\ggg \\!25) $$\n",
    "$$\\boxplus  \\mbox{ is addition mod } 2^{32}$$\n"
   ]
  },
  {
   "cell_type": "markdown",
   "metadata": {
    "nbpresent": {
     "id": "105aba73-fc08-46ae-9f04-4643288d1520"
    }
   },
   "source": [
    "#### Simple, hash-based PRNG\n",
    "\n",
    "Generate a random string $S$ of reasonable length, e.g., 20 digits.\n",
    "\n",
    "$$ X_i = {\\mbox{Hash}}(S+i),$$\n",
    "\n",
    "where $+$ denotes string concatenation, and the resulting string is interpreted as a (long) hexadecimal number.\n",
    "\n",
    "Implementation in Python by Ron Rivest: http://people.csail.mit.edu/rivest/sampler.py\n",
    "\n",
    "Implementation in angular-js by Chris Jerdonek: https://github.com/cjerdonek/quick-sampler\n",
    "\n",
    "Implementation in JavaScript by Philip Stark: https://www.stat.berkeley.edu/~stark/Java/Html/sha256Rand.htm"
   ]
  },
  {
   "cell_type": "markdown",
   "metadata": {
    "nbpresent": {
     "id": "eaba769c-24e2-4aa2-8cc1-745a3a250919"
    }
   },
   "source": [
    "#### More complicated hash-based PRNGs\n",
    "\n",
    "Save randomness to re-seed, etc.\n",
    "\n",
    "See `Fortuna`, https://www.schneier.com/academic/fortuna/"
   ]
  },
  {
   "cell_type": "markdown",
   "metadata": {
    "nbpresent": {
     "id": "5dcba2a0-c97c-4bd0-9bc7-925a5b66d267"
    }
   },
   "source": [
    "<img src=\"./pcg-random.org-comparison.png\" />\n",
    "From www.pcg-random.org, &copy; 2015 M.E. O'Neill"
   ]
  },
  {
   "cell_type": "markdown",
   "metadata": {
    "nbpresent": {
     "id": "ac345d32-45a4-4902-8881-b406a9dcfebe"
    }
   },
   "source": [
    "<hr />\n",
    "# Possibility Bounds using the Pigeon-Hole Principle\n",
    "\n",
    "We now consider whether, in principle, a particular PRNG combined with a particular sampling algorithm could generate an SRS of size $k$ from a population of size $n$.\n",
    "\n",
    "We also consider whether a particular PRNG combined with an \"optimal\" sampling algorithm that minimized the number of random bits required to generate samples, rather than \"wasting\" random bits, could generate an SRS of sice $k$ from a population of size $n$."
   ]
  },
  {
   "cell_type": "markdown",
   "metadata": {
    "nbpresent": {
     "id": "d4e502ef-294d-4592-82a0-cd0d2f643753"
    }
   },
   "source": [
    "## A lemma and some corollaries.\n",
    "\n",
    "### Lemma: One output per state\n",
    "_If an algorithm uses at least one (entire) output of a PRNG, each state of the PRNG produces at most one distinct output of the algorithm._\n",
    "\n",
    "For instance, an algorithm for drawing a sample might \"consume\" more than one state of the PRNG, but each initial state of the PRNG yields at most one sample.\n",
    "\n",
    "\n",
    "\n",
    "### Corollary 1.\n",
    "_The number of distinct permutations of a set of $n$ items attainable by assigning a PRN to each element and sorting the result is less than or equal to the number of states of the PRNG._\n",
    "\n",
    "See also R. Salfi, 1974, _Compstat_, 28&ndash;35, cited by Knuth, 3.4.2, p. 145: _An LCG with modulus $m$ can generate at most $m$ permutations._\n",
    "\n",
    "### Corollary 2.\n",
    "_The number of distinct samples of size $k$ of a set of $n$ items attainable by a method that uses at least one PRN state to select the sample is less than or equal to the number of states of the PRNG._"
   ]
  },
  {
   "cell_type": "markdown",
   "metadata": {
    "nbpresent": {
     "id": "f64058e3-decf-49b5-b2c0-f4bc05bfc0eb"
    }
   },
   "source": [
    "### Proposition 1.\n",
    "_The algorithm that permutes a set of $n$ items by assigning a PRN to each item, then sorting, cannot construct all permutations of a set of $n$ items if $n! > S$, where $S$ is the number of states of the PRNG.\n",
    "In particular, such an algorithm cannot construct all permutations of a set of 13 or more items if the PRNG has $2^{32}$ states or fewer, and cannot construct all permutations of a set of 35 or more items if the PRNG has\n",
    "$2^{128}$ states or fewer.  Such an algorithm cannot construct all permutations of a set of 2084 or more items if it has 2^{19968} states or fewer._\n",
    "\n",
    "Proof: \n",
    "$$13! = 6,227,020,800 > 2^{32} = 4,294,967,296 > 12! = 479,001,600.$$\n",
    "\n",
    "$$ 35! = 1.03331479664 \\times 10^{40} > 2^{128} \\approx 3.402e+38 > 34! = 2.63130836934 \\times 10^{35}. $$\n",
    "\n",
    "And\n",
    "$$ \\log (2084!) \\ge 13846.76 > 13818.582 = \\log(2^{32\\times 624}),$$\n",
    "\n",
    "where the first inequality in the last line follows from the Stirling's bound on the factorial:\n",
    "\n",
    "$$ e n^{n+1/2} e^{-n} \\ge n! \\ge \\sqrt{2 \\pi} n^{n+1/2} e^{-n}.$$ \n",
    "&#x25A0;\n",
    "\n",
    "Therefore, the usual proof that `PIKK` gives an SRS cannot apply for $n \\ge 13$\n",
    "if the PRNG has a 32-bit state space, nor for $n \\ge 35$ if the PRNG has a 128-bit state space,\n",
    "nor for $n \\ge 2084$ for the 32-bit Mersenne Twister, which has a $32 \\times 624$-bit state space. \n",
    "\n",
    "To show that `PIKK` works for larger $n$ would require close analysis of the frequencies with which the permutations corresponding to distinct samples of size $k$ each occur, showing they are equal.\n",
    "\n",
    "However, if the PRNG can attain all $2^w$ states, then unless $2^w$ is divisible by ${n \\choose k}$, \n",
    "it's impossible that there are an equal number of permutations corresponding to \n",
    "each sample of size $k$ from $n$.\n",
    "Since ${n \\choose k }$ is generally not a power of 2, that's the usual situation."
   ]
  },
  {
   "cell_type": "code",
   "execution_count": 10,
   "metadata": {
    "collapsed": false,
    "nbpresent": {
     "id": "d7b072a3-534c-4fa2-9adc-bae5e276d993"
    },
    "scrolled": false
   },
   "outputs": [
    {
     "name": "stdout",
     "output_type": "stream",
     "text": [
      "6227020800.0 4294967296 479001600.0\n",
      "1.03331479664e+40 340282366920938463463374607431768211456 38.531839445 2.9523279904e+38\n",
      "13846.7604963 13840.7629014 13839.1995134\n"
     ]
    }
   ],
   "source": [
    "def stirling_lower_bound(n):\n",
    "    return math.sqrt(2*math.pi)*n**(n+.5)*math.e**(-n)\n",
    "\n",
    "def stirling_lower_bound_log(n):\n",
    "    return math.log(2*math.pi)/2+(n+.5)*math.log(n)-n*math.log(math.e)\n",
    "\n",
    "def stirling_upper_bound_log(n):\n",
    "    return 1+(n+.5)*math.log(n)-n*math.log(math.e)\n",
    "\n",
    "\n",
    "print factorial(13), 2**32, factorial(12)\n",
    "print factorial(35), 2**128, math.log(2**128,10), factorial(34)\n",
    "\n",
    "MT_states = 2**(32*624)\n",
    "log_MT_states = 32*624*math.log(2)\n",
    "\n",
    "print stirling_lower_bound_log(2084), log_MT_states, stirling_upper_bound_log(2083)"
   ]
  },
  {
   "cell_type": "markdown",
   "metadata": {
    "nbpresent": {
     "id": "1340ed35-0ef0-4888-b690-fe4391864573"
    }
   },
   "source": [
    "### Proposition 2.\n",
    "_Any algorithm that constructs a subset of $k$ of $n$ objects by using at least one PRNG state per sample cannot construct all $n \\choose k$ subsets if the number of states of the PRNG is less than $n \\choose k$._\n",
    "\n",
    "_In particular, no PRNG with 32-bit or smaller state space can construct all samples of size $10$ from a population of \n",
    "size $47$ or more. No PRNG with 128-bit or smaller state space can construct all samples of size $25$ from a population of size $366$ or more. The Mersenne Twister cannot construct all samples of size 1000 from a population of size $3.8 \\times 10^8$ or more._\n",
    "\n",
    "Proof: calculation for PRNGs with 32-bit and 128-bit state. Entropy bounds for MT.\n",
    "\n",
    "$3.8 \\times 10^8$ is big, but not in the world of big data."
   ]
  },
  {
   "cell_type": "markdown",
   "metadata": {
    "nbpresent": {
     "id": "6213c1b3-44f8-4008-9caa-1ec14f5b018b"
    }
   },
   "source": [
    "## Bounds on combinations\n",
    "\n",
    "Bound ${n \\choose k}$.\n",
    "\n",
    "#### Entropy bounds\n",
    "\n",
    "$$ \\frac{2^{nH(k/n)}}{n+1} \\le {n \\choose k} \\le 2^{nH(k/n)},$$\n",
    "\n",
    "where $H(q) \\equiv -q \\log_2(q) - (1-q) \\log_2 (1-q)$.\n",
    "\n",
    "#### Stirling's approximation bounds\n",
    "\n",
    "For $\\ell \\ge 1$ and $m \\ge 2$,\n",
    "\n",
    "$$ { {\\ell m } \\choose { \\ell }} \\ge \\frac{m^{m(\\ell-1)+1}}{\\sqrt{\\ell} (m-1)^{(m-1)(\\ell-1)}}. $$"
   ]
  },
  {
   "cell_type": "code",
   "execution_count": 11,
   "metadata": {
    "collapsed": true,
    "nbpresent": {
     "id": "bdcab8ea-90ba-403c-94a5-5ae4ac7f5935"
    },
    "scrolled": false
   },
   "outputs": [],
   "source": [
    "def H(p):  # entropy of a Bernoulli(q) variable\n",
    "    return -p*math.log(p, 2) - (1-p)*math.log(1-p, 2)\n",
    "\n",
    "\n",
    "def Hcomb(n,k):  # entropy of simple random sampling of k of n \n",
    "    # entropy is -\\sum p_i \\log_2 p_i. Here, all p_i=1/nCk.\n",
    "    return -math.log(1/comb(n,k), 2)\n",
    "    \n",
    "\n",
    "def comb_upper_bound_H(n, k):  # entropy upper bound on nCk\n",
    "    p = k/n\n",
    "    return 2**(n*H(p))\n",
    "\n",
    "\n",
    "def comb_lower_bound_H(n, k): # entropy upper bound on nCk\n",
    "    p = k/n\n",
    "    return 2**(n*H(p))/(n+1)\n",
    "\n",
    "def comb_lower_bound_H_log2(n, k): # entropy upper bound on nCk\n",
    "    p = k/n\n",
    "    return n*H(p)-math.log((n+1),2)\n",
    "\n",
    "MT_states_log2 = 32*624\n",
    "\n",
    "def comb_lower_bound_Stirling(l,m): # lower bound on (l^2m)Cl^2\n",
    "    return m**(m*(l*l-1)+1)/(l*(m-1)**((m-1)*(l*l-1)))"
   ]
  },
  {
   "cell_type": "code",
   "execution_count": 12,
   "metadata": {
    "collapsed": false,
    "nbpresent": {
     "id": "70ba021a-2e2e-4ac2-8f7f-145a2c5cc216"
    },
    "scrolled": false
   },
   "outputs": [
    {
     "name": "stdout",
     "output_type": "stream",
     "text": [
      "5178066751.0 4294967296 4076350421.0\n",
      "3.40551184526e+38 340282366920938463463374607431768211456 3.17289491593e+38\n",
      "19987.2688908 True\n",
      "1.58301814817e-06\n"
     ]
    }
   ],
   "source": [
    "# for 2**32 and 2**128-bit state spaces\n",
    "print sp.special.binom(47,10), 2**32, sp.special.binom(46,10)\n",
    "print sp.special.binom(366,25), 2**128, sp.special.binom(365,25)\n",
    "\n",
    "# For the Mersenne Twister, use logarithmic entropy bound\n",
    "n = 3.9*10**8\n",
    "print comb_lower_bound_H_log2(n,1000), comb_lower_bound_H_log2(n,1000) > MT_states_log2\n",
    "print 2**(MT_states_log2-comb_lower_bound_H_log2(n,1000))"
   ]
  },
  {
   "cell_type": "markdown",
   "metadata": {
    "nbpresent": {
     "id": "4d75e136-68bc-4d38-81a9-94f53bf56d02"
    }
   },
   "source": [
    "<hr />\n",
    "# Coding samples \n",
    "\n",
    "Above, considered particular algorithms that use PRNGs to select $k$ of $n$ elements\n",
    "\n",
    "There are ${n \\choose k}$ possible\n",
    "samples of size $k$ from a population of size $n$.\n",
    "Imagine simply numbering them: taking a sample would require specifying only which of the samples to draw.\n",
    "\n",
    "This amounts to sending a 1-letter message in an ${n \\choose k}$-letter alphabet,\n",
    "where every 1-letter message has the same probability in the language.\n",
    "\n",
    "Shannon's coding theory implies that the most efficient way to encode such a message requires $\\log_2{n \\choose k}$ bits.\n",
    "\n",
    "A PRNG generates a message from its output bits.\n",
    "The period of the PRNG tells us the maximum number of messages the PRNG can generate starting from a particular seed.\n",
    "The period times the PRNG word length is the number of random bits that the PRNG can generate.\n",
    "(Not all the bits are \"equally random.\" For most PRNGs, the high-order bits behave more randomly than the low-order bits.)\n",
    "If this number is less than the number of bits per sample encoding times the number of samples, ${n \\choose k}\\log_2{n \\choose k}$, then it is not possible to generate all possible samples in one period of the PRNG, i.e., to list all the letters in the alphabet.\n",
    "\n",
    "For any particular PRNG period and word length (typically 32 bits), we can fix $k$ and calculate the largest $n$ for which the PRNG could possibly enumerate all possible samples.\n",
    "Similarly, we can fix $n$ and find the largest $k$ for which the PRNG can generate all possible samples.\n",
    "Only interesting for $1 \\leq k \\leq \\lfloor{\\frac{n}{2}}\\rfloor$.\n",
    "(For $k > \\lfloor{\\frac{n}{2}}\\rfloor$, think of sampling as selecting individuals to *exclude*.)\n",
    "\n",
    "For large $n$, hard to compute binomial coefficients.\n",
    "Instead, we use the following bound:\n",
    "\n",
    "$$ \\frac{2^{nH(k/n)}}{n+1} \\leq {n \\choose k} \\leq 2^{nH(k/n)}$$\n",
    "\n",
    "For the Mersenne Twister, use the lower bound for ${n \\choose k}$, giving overly optimistic estimates of maximum $n$."
   ]
  },
  {
   "cell_type": "code",
   "execution_count": 13,
   "metadata": {
    "collapsed": false,
    "nbpresent": {
     "id": "48bb1fb0-8846-4ae9-b0cb-8f6ec2319c45"
    },
    "scrolled": false
   },
   "outputs": [],
   "source": [
    "# number of bits per period divided by log_2(choose(n,k))?\n",
    "def sample_counter(n, k, period, word_length):\n",
    "    c = comb(n,k)\n",
    "    return (period*word_length) > math.log(c, 2)*c\n",
    "\n",
    "\n",
    "def sample_counter_lb(n, k, period, word_length):\n",
    "    ub_bits_for_all_samples = (n*H(k/n) - math.log(n+1, 2))*(2**(n*H(k/n)))/(n+1)\n",
    "    return (period*word_length) > ub_bits_for_all_samples"
   ]
  },
  {
   "cell_type": "markdown",
   "metadata": {
    "nbpresent": {
     "id": "5566f748-1f2c-452b-89cd-99a857c0b0fc"
    }
   },
   "source": [
    "## Example: frequency of combinations using PIKK\n",
    "\n",
    "Use `PIKK` to generate samples using RANDU and MT.\n",
    "\n",
    "Tally empirical probability of each sample; test for uniformity by chi-square."
   ]
  },
  {
   "cell_type": "code",
   "execution_count": 14,
   "metadata": {
    "collapsed": false,
    "nbpresent": {
     "id": "35399f1c-a4a3-4879-9313-b7bb93d61221"
    },
    "scrolled": false
   },
   "outputs": [],
   "source": [
    "# RANDU\n",
    "reps = int(10**7)\n",
    "\n",
    "n = 13\n",
    "k = 4\n",
    "\n",
    "lcg = lcgRandom(seed=100) # set seed of RANDU to 100\n",
    "uniqueSamples = dict()\n",
    "\n",
    "for i in xrange(reps):\n",
    "    sam = frozenset(PIKK(n, k, lcg))\n",
    "    if sam in uniqueSamples:\n",
    "        uniqueSamples[sam] += 1\n",
    "    else:\n",
    "        uniqueSamples[sam] = 1"
   ]
  },
  {
   "cell_type": "code",
   "execution_count": 15,
   "metadata": {
    "collapsed": false,
    "nbpresent": {
     "id": "e3c029c4-4def-4342-8aa4-9ae6b4d4bb32"
    },
    "scrolled": false
   },
   "outputs": [
    {
     "name": "stdout",
     "output_type": "stream",
     "text": [
      "715.0 715 13986.013986 13563 14409 846\n",
      "Power_divergenceResult(statistic=959.79067900000007, pvalue=1.8563743403039675e-09)\n"
     ]
    },
    {
     "data": {
      "image/png": "[encoded data removed]",
      "text/plain": [
       "<matplotlib.figure.Figure at 0x104078710>"
      ]
     },
     "metadata": {},
     "output_type": "display_data"
    }
   ],
   "source": [
    "maxct = np.amax(uniqueSamples.values())\n",
    "minct = np.amin(uniqueSamples.values())\n",
    "vals = sp.special.binom(n,k)\n",
    "obsVals = len(uniqueSamples)\n",
    "eCt = reps/vals\n",
    "print vals, obsVals, eCt, minct, maxct, maxct-minct\n",
    "print sp.stats.chisquare(uniqueSamples.values(), axis=None)\n",
    "ns, bins, patches = plt.hist(uniqueSamples.values(), maxct-minct+1, normed=1, facecolor='blue', alpha=0.75)\n",
    "plt.rcParams['figure.figsize'] = (18.0, 18.0) "
   ]
  },
  {
   "cell_type": "markdown",
   "metadata": {
    "nbpresent": {
     "id": "bd8190f0-8cf4-494e-b112-88d8f150b711"
    }
   },
   "source": [
    "RANDU hits all 715 possible samples, but far from equally often.\n",
    "\n",
    "Based on the chi-square test, the $p$-value for the hypothesis that these $10^7$ samples are simple random samples is $< 2\\times 10^{-9}$."
   ]
  },
  {
   "cell_type": "markdown",
   "metadata": {
    "nbpresent": {
     "id": "da58083a-750b-44b5-8e80-26395f4c533d"
    }
   },
   "source": [
    "## Some numerical experiments for the sample mean"
   ]
  },
  {
   "cell_type": "code",
   "execution_count": 16,
   "metadata": {
    "collapsed": false,
    "nbpresent": {
     "id": "61f9550d-18a4-4709-962e-851a891468f9"
    },
    "scrolled": false
   },
   "outputs": [],
   "source": [
    "# Look at counts of item hits across samples\n",
    "itemCounts = dict()\n",
    "for u,v in uniqueSamples.items():\n",
    "    for i in u:\n",
    "        if i in itemCounts:\n",
    "            itemCounts[i] += v\n",
    "        else:\n",
    "            itemCounts[i] = v"
   ]
  },
  {
   "cell_type": "code",
   "execution_count": 17,
   "metadata": {
    "collapsed": false,
    "nbpresent": {
     "id": "e564d606-423e-423f-9907-92482eada587"
    },
    "scrolled": false
   },
   "outputs": [
    {
     "name": "stdout",
     "output_type": "stream",
     "text": [
      "0 0.3076871\n",
      "1 0.3077878\n",
      "2 0.3080641\n",
      "3 0.3075428\n",
      "4 0.3076046\n",
      "5 0.3074774\n",
      "6 0.3077228\n",
      "7 0.307794\n",
      "8 0.3078113\n",
      "9 0.3074833\n",
      "10 0.3078241\n",
      "11 0.3075414\n",
      "12 0.3076593\n",
      "\n",
      "0.3074774 0.307692307692 0.3080641\n"
     ]
    }
   ],
   "source": [
    "for i in itemCounts.keys():\n",
    "    itemCounts[i] /= reps\n",
    "    print i, itemCounts[i]\n",
    "\n",
    "minp, meanp, maxp =  np.amin(itemCounts.values()), np.mean(itemCounts.values()), np.max(itemCounts.values())\n",
    "print '\\n', minp, meanp, maxp"
   ]
  },
  {
   "cell_type": "code",
   "execution_count": 18,
   "metadata": {
    "collapsed": false,
    "nbpresent": {
     "id": "88675927-380f-4f42-9282-baed897e7109"
    },
    "scrolled": false
   },
   "outputs": [
    {
     "name": "stdout",
     "output_type": "stream",
     "text": [
      "0.0769230769231\n"
     ]
    }
   ],
   "source": [
    "x = [0]*n\n",
    "x[2] = 1  # item most likely to be selected\n",
    "# x[9] = -1 # item least likely to be selected\n",
    "popMean = np.mean(x)\n",
    "print popMean"
   ]
  },
  {
   "cell_type": "code",
   "execution_count": 19,
   "metadata": {
    "collapsed": false,
    "nbpresent": {
     "id": "f8c2ffd2-e629-4478-a1d1-c70c54cffa8e"
    },
    "scrolled": false
   },
   "outputs": [
    {
     "name": "stdout",
     "output_type": "stream",
     "text": [
      "0.077016025 -0.001208325 10000000 4294967296\n"
     ]
    }
   ],
   "source": [
    "m = 0\n",
    "totCnt = 0\n",
    "for sam, cnt in uniqueSamples.items():\n",
    "    m += np.mean([x[i] for i in sam])*cnt\n",
    "    totCnt += cnt\n",
    "\n",
    "samMean = m/totCnt\n",
    "print samMean, (popMean-samMean)/popMean, totCnt, 2**32"
   ]
  },
  {
   "cell_type": "markdown",
   "metadata": {
    "nbpresent": {
     "id": "9c30954d-e893-4533-8b86-cbbe1a6d3e81"
    }
   },
   "source": [
    "In this example, the sample mean is biased downwards by about 0.12%. This is not averaged over a full cycle of the PRNG, though."
   ]
  },
  {
   "cell_type": "markdown",
   "metadata": {},
   "source": [
    "### Example: sample range for $k=2$."
   ]
  },
  {
   "cell_type": "code",
   "execution_count": 27,
   "metadata": {
    "collapsed": false,
    "scrolled": false
   },
   "outputs": [],
   "source": [
    "# RANDU\n",
    "reps = int(10**7)\n",
    "\n",
    "n = 30\n",
    "k = 2\n",
    "\n",
    "lcg = lcgRandom(seed=100) # set seed of RANDU to 100\n",
    "uniqueSamples = dict()\n",
    "\n",
    "for i in xrange(reps):\n",
    "    sam = frozenset(PIKK(n, k, lcg))\n",
    "    if sam in uniqueSamples:\n",
    "        uniqueSamples[sam] += 1\n",
    "    else:\n",
    "        uniqueSamples[sam] = 1"
   ]
  },
  {
   "cell_type": "code",
   "execution_count": 33,
   "metadata": {
    "collapsed": false,
    "scrolled": false
   },
   "outputs": [
    {
     "name": "stdout",
     "output_type": "stream",
     "text": [
      "435.0 435 22988.5057471 21235 23533 2298\n",
      "Power_divergenceResult(statistic=2780.7692870000001, pvalue=0.0)\n",
      "21235 frozenset([26, 27])\n"
     ]
    },
    {
     "data": {
      "image/png": "[encoded data removed]",
      "text/plain": [
       "<matplotlib.figure.Figure at 0x116b106d0>"
      ]
     },
     "metadata": {},
     "output_type": "display_data"
    }
   ],
   "source": [
    "maxct = np.amax(uniqueSamples.values())\n",
    "minct = np.amin(uniqueSamples.values())\n",
    "vals = sp.special.binom(n,k)\n",
    "obsVals = len(uniqueSamples)\n",
    "eCt = reps/vals\n",
    "print vals, obsVals, eCt, minct, maxct, maxct-minct\n",
    "print sp.stats.chisquare(uniqueSamples.values(), axis=None)\n",
    "ns, bins, patches = plt.hist(uniqueSamples.values(), maxct-minct+1, normed=1, facecolor='blue', alpha=0.75)\n",
    "plt.rcParams['figure.figsize'] = (18.0, 18.0) \n",
    "minFreq = np.argmin(uniqueSamples.values())\n",
    "print uniqueSamples.values()[minFreq], uniqueSamples.keys()[minFreq]"
   ]
  },
  {
   "cell_type": "code",
   "execution_count": 35,
   "metadata": {
    "collapsed": false
   },
   "outputs": [
    {
     "name": "stdout",
     "output_type": "stream",
     "text": [
      "[0, 0, 0, 0, 0, 0, 0, 0, 0, 0, 0, 0, 0, 0, 0, 0, 0, 0, 0, 0, 0, 0, 0, 0, 0, 0, 1, -1, 0, 0]\n"
     ]
    }
   ],
   "source": [
    "x = [0]*n\n",
    "i = 0\n",
    "for k in uniqueSamples.keys()[minFreq]: # set extremes to +/-1\n",
    "    x[k]= (-1)**i\n",
    "    i = i+1\n",
    "print x"
   ]
  },
  {
   "cell_type": "code",
   "execution_count": 41,
   "metadata": {
    "collapsed": false
   },
   "outputs": [
    {
     "name": "stdout",
     "output_type": "stream",
     "text": [
      "0.137931034483 0.1332706 0.03378815\n"
     ]
    }
   ],
   "source": [
    "# distribution of range:  \n",
    "# 2 with probability 1/(30C2)\n",
    "# 1 with probability 2C1*28C1/(30C2)\n",
    "# 0 with probability 28C2/(30C2)\n",
    "\n",
    "eRange = (2*2 + 2*28 + 0)/sp.special.binom(30,2)\n",
    "\n",
    "m = 0\n",
    "totCnt = 0\n",
    "for sam, cnt in uniqueSamples.items():\n",
    "    m += np.ptp([x[i] for i in sam])*cnt\n",
    "    totCnt += cnt\n",
    "\n",
    "samRange = m/totCnt\n",
    "print eRange, samRange, (eRange-samRange)/eRange"
   ]
  },
  {
   "cell_type": "markdown",
   "metadata": {
    "nbpresent": {
     "id": "d736ee46-2ecc-4124-8448-794aa7fe80d1"
    }
   },
   "source": [
    "### Results for other PRNGs"
   ]
  },
  {
   "cell_type": "code",
   "execution_count": 20,
   "metadata": {
    "collapsed": false,
    "nbpresent": {
     "id": "96ef8a80-6f33-4b50-88de-02c7dd55fe9b"
    },
    "scrolled": false
   },
   "outputs": [],
   "source": [
    "# Marsaglia's SUPER-DUPER LCG \n",
    "\n",
    "A_SD = 0\n",
    "B_SD = 69069\n",
    "M_SD = 2**32\n",
    "\n",
    "reps = int(10**7)\n",
    "\n",
    "n = 13\n",
    "k = 4\n",
    "\n",
    "lcg = lcgRandom(seed=100, A=A_SD, B=B_SD, M=M_SD) # set seed of Super-duper to 100\n",
    "uniqueSamples = dict()\n",
    "\n",
    "for i in xrange(reps):\n",
    "    sam = frozenset(PIKK(n, k, lcg))\n",
    "    if sam in uniqueSamples:\n",
    "        uniqueSamples[sam] += 1\n",
    "    else:\n",
    "        uniqueSamples[sam] = 1"
   ]
  },
  {
   "cell_type": "code",
   "execution_count": 21,
   "metadata": {
    "collapsed": false,
    "nbpresent": {
     "id": "ba7a85ab-320d-4ffe-b791-3a7e53229972"
    },
    "scrolled": false
   },
   "outputs": [
    {
     "name": "stdout",
     "output_type": "stream",
     "text": [
      "715.0 715 13986.013986 13592 14332 740\n",
      "Power_divergenceResult(statistic=666.842309, pvalue=0.89594262440835848)\n"
     ]
    },
    {
     "data": {
      "image/png": "[encoded data removed]",
      "text/plain": [
       "<matplotlib.figure.Figure at 0x10ae1fcd0>"
      ]
     },
     "metadata": {},
     "output_type": "display_data"
    }
   ],
   "source": [
    "maxct = np.amax(uniqueSamples.values())\n",
    "minct = np.amin(uniqueSamples.values())\n",
    "vals = sp.special.binom(n,k)\n",
    "obsVals = len(uniqueSamples)\n",
    "eCt = reps/vals\n",
    "print vals, obsVals, eCt, minct, maxct, maxct-minct\n",
    "print sp.stats.chisquare(uniqueSamples.values(), axis=None)\n",
    "ns, bins, patches = plt.hist(uniqueSamples.values(), maxct-minct+1, normed=1, facecolor='blue', alpha=0.75)\n",
    "plt.rcParams['figure.figsize'] = (18.0, 18.0) "
   ]
  },
  {
   "cell_type": "markdown",
   "metadata": {
    "nbpresent": {
     "id": "e4075e49-c016-4e3a-8e51-6d457caf7c10"
    }
   },
   "source": [
    "Super-duper hits all 715 cells, more nearly equally often than RANDU does."
   ]
  },
  {
   "cell_type": "code",
   "execution_count": 22,
   "metadata": {
    "collapsed": false,
    "nbpresent": {
     "id": "bc379202-6ac9-478f-a26e-9442daf8b931"
    },
    "scrolled": false
   },
   "outputs": [],
   "source": [
    "# Compare with MT\n",
    "reps = int(10**7)\n",
    "\n",
    "n = 13\n",
    "k = 4\n",
    "\n",
    "np.random.seed(seed=100) # set seed to 100\n",
    "uniqueSamples = dict()\n",
    "\n",
    "for i in xrange(reps):\n",
    "    sam = frozenset(PIKK(n, k, np.random))\n",
    "    if sam in uniqueSamples:\n",
    "        uniqueSamples[sam] += 1\n",
    "    else:\n",
    "        uniqueSamples[sam] = 1"
   ]
  },
  {
   "cell_type": "code",
   "execution_count": 23,
   "metadata": {
    "collapsed": false,
    "nbpresent": {
     "id": "fea08cc0-a106-45c1-90c2-7410a1eca3be"
    },
    "scrolled": false
   },
   "outputs": [
    {
     "name": "stdout",
     "output_type": "stream",
     "text": [
      "715.0 715 13986.013986 14320 13672\n",
      "Power_divergenceResult(statistic=699.97026100000005, pvalue=0.63909998951983527)\n"
     ]
    },
    {
     "data": {
      "image/png": "[encoded data removed]",
      "text/plain": [
       "<matplotlib.figure.Figure at 0x10a11ec50>"
      ]
     },
     "metadata": {},
     "output_type": "display_data"
    }
   ],
   "source": [
    "maxct = np.amax(uniqueSamples.values())\n",
    "minct = np.amin(uniqueSamples.values())\n",
    "vals = sp.special.binom(n,k)\n",
    "obsVals = len(uniqueSamples)\n",
    "eCt = reps/vals\n",
    "print vals, obsVals, eCt, maxct,  minct\n",
    "print sp.stats.chisquare(uniqueSamples.values(), axis=None)\n",
    "ns, bins, patches = plt.hist(uniqueSamples.values(), maxct-minct+1, normed=1, facecolor='blue', alpha=0.75)\n",
    "plt.rcParams['figure.figsize'] = (18.0, 18.0) "
   ]
  },
  {
   "cell_type": "markdown",
   "metadata": {
    "nbpresent": {
     "id": "d74cfbe6-c942-4891-9c12-22de2dbc14ff"
    }
   },
   "source": [
    "`MT` hits all 715 possible samples much more evenly than `RANDU` but less than `SUPER-DUPER`: the $p$-value is about 0.64."
   ]
  },
  {
   "cell_type": "markdown",
   "metadata": {
    "nbpresent": {
     "id": "9db040dc-5ddc-43b9-905a-bdfebc480f88"
    }
   },
   "source": [
    "## Common packages\n",
    "\n",
    "| Package/Lang   | default    | other      | SRS algorithm  |\n",
    "|:---------------|:----------:|:----------:|:--------------:|\n",
    "| SAS 9.2        | MT         | 32-bit LCG |                |\n",
    "| SPSS 20.0      | 32-bit LCG | MT1997ar   |                |\n",
    "| SPSS &le; 12.0 | 32-bit LCG |            |                |\n",
    "| STATA 13       | KISS 32    |            |                |\n",
    "| STATA 14       | MT         |            |                |\n",
    "| R              | MT         |            | trunc          |\n",
    "| python         | MT         |            | mask           |\n",
    "| MATLAB         | MT         |            |                ||\n",
    "\n",
    "**Key.** MT = Mersenne Twister. LCG = linear congruential generator. ANS = \"assign a number to each of the $n$ items and sort.\" The KISS generator combines 4 generators of three types: two multiply-with-carry\n",
    "generators, the 3-shift register SHR3 and the congruential generator CONG.\n",
    "\n",
    "Prior to April 2011, in Stata 10 exhibited predictable behavior:\n",
    "95.1\\% of the $2^{31}$ possible seed values resulted in the first and second draws from rnormal() having the same sign."
   ]
  },
  {
   "cell_type": "markdown",
   "metadata": {
    "nbpresent": {
     "id": "8066555a-8af2-40b5-b264-a0fac9da86b7"
    }
   },
   "source": [
    "## Best Practices\n",
    "\n",
    "+ Use a source of real randomness to set the seed with a substantial amount of entropy, e.g., 20 rolls of 10-sided dice.\n",
    "+ Record the seed so your analysis is reproducible.\n",
    "+ Use a PRNG at least as good as the Mersenne Twister, and preferably a cryptographic quality PRNG. Consider the PCG family. Avoid standard linear congruential generators and the Wichmann-Hill generator.\n",
    "+ Use open-source software, and record the version of the software you use.\n",
    "+ Use a sampling algorithm that does not \"waste randomness.\" Avoid permuting the entire population.\n",
    "+ Be aware of discretization issues in the sampling algorithm; many methods assume the PRNG produces $U[0,1]$ or $U[0,1)$ random numbers, rather than (an approximation to) numbers that are uniform on $w$-bit binary integers.\n",
    "+ Consider the size of the problem: are your PRNG and sampling algorithm adequate?\n",
    "+ Avoid \"tests of representativeness\" and procedures that reject some samples. They alter the distribution of the sample."
   ]
  },
  {
   "cell_type": "markdown",
   "metadata": {
    "nbpresent": {
     "id": "e155dd7f-847c-4154-9b55-5ace34c45a67"
    }
   },
   "source": [
    "## Recommendations\n",
    "\n",
    "+ Replace the standard PRNGs in R and Python with PRNGs with unbounded state spaces, and cryptographic or near-cryptographic quality\n",
    "    - Consider using AES in counter mode, since Intel chips have hardware support for AES\n",
    "+ Replace R's sample() with the mask algorithm"
   ]
  },
  {
   "cell_type": "code",
   "execution_count": 25,
   "metadata": {
    "collapsed": false,
    "nbpresent": {
     "id": "27985606-0f78-414c-b5af-d21655f5ae76"
    },
    "scrolled": false
   },
   "outputs": [
    {
     "name": "stderr",
     "output_type": "stream",
     "text": [
      "//anaconda/lib/python2.7/site-packages/IPython/core/formatters.py:809: FormatterWarning: JSON expects JSONable list/dict containers, not JSON strings\n",
      "  FormatterWarning)\n"
     ]
    },
    {
     "data": {
      "application/json": {
       "Software versions": [
        {
         "module": "Python",
         "version": "2.7.11 64bit [GCC 4.2.1 (Apple Inc. build 5577)]"
        },
        {
         "module": "IPython",
         "version": "5.1.0"
        },
        {
         "module": "OS",
         "version": "Darwin 16.0.0 x86_64 i386 64bit"
        },
        {
         "module": "scipy",
         "version": "0.18.0"
        },
        {
         "module": "numpy",
         "version": "1.11.1"
        },
        {
         "module": "pandas",
         "version": "0.17.1"
        },
        {
         "module": "matplotlib",
         "version": "1.5.0"
        },
        {
         "module": "notebook",
         "version": "4.2.3"
        }
       ]
      },
      "text/html": [
       "<table><tr><th>Software</th><th>Version</th></tr><tr><td>Python</td><td>2.7.11 64bit [GCC 4.2.1 (Apple Inc. build 5577)]</td></tr><tr><td>IPython</td><td>5.1.0</td></tr><tr><td>OS</td><td>Darwin 16.0.0 x86_64 i386 64bit</td></tr><tr><td>scipy</td><td>0.18.0</td></tr><tr><td>numpy</td><td>1.11.1</td></tr><tr><td>pandas</td><td>0.17.1</td></tr><tr><td>matplotlib</td><td>1.5.0</td></tr><tr><td>notebook</td><td>4.2.3</td></tr><tr><td colspan='2'>Wed Sep 21 15:59:34 2016 PDT</td></tr></table>"
      ],
      "text/latex": [
       "\\begin{tabular}{|l|l|}\\hline\n",
       "{\\bf Software} & {\\bf Version} \\\\ \\hline\\hline\n",
       "Python & 2.7.11 64bit [GCC 4.2.1 (Apple Inc. build 5577)] \\\\ \\hline\n",
       "IPython & 5.1.0 \\\\ \\hline\n",
       "OS & Darwin 16.0.0 x86\\letterunderscore{}64 i386 64bit \\\\ \\hline\n",
       "scipy & 0.18.0 \\\\ \\hline\n",
       "numpy & 1.11.1 \\\\ \\hline\n",
       "pandas & 0.17.1 \\\\ \\hline\n",
       "matplotlib & 1.5.0 \\\\ \\hline\n",
       "notebook & 4.2.3 \\\\ \\hline\n",
       "\\hline \\multicolumn{2}{|l|}{Wed Sep 21 15:59:34 2016 PDT} \\\\ \\hline\n",
       "\\end{tabular}\n"
      ],
      "text/plain": [
       "Software versions\n",
       "Python 2.7.11 64bit [GCC 4.2.1 (Apple Inc. build 5577)]\n",
       "IPython 5.1.0\n",
       "OS Darwin 16.0.0 x86_64 i386 64bit\n",
       "scipy 0.18.0\n",
       "numpy 1.11.1\n",
       "pandas 0.17.1\n",
       "matplotlib 1.5.0\n",
       "notebook 4.2.3\n",
       "Wed Sep 21 15:59:34 2016 PDT"
      ]
     },
     "execution_count": 25,
     "metadata": {},
     "output_type": "execute_result"
    }
   ],
   "source": [
    "%load_ext version_information\n",
    "%version_information scipy, numpy, pandas, matplotlib, notebook"
   ]
  },
  {
   "cell_type": "code",
   "execution_count": 26,
   "metadata": {
    "collapsed": false,
    "nbpresent": {
     "id": "131526c6-4b79-4fa8-a830-095b97351ebf"
    },
    "scrolled": false
   },
   "outputs": [
    {
     "data": {
      "text/html": [
       "<link href='http://fonts.googleapis.com/css?family=Lora|Open+Sans' rel='stylesheet' type='text/css'>\n",
       "<style>\n",
       "\n",
       "font-family: 'Lora', serif;\n",
       "\n",
       ".MathJax_Display {\n",
       "  padding: 10px;\n",
       "}\n",
       "\n",
       "div.callout {\n",
       "  color: #000000;\n",
       "  background-color: #DDDDDD;\n",
       "  margin: 20px 20px 20px 20px;\n",
       "  border-style: solid;\n",
       "  border-width: 2px;\n",
       "  padding: 10px 10px;\n",
       "}\n",
       "\n",
       ".rendered_html {\n",
       "  color: #2C5494;\n",
       "  font-family: 'Lora', serif;\n",
       "  font-size: 140%;\n",
       "  line-height: 1.1;\n",
       "  margin: 0.5em 0;\n",
       "}\n",
       "\n",
       "div.cell {\n",
       "    width:900px;\n",
       "    margin-left:auto;\n",
       "    margin-right:auto;\n",
       "}\n",
       "\n",
       "div.text_cell_render {\n",
       "    width:800px;\n",
       "    margin-left:auto;\n",
       "    margin-right:auto;\n",
       "}\n",
       "\n",
       "\n",
       ".title {\n",
       "  font-family: 'Open Sans', sans-serif;\n",
       "  color: #4773D1;\n",
       "  font-size: 250%;\n",
       "  font-weight:bold;\n",
       "  line-height: 1.2;\n",
       "  margin: 0.5em 0;\n",
       "}\n",
       "\n",
       ".subtitle {\n",
       "  font-family: 'Open Sans', sans-serif;\n",
       "  color: #386BBC;\n",
       "  font-size: 180%;\n",
       "  font-weight:bold;\n",
       "  line-height: 1.2;\n",
       "  margin: 0.5em 0;\n",
       "}\n",
       "\n",
       ".slide-header, p.slide-header {\n",
       "  color: #4773D1;\n",
       "  font-size: 200%;\n",
       "  font-weight:bold;\n",
       "  margin: 0px 20px 10px;\n",
       "  page-break-before: always;\n",
       "  text-align: center;\n",
       "}\n",
       "\n",
       ".rendered_html .code {\n",
       "  background-color: #FFFFFF;\n",
       "  font-family: Consolas;\n",
       "}\n",
       "\n",
       ".rendered_html h1 {\n",
       "  color: #7898DD;\n",
       "  font-family: 'Open Sans', sans-serif;\n",
       "  line-height: 1.2;\n",
       "  margin: 0.15em 0em 0.5em;\n",
       "  page-break-before: always;\n",
       "}\n",
       "\n",
       "\n",
       ".rendered_html h2 {\n",
       "  color: #4773D1;\n",
       "  line-height: 1.2;\n",
       "  margin: 1.1em 0em 0.5em;\n",
       "}\n",
       "\n",
       ".rendered_html h3 {\n",
       "  font-size: 100%;\n",
       "  line-height: 1.2;\n",
       "  margin: 1.1em 0em 0.5em;\n",
       "}\n",
       "\n",
       ".rendered_html .definition, .proposition, .proof, .theorem {\n",
       "    padding-top: 20px;\n",
       "    color: #222299;\n",
       "    font-size: 120%;\n",
       "    font-style: italic;\n",
       "}\n",
       "\n",
       ".definition, .proposition, .theorem {\n",
       "  background-color: #EEEEEE;\n",
       "  border-style: solid;\n",
       "  border-width: 2px;\n",
       "  padding-left: 20px;\n",
       "  padding-right: 20px;\n",
       "}\n",
       "\n",
       ".rendered_html .definition::before{\n",
       "    content: \"Definition:\";\n",
       "    background-color: #DDDDDD;\n",
       "    color: #222299;\n",
       "    font-size: 110%;\n",
       "    font-weight: bold;\n",
       "    font-style: normal;\n",
       "}\n",
       "\n",
       ".rendered_html .proposition::before{\n",
       "    content: \"Proposition:\";\n",
       "    background-color: #DDDDDD;\n",
       "    color: #222299;\n",
       "    font-size: 110%;\n",
       "    font-weight: bold;\n",
       "    font-style: normal;\n",
       "}\n",
       "\n",
       ".rendered_html .proof::before{\n",
       "    content: \"Proof:\";\n",
       "    background-color: #DDDDDD;\n",
       "    color: #222299;\n",
       "    font-size: 110%;\n",
       "    font-weight: bold;\n",
       "    font-style: normal;\n",
       "}\n",
       "\n",
       ".rendered_html .theorem::before{\n",
       "    content: \"Theorem:\";\n",
       "    background-color: #DDDDDD;\n",
       "    color: #222299;\n",
       "    font-size: 110%;\n",
       "    font-weight: bold;\n",
       "    font-style: normal;\n",
       "}\n",
       "\n",
       "\n",
       ".rendered_html ol li {\n",
       "  padding-top: 20px;\n",
       "  padding-bottom: -20px;\n",
       "  line-height: 1.5;\n",
       "}\n",
       "\n",
       ".rendered_html ul li {\n",
       "  padding-top: 0px;\n",
       "  padding-bottom: 0px;\n",
       "  line-height: 1.2;\n",
       "}\n",
       "\n",
       "li:first-of-type {\n",
       "  padding-top: -100px;\n",
       "}\n",
       "\n",
       ".input_prompt, .CodeMirror-lines, .output_area {\n",
       "  font-family: Consolas;\n",
       "  font-size: 120%;\n",
       "}\n",
       "\n",
       ".gap-above {\n",
       "  padding-top: 200px;\n",
       "}\n",
       "\n",
       ".gap01 {\n",
       "  padding-top: 10px;\n",
       "}\n",
       "\n",
       ".gap05 {\n",
       "  padding-top: 50px;\n",
       "}\n",
       "\n",
       ".gap1 {\n",
       "  padding-top: 100px;\n",
       "}\n",
       "\n",
       ".gap2 {\n",
       "  padding-top: 200px;\n",
       "}\n",
       "\n",
       ".gap3 {\n",
       "  padding-top: 300px;\n",
       "}\n",
       "\n",
       ".emph {\n",
       "  color: #386BBC;\n",
       "}\n",
       "\n",
       ".warn {\n",
       "  color: red;\n",
       "}\n",
       "\n",
       ".center {\n",
       "  text-align: center;\n",
       "}\n",
       "\n",
       ".nb_link {\n",
       "    padding-bottom: 0.5em;\n",
       "}\n",
       "\n",
       "body {\n",
       "    background-color: #ffffff;\n",
       "    counter-reset: fncounter;\n",
       "    counter-reset: h1counter;\n",
       "}\n",
       "\n",
       "h1,h2 {\n",
       "    font-family: helvetica, arial, 'sans serif';\n",
       "    text-align: center;\n",
       "    margin-top: 2em;\n",
       "}\n",
       "\n",
       "h1.compact {\n",
       "    margin-top: 0;\n",
       "}\n",
       "\n",
       "h3,h4,h5,h6 {\n",
       "    font-family: helvetica, arial, 'sans serif';\n",
       "    text-align: left;\n",
       "    margin-left: 5%;\n",
       "    margin-top: 2em;\n",
       "    margin-right:  0em;\n",
       "    padding-right: 0em;\n",
       "}\n",
       "\n",
       "blockquote {\n",
       "    font-family: helvetica, arial, 'sans serif';\n",
       "    font-size: 100%;\n",
       "    margin-left: 10%;\n",
       "    margin-right: 10%;\n",
       "}\n",
       "\n",
       "p,table,li,dl,address {\n",
       "    font-family: helvetica, arial, 'sans serif';\n",
       "    margin-left: 0%;\n",
       "    margin-right: 0%;\n",
       "}\n",
       "\n",
       "dd {\n",
       "    font-family: helvetica, arial, 'sans serif';\n",
       "    margin-left: 5%;\n",
       "    margin-right: 0%;\n",
       "    font-size: 80%;\n",
       "}\n",
       "\n",
       "fieldset.narrow {\n",
       "    font-family: helvetica, arial, 'sans serif';\n",
       "    margin-left: 5%;\n",
       "    margin-right: 5%;\n",
       "}\n",
       "\n",
       "legend {\n",
       "    font-family: helvetica, arial, 'sans serif';\n",
       "    font-size: 80%;\n",
       "}\n",
       "\n",
       "ul.noBullet {\n",
       "    list-style-type: none;\n",
       "    font-family: helvetica, arial, 'sans serif';\n",
       "    margin-left: -3em;\n",
       "    margin-right: 0em;\n",
       "    font-size: 90%;\n",
       "}\n",
       "\n",
       "ul.noBulletExtraSpace {\n",
       "    list-style-type: none;\n",
       "    font-family: helvetica, arial, 'sans serif';\n",
       "    margin-left: -3em;\n",
       "    margin-right: 0em;\n",
       "    margin-bottom: 1em;\n",
       "    font-size: 100%;\n",
       "}\n",
       "\n",
       "ul.noBulletExtraSpace li {\n",
       "    margin-bottom: 1em;\n",
       "}\n",
       "\n",
       "p,li,th,td {\n",
       "    font-size: 100%;\n",
       "}\n",
       "\n",
       "p.inline {\n",
       "    display: inline;\n",
       "    margin-left: 0;\n",
       "    margin-right: 0;\n",
       "}\n",
       "\n",
       "div.boxContents {\n",
       "    text-align: center;\n",
       "    line-height: 2em;\n",
       "    margin-left: auto;\n",
       "    margin-right: auto;\n",
       "    margin-bottom: 5%;\n",
       "    margin-top: 5%;\n",
       "    padding-bottom: 10px;\n",
       "}\n",
       "\n",
       "p.boxTickets {\n",
       "    text-align: center;\n",
       "    display: inline;\n",
       "    padding: 10px 10px 10px 10px;\n",
       "    color: #000000;\n",
       "    background: #888888;\n",
       "    border: solid #888888;\n",
       "    border-width: thick;\n",
       "    border-style: outset;\n",
       "    line-height: 4em;\n",
       "}\n",
       "\n",
       "p.boxLabel {\n",
       "    text-align: center;\n",
       "    font-variant: small-caps;\n",
       "    padding-top: 10%;\n",
       "    color: #000055;\n",
       "}\n",
       "\n",
       "p.math {\n",
       "    font-family: helvetica, arial, 'sans serif';\n",
       "    color: #000000;\n",
       "    text-align: center;\n",
       "    font-style: italic;\n",
       "}\n",
       "\n",
       "p.inlineMath {\n",
       "    font-family: helvetica, arial, 'sans serif';\n",
       "    text-align: center;\n",
       "    font-style: italic;\n",
       "    display: inline;\n",
       "}\n",
       "\n",
       "p.figure {\n",
       "    font-family: helvetica, arial, 'sans serif';\n",
       "    text-align: center;\n",
       "}\n",
       "\n",
       "p.center {\n",
       "    font-family: helvetica, arial, 'sans serif';\n",
       "    text-align: center;\n",
       "}\n",
       "\n",
       "p.big {\n",
       "    font-family: helvetica, arial, 'sans serif';\n",
       "    text-align: left;\n",
       "    font-size: 130%;\n",
       "}\n",
       "\n",
       "p.bigCenter {\n",
       "    font-family: helvetica, arial, 'sans serif';\n",
       "    text-align: center;\n",
       "    font-size: 130%;\n",
       "}\n",
       "\n",
       "p.example {\n",
       "    font-family: helvetica, arial, 'sans serif';\n",
       "    margin-left: 10%;\n",
       "    margin-right: 10%;\n",
       "    font-style: italic;\n",
       "}\n",
       "\n",
       "table.dataTable {\n",
       "    font-family: helvetica, arial, 'sans serif';\n",
       "    font-size: 80%;\n",
       "    margin-left: 3%;\n",
       "    margin-right: 3%;\n",
       "    border: solid #555555;\n",
       "}\n",
       "\n",
       "table.dataTable th {\n",
       "    border-right: 1px solid #999999;\n",
       "    border-bottom: 1px solid #999999;\n",
       "}\n",
       "\n",
       "table.dataTable td {\n",
       "    border-right: 1px solid #999999;\n",
       "    border-bottom: 1px solid #999999;\n",
       "}\n",
       "\n",
       "table.truthTable {\n",
       "    font-family: helvetica, arial, 'sans serif';\n",
       "    font-size: 100%;\n",
       "    margin-left: 3%;\n",
       "    margin-right: 3%;\n",
       "    border: solid #0000FF;\n",
       "}\n",
       "\n",
       "table.truthTable th {\n",
       "    border-right: 1px solid #999999;\n",
       "    border-bottom: 1px solid #999999;\n",
       "}\n",
       "\n",
       "table.truthTable td {\n",
       "    border-right: 1px solid #999999;\n",
       "    border-bottom: 1px solid #999999;\n",
       "}\n",
       "\n",
       "table.truthTable caption {\n",
       "    font-weight: bold;\n",
       "}\n",
       "\n",
       "div.boxModel {\n",
       "    display: block;\n",
       "    font-family: helvetica, arial, 'sans serif';\n",
       "    font-size: 120%;\n",
       "    min-height: 6em;\n",
       "    margin-top: 1.5em;\n",
       "    margin-left: 35%;\n",
       "    margin-right: 35%;\n",
       "    margin-bottom: 2em;\n",
       "    border-width: thick;\n",
       "    border-top: none;\n",
       "    border-left: solid #000000;\n",
       "    border-right: solid #000000;\n",
       "    border-bottom: solid #000000;\n",
       "    background: #dedeff;\n",
       "}\n",
       "\n",
       "div.problem {\n",
       "    font-family: helvetica, arial, 'sans serif';\n",
       "    font-size: 100%;\n",
       "    margin-top: 1.5em;\n",
       "    margin-left: 10%;\n",
       "    margin-right: 10%;\n",
       "    border: solid #009900;\n",
       "    background: #eeffee;\n",
       "}\n",
       "\n",
       "div.indent {\n",
       "    font-family: helvetica, arial, 'sans serif';\n",
       "    font-size: 100%;\n",
       "    margin-top: 1.5em;\n",
       "    margin-bottom: 1em;\n",
       "    margin-left: 5%;\n",
       "    margin-right: 5%;\n",
       "}\n",
       "\n",
       "div.code {\n",
       "    font-family: helvetica, arial, 'sans serif';\n",
       "    font-size: 100%;\n",
       "    margin-top: 1.5em;\n",
       "    margin-left: 10%;\n",
       "    margin-right: 10%;\n",
       "    border: solid #0066ff;\n",
       "    background: #eeeedd;\n",
       "}\n",
       "\n",
       "\n",
       "div.table {\n",
       "    font-family: helvetica, arial, 'sans serif';\n",
       "    font-size: 100%;\n",
       "    margin-left: 5%;\n",
       "    margin-right: 5%;\n",
       "    margin-bottom: 2em;\n",
       "    margin-top: 2em;\n",
       "    border: solid #000099;\n",
       "    background: #ccccff;\n",
       "}\n",
       "\n",
       "div.plainTable {\n",
       "    font-family: helvetica, arial, 'sans serif';\n",
       "    font-size: 100%;\n",
       "    margin-left: 5%;\n",
       "    margin-right: 5%;\n",
       "    margin-bottom: 2em;\n",
       "    margin-top: 2em;\n",
       "}\n",
       "\n",
       "div.example {\n",
       "    font-family: helvetica, arial, 'sans serif';\n",
       "    font-size: 100%;\n",
       "    margin-top: 1.5em;\n",
       "    margin-left: 10%;\n",
       "    margin-right: 10%;\n",
       "    border: solid #0000ff;\n",
       "    background: #eeeeff;\n",
       "}\n",
       "\n",
       "div.caption {\n",
       "    font-family: helvetica, arial, 'sans serif';\n",
       "    font-size: 120%;\n",
       "    font-weight: bold;\n",
       "    color: #000099;\n",
       "    margin-left: 0%;\n",
       "    margin-right: 5%;\n",
       "    text-align: left;\n",
       "}\n",
       "\n",
       "div.figure {\n",
       "    font-family: helvetica, arial, 'sans serif';\n",
       "    font-size: 100%;\n",
       "    border: solid #808080;\n",
       "    margin-left: 5%;\n",
       "    margin-right: 5%;\n",
       "    text-align: center;\n",
       "}\n",
       "\n",
       "div.solution {\n",
       "    font-family: helvetica, arial, 'sans serif';\n",
       "    font-size: 100%;\n",
       "    color: #000099;\n",
       "    margin-left: 5%;\n",
       "    margin-right: 5%;\n",
       "    display: block;\n",
       "}\n",
       "\n",
       "div.callout {\n",
       "    font-family: helvetica, arial, 'sans serif';\n",
       "    font-size: 105%;\n",
       "    font-weight: bold;\n",
       "    border: solid #ff0000;\n",
       "    background: #ffeeee;\n",
       "    margin-left: 10%;\n",
       "    margin-right: 10%;\n",
       "    padding:     2% 0% 2% 0%;\n",
       "    text-align: left;\n",
       "}\n",
       "\n",
       "div.solution {\n",
       "    font-family: helvetica, arial, 'sans serif';\n",
       "    font-size: 85%;\n",
       "    color: #000099;\n",
       "    margin-left: 0%;\n",
       "    margin-right: 0%;\n",
       "    display: none;\n",
       "}\n",
       "\n",
       "\n",
       "h1,h2,h3{\n",
       "    color:#000000;\n",
       "}\n",
       "\n",
       "hr {\n",
       "    height: 3px;\n",
       "    color:#000000;\n",
       "    width: 90%;\n",
       "    text-align:center;\n",
       "}\n",
       "\n",
       "\n",
       "a:link    {\n",
       "    color:#0000ff;\n",
       "    text-decoration: none;\n",
       "}\n",
       "\n",
       "a:visited {color:#000fff}\n",
       "a:active  {color:#ff0033}\n",
       "a:hover   {\n",
       "    color: #000000;\n",
       "    background:silver;\n",
       "}\n",
       "a.glossRef:visited {color:#107080}\n",
       "\n",
       "a.fnLink:link {color:#800080}\n",
       "\n",
       "span.defSpan {\n",
       "     font-size: 100%;\n",
       "}\n",
       "\n",
       "span.appCtrlName {\n",
       "     font-stretch: wider;\n",
       "     color:  #800000;\n",
       "     font-size: 100%;\n",
       "     margin-left: 0%;\n",
       "}\n",
       "\n",
       "span.calloutCaption {\n",
       "    font-family: helvetica, arial, 'sans serif';\n",
       "    font-size: 120%;\n",
       "    font-weight: bold;\n",
       "    color: #000000;\n",
       "}\n",
       "\n",
       "/*\n",
       "span.math {\n",
       "    font-family: helvetica, arial, 'sans serif';\n",
       "    color:  #000085;\n",
       "    text-align: center;\n",
       "    font-style: italic;\n",
       "}\n",
       "*/\n",
       "\n",
       "span.example {\n",
       "    font-family: helvetica, arial, 'sans serif';\n",
       "    font-style: italic;\n",
       "}\n",
       "\n",
       "span.qSpan {\n",
       "    font-family: helvetica, arial, 'sans serif';\n",
       "    color: #009900;\n",
       "}\n",
       "\n",
       "span.termOfArt {\n",
       "    font-weight: bold;\n",
       "    font-variant: small-caps;\n",
       "    font-size: 105%;\n",
       "    font-stretch: wider;\n",
       "}\n",
       "\n",
       "\n",
       "pre {\n",
       "    font-family: monospace;\n",
       "}\n",
       "\n",
       "span.big {\n",
       "   font-size:        120%;\n",
       "}\n",
       "\n",
       "\n",
       "/*   CSS for drawing charts   */\n",
       "\n",
       "div.chart {\n",
       "    position:         relative;\n",
       "    clear:            both;\n",
       "    display:          block;\n",
       "    width:            90%;\n",
       "    min-height:       25em;\n",
       "    height:           auto !important;\n",
       "    font-family:      helvetica, arial, 'sans serif';\n",
       "    font-size:        100%;\n",
       "    text-align:       center;\n",
       "    margin:           auto;\n",
       "}\n",
       "\n",
       "div.chartCaption {\n",
       "    font-family:      helvetica, arial, 'sans serif';\n",
       "    font-size:        120%;\n",
       "    font-weight:      bold;\n",
       "    text-align:       center;\n",
       "    margin:           auto;\n",
       "    margin-bottom:    2em;\n",
       "}\n",
       "\n",
       "div.horizontalPipe {\n",
       "    z-index:          0;\n",
       "    font-family:      helvetica, arial, 'sans serif';\n",
       "    font-size:        60%;\n",
       "    color:            #ffffff;\n",
       "    background-color: #000099;\n",
       "    border:           none;\n",
       "    margin:           auto;\n",
       "    text-align:       center;\n",
       "}\n",
       "\n",
       "div.verticalPipe {\n",
       "    z-index:          0;\n",
       "    font-family:      helvetica, arial, 'sans serif';\n",
       "    font-size:        60%;\n",
       "    color:            #ffffff;\n",
       "    background-color: #000099;\n",
       "    border:           none;\n",
       "    margin:           auto;\n",
       "    text-align:       center;\n",
       "}\n",
       "\n",
       "a.chart {\n",
       "    display:          block;\n",
       "    color:            #000000;\n",
       "    background-color: #f0f0ff;\n",
       "    text-decoration:  none;\n",
       "}\n",
       "\n",
       "a.chart:hover {\n",
       "    color:            #900000;\n",
       "    background-color: #f0f0ff;\n",
       "    text-decoration:  none;\n",
       "}\n",
       "\n",
       "div.venn {\n",
       "    position:         relative;\n",
       "    clear:            right;\n",
       "    display:          block;\n",
       "    width:            25%;\n",
       "    min-height:       14em;\n",
       "    height:           auto !important;\n",
       "    font-family:      helvetica, arial, 'sans serif';\n",
       "    font-size:        100%;\n",
       "    text-align:       center;\n",
       "    margin:           auto;\n",
       "}\n",
       "\n",
       "div.vennCaption {\n",
       "    font-family:      helvetica, arial, 'sans serif';\n",
       "    font-size:        120%;\n",
       "    font-weight:      bold;\n",
       "    text-align:       center;\n",
       "    margin:           auto;\n",
       "    margin-bottom:    2em;\n",
       "}\n",
       "\n",
       "div.vennUniverse {\n",
       "    position:         absolute;\n",
       "    padding:          0.2em;\n",
       "    display:          block;\n",
       "    width:            90%;\n",
       "    min-height:       10em;\n",
       "    height:           10em;\n",
       "    font-family:      helvetica, arial, 'sans serif';\n",
       "    bottom:           2%;\n",
       "    left:             2%;\n",
       "    border-color:     #000000;\n",
       "    border-style:     solid;\n",
       "    border-width:     3px;\n",
       "}\n",
       "\n",
       "div.rect40x30_left_high {\n",
       "    position:         absolute;\n",
       "    padding:          0.2em;\n",
       "    display:          block;\n",
       "    width:            40%;\n",
       "    min-height:       3em;\n",
       "    height:           3em;\n",
       "    font-family:      helvetica, arial, 'sans serif';\n",
       "    bottom:           13%;\n",
       "    left:             20%;\n",
       "    border-color:     #000000;\n",
       "    border-style:     solid;\n",
       "    border-width:     3px;\n",
       "}\n",
       "\n",
       "div.rect40x50_left {\n",
       "    position:         absolute;\n",
       "    padding:          0.2em;\n",
       "    display:          block;\n",
       "    width:            40%;\n",
       "    min-height:       5em;\n",
       "    height:           5em;\n",
       "    font-family:      helvetica, arial, 'sans serif';\n",
       "    bottom:           10%;\n",
       "    left:             4%;\n",
       "    border-color:     #000000;\n",
       "    border-style:     solid;\n",
       "    border-width:     3px;\n",
       "}\n",
       "\n",
       "div.rect70x70_left {\n",
       "    position:         absolute;\n",
       "    padding:          0.2em;\n",
       "    display:          block;\n",
       "    width:            70%;\n",
       "    min-height:       7em;\n",
       "    height:           7em;\n",
       "    font-family:      helvetica, arial, 'sans serif';\n",
       "    bottom:           10%;\n",
       "    left:             4%;\n",
       "    border-color:     #000000;\n",
       "    border-style:     solid;\n",
       "    border-width:     3px;\n",
       "}\n",
       "\n",
       "div.rect40x50_left_high {\n",
       "    position:         absolute;\n",
       "    padding:          0.2em;\n",
       "    display:          block;\n",
       "    width:            40%;\n",
       "    min-height:       5em;\n",
       "    height:           5em;\n",
       "    font-family:      helvetica, arial, 'sans serif';\n",
       "    bottom:           13%;\n",
       "    left:             4%;\n",
       "    border-color:     #000000;\n",
       "    border-style:     solid;\n",
       "    border-width:     3px;\n",
       "}\n",
       "\n",
       "div.rect11x50_left_high {\n",
       "    position:         absolute;\n",
       "    padding:          0.2em;\n",
       "    display:          block;\n",
       "    width:            11%;\n",
       "    min-height:       5em;\n",
       "    height:           5em;\n",
       "    font-family:      helvetica, arial, 'sans serif';\n",
       "    bottom:           13%;\n",
       "    left:             4%;\n",
       "    border-color:     #000000;\n",
       "    border-style:     solid;\n",
       "    border-width:     3px;\n",
       "}\n",
       "\n",
       "div.rect30x40_left {\n",
       "    position:         absolute;\n",
       "    padding:          0.2em;\n",
       "    display:          block;\n",
       "    width:            30%;\n",
       "    min-height:       4em;\n",
       "    height:           4em;\n",
       "    font-family:      helvetica, arial, 'sans serif';\n",
       "    bottom:           10%;\n",
       "    left:             4%;\n",
       "    border-color:     #000000;\n",
       "    border-style:     solid;\n",
       "    border-width:     3px;\n",
       "}\n",
       "\n",
       "div.rect20x30_left {\n",
       "    position:         absolute;\n",
       "    padding:          0.2em;\n",
       "    display:          block;\n",
       "    width:            20%;\n",
       "    min-height:       3em;\n",
       "    height:           3em;\n",
       "    font-family:      helvetica, arial, 'sans serif';\n",
       "    bottom:           18%;\n",
       "    left:             5%;\n",
       "    border-color:     #000000;\n",
       "    border-style:     solid;\n",
       "    border-width:     3px;\n",
       "}\n",
       "\n",
       "div.rect15x30_left {\n",
       "    position:         absolute;\n",
       "    padding:          0.2em;\n",
       "    display:          block;\n",
       "    width:            15%;\n",
       "    min-height:       3em;\n",
       "    height:           3em;\n",
       "    font-family:      helvetica, arial, 'sans serif';\n",
       "    bottom:           18%;\n",
       "    left:             7%;\n",
       "    border-color:     #000000;\n",
       "    border-style:     solid;\n",
       "    border-width:     3px;\n",
       "}\n",
       "\n",
       "\n",
       "div.rect20x30_center {\n",
       "    position:         absolute;\n",
       "    padding:          0.2em;\n",
       "    display:          block;\n",
       "    width:            20%;\n",
       "    min-height:       3em;\n",
       "    height:           3em;\n",
       "    font-family:      helvetica, arial, 'sans serif';\n",
       "    bottom:           18%;\n",
       "    left:             38%;\n",
       "    border-color:     #000000;\n",
       "    border-style:     solid;\n",
       "    border-width:     3px;\n",
       "}\n",
       "\n",
       "div.rect20x30_center_left {\n",
       "    position:         absolute;\n",
       "    padding:          0.2em;\n",
       "    display:          block;\n",
       "    width:            20%;\n",
       "    min-height:       3em;\n",
       "    height:           3em;\n",
       "    font-family:      helvetica, arial, 'sans serif';\n",
       "    bottom:           18%;\n",
       "    left:             22%;\n",
       "    border-color:     #000000;\n",
       "    border-style:     solid;\n",
       "    border-width:     3px;\n",
       "}\n",
       "\n",
       "div.rect40x50_center {\n",
       "    position:         absolute;\n",
       "    padding:          0.2em;\n",
       "    display:          block;\n",
       "    width:            40%;\n",
       "    min-height:       5em;\n",
       "    height:           5em;\n",
       "    font-family:      helvetica, arial, 'sans serif';\n",
       "    bottom:           10%;\n",
       "    left:             28%;\n",
       "    border-color:     #000000;\n",
       "    border-style:     solid;\n",
       "    border-width:     3px;\n",
       "}\n",
       "\n",
       "div.rect40x50_center_high {\n",
       "    position:         absolute;\n",
       "    padding:          0.2em;\n",
       "    display:          block;\n",
       "    width:            40%;\n",
       "    min-height:       5em;\n",
       "    height:           5em;\n",
       "    font-family:      helvetica, arial, 'sans serif';\n",
       "    bottom:           15%;\n",
       "    left:             28%;\n",
       "    border-color:     #000000;\n",
       "    border-style:     solid;\n",
       "    border-width:     3px;\n",
       "}\n",
       "\n",
       "div.rect30x60_center {\n",
       "    position:         absolute;\n",
       "    padding:          0.2em;\n",
       "    display:          block;\n",
       "    width:            30%;\n",
       "    min-height:       6em;\n",
       "    height:           6em;\n",
       "    font-family:      helvetica, arial, 'sans serif';\n",
       "    bottom:           12%;\n",
       "    left:             33%;\n",
       "    border-color:     #000000;\n",
       "    border-style:     solid;\n",
       "    border-width:     3px;\n",
       "}\n",
       "\n",
       "div.rect60x70_center {\n",
       "    position:         absolute;\n",
       "    padding:          0.2em;\n",
       "    display:          block;\n",
       "    width:            60%;\n",
       "    min-height:       7em;\n",
       "    height:           7em;\n",
       "    font-family:      helvetica, arial, 'sans serif';\n",
       "    bottom:           10%;\n",
       "    left:             18%;\n",
       "    border-color:     #000000;\n",
       "    border-style:     solid;\n",
       "    border-width:     3px;\n",
       "}\n",
       "\n",
       "div.rect85x80_center {\n",
       "    position:         absolute;\n",
       "    padding:          0.2em;\n",
       "    display:          block;\n",
       "    width:            85%;\n",
       "    min-height:       8em;\n",
       "    height:           8em;\n",
       "    font-family:      helvetica, arial, 'sans serif';\n",
       "    bottom:           5%;\n",
       "    left:             4%;\n",
       "    border-color:     #000000;\n",
       "    border-style:     solid;\n",
       "    border-width:     3px;\n",
       "}\n",
       "\n",
       "div.rect45x50_right_high {\n",
       "    position:         absolute;\n",
       "    padding:          0.2em;\n",
       "    display:          block;\n",
       "    width:            45%;\n",
       "    min-height:       5em;\n",
       "    height:           5em;\n",
       "    font-family:      helvetica, arial, 'sans serif';\n",
       "    bottom:           15%;\n",
       "    left :            42%;\n",
       "    border-color:     #000000;\n",
       "    border-style:     solid;\n",
       "    border-width:     3px;\n",
       "}\n",
       "\n",
       "div.rect40x50_right {\n",
       "    position:         absolute;\n",
       "    padding:          0.2em;\n",
       "    display:          block;\n",
       "    width:            40%;\n",
       "    min-height:       5em;\n",
       "    height:           5em;\n",
       "    font-family:      helvetica, arial, 'sans serif';\n",
       "    bottom:           10%;\n",
       "    left :            50%;\n",
       "    border-color:     #000000;\n",
       "    border-style:     solid;\n",
       "    border-width:     3px;\n",
       "}\n",
       "\n",
       "div.rect40x50_right_high {\n",
       "    position:         absolute;\n",
       "    padding:          0.2em;\n",
       "    display:          block;\n",
       "    width:            40%;\n",
       "    min-height:       5em;\n",
       "    height:           5em;\n",
       "    font-family:      helvetica, arial, 'sans serif';\n",
       "    bottom:           15%;\n",
       "    left:             50%;\n",
       "    border-color:     #000000;\n",
       "    border-style:     solid;\n",
       "    border-width:     3px;\n",
       "}\n",
       "\n",
       "div.rect30x30_right {\n",
       "    position:         absolute;\n",
       "    padding:          0.2em;\n",
       "    display:          block;\n",
       "    width:            30%;\n",
       "    min-height:       3em;\n",
       "    height:           3em;\n",
       "    font-family:      helvetica, arial, 'sans serif';\n",
       "    text-align:       right;\n",
       "    bottom:           15%;\n",
       "    left :            60%;\n",
       "    border-color:     #000000;\n",
       "    border-style:     solid;\n",
       "    border-width:     3px;\n",
       "}\n",
       "\n",
       "div.rect30x30_right_high {\n",
       "    position:         absolute;\n",
       "    padding:          0.2em;\n",
       "    display:          block;\n",
       "    width:            30%;\n",
       "    min-height:       3em;\n",
       "    height:           3em;\n",
       "    font-family:      helvetica, arial, 'sans serif';\n",
       "    bottom:           18%;\n",
       "    left:             55%;\n",
       "    border-color:     #000000;\n",
       "    border-style:     solid;\n",
       "    border-width:     3px;\n",
       "}\n",
       "\n",
       "div.rect30x40_right {\n",
       "    position:         absolute;\n",
       "    padding:          0.2em;\n",
       "    display:          block;\n",
       "    width:            30%;\n",
       "    min-height:       4em;\n",
       "    height:           4em;\n",
       "    font-family:      helvetica, arial, 'sans serif';\n",
       "    font-size:        100%;\n",
       "    bottom:           13%;\n",
       "    left:             60%;\n",
       "    border-color:     #000000;\n",
       "    border-style:     solid;\n",
       "    border-width:     3px;\n",
       "}\n",
       "\n",
       "div.rect25x35_right {\n",
       "    position:         absolute;\n",
       "    padding:          0.2em;\n",
       "    display:          block;\n",
       "    width:            25%;\n",
       "    min-height:       3.5em;\n",
       "    height:           3.5em;\n",
       "    font-family:      helvetica, arial, 'sans serif';\n",
       "    bottom:           13.5%;\n",
       "    left:             55%;\n",
       "    border-color:     #000000;\n",
       "    border-style:     solid;\n",
       "    border-width:     3px;\n",
       "}\n",
       "\n",
       "div.rect28x50_right {\n",
       "    position:         absolute;\n",
       "    padding:          0.2em;\n",
       "    display:          block;\n",
       "    width:            28%;\n",
       "    min-height:       5em;\n",
       "    height:           5em;\n",
       "    font-family:      helvetica, arial, 'sans serif';\n",
       "    bottom:           15%;\n",
       "    left:             50%;\n",
       "    border-color:     #000000;\n",
       "    border-style:     solid;\n",
       "    border-width:     3px;\n",
       "}\n",
       "\n",
       "div.rect24x50_right {\n",
       "    position:         absolute;\n",
       "    padding:          0.2em;\n",
       "    display:          block;\n",
       "    width:            24%;\n",
       "    min-height:       5em;\n",
       "    height:           5em;\n",
       "    font-family:      helvetica, arial, 'sans serif';\n",
       "    bottom:           15%;\n",
       "    left:             50%;\n",
       "    border-color:     #000000;\n",
       "    border-style:     solid;\n",
       "    border-width:     3px;\n",
       "}\n",
       "\n",
       "\n",
       "div.rect18x40_right {\n",
       "    position:         absolute;\n",
       "    padding:          0.2em;\n",
       "    display:          block;\n",
       "    width:            18%;\n",
       "    min-height:       4em;\n",
       "    height:           4em;\n",
       "    font-family:      helvetica, arial, 'sans serif';\n",
       "    bottom:           13%;\n",
       "    left:             60%;\n",
       "    border-color:     #000000;\n",
       "    border-style:     solid;\n",
       "    border-width:     3px;\n",
       "}\n",
       "\n",
       "div.rect12x50_right {\n",
       "    position:         absolute;\n",
       "    padding:          0.2em;\n",
       "    display:          block;\n",
       "    width:            12%;\n",
       "    min-height:       5em;\n",
       "    height:           5em;\n",
       "    font-family:      helvetica, arial, 'sans serif';\n",
       "    bottom:           15%;\n",
       "    left:             66%;\n",
       "    border-color:     #000000;\n",
       "    border-style:     solid;\n",
       "    border-width:     3px;\n",
       "}\n",
       "\n",
       "div.rect10x30_left {\n",
       "    position:         absolute;\n",
       "    padding:          0.2em;\n",
       "    display:          block;\n",
       "    width:            10%;\n",
       "    min-height:       3em;\n",
       "    height:           3em;\n",
       "    font-family:      helvetica, arial, 'sans serif';\n",
       "    bottom:           18%;\n",
       "    left:             5%;\n",
       "    border-color:     #000000;\n",
       "    border-style:     solid;\n",
       "    border-width:     3px;\n",
       "}\n",
       "\n",
       "div.rect6x50_right {\n",
       "    position:         absolute;\n",
       "    padding:          0.2em;\n",
       "    display:          block;\n",
       "    width:            6%;\n",
       "    min-height:       5em;\n",
       "    height:           5em;\n",
       "    font-family:      helvetica, arial, 'sans serif';\n",
       "    bottom:           15%;\n",
       "    left:             57%;\n",
       "    border-color:     #000000;\n",
       "    border-style:     solid;\n",
       "    border-width:     3px;\n",
       "}\n",
       "\n",
       ".left {\n",
       "    text-align:       left;\n",
       "}\n",
       "\n",
       ".center {\n",
       "    text-align:       center;\n",
       "}\n",
       "\n",
       ".right {\n",
       "    text-align:       right;\n",
       "}\n",
       "\n",
       "\n",
       "\n",
       ".blue {\n",
       "    background-color: #4444ff;\n",
       "}\n",
       "\n",
       ".yellow {\n",
       "    background-color: #cccc00;\n",
       "}\n",
       "\n",
       ".gray {\n",
       "    background-color: #cccccc;\n",
       "}\n",
       "\n",
       ".green {\n",
       "    background-color: #44ff44;\n",
       "}\n",
       "\n",
       ".white {\n",
       "    background-color: #ffffff;\n",
       "}\n",
       "\n",
       "\n",
       "</style>"
      ],
      "text/plain": [
       "<IPython.core.display.HTML object>"
      ]
     },
     "metadata": {},
     "output_type": "display_data"
    }
   ],
   "source": [
    "# %load talktools.py\n",
    "\"\"\"Tools to style a talk.\"\"\"\n",
    "\n",
    "from IPython.display import HTML, display, YouTubeVideo\n",
    "\n",
    "def prefix(url):\n",
    "    prefix = '' if url.startswith('http') else 'http://'\n",
    "    return prefix + url\n",
    "\n",
    "\n",
    "def simple_link(url, name=None):\n",
    "    name = url if name is None else name\n",
    "    url = prefix(url)\n",
    "    return '<a href=\"%s\" target=\"_blank\">%s</a>' % (url, name)\n",
    "\n",
    "\n",
    "def html_link(url, name=None):\n",
    "    return HTML(simple_link(url, name))\n",
    "\n",
    "\n",
    "# Utility functions\n",
    "def website(url, name=None, width=800, height=450):\n",
    "    html = []\n",
    "    if name:\n",
    "        html.extend(['<div class=\"nb_link\">',\n",
    "                     simple_link(url, name),\n",
    "                     '</div>'] )\n",
    "\n",
    "    html.append('<iframe src=\"%s\"  width=\"%s\" height=\"%s\">' %\n",
    "                (prefix(url), width, height))\n",
    "    return HTML('\\n'.join(html))\n",
    "\n",
    "\n",
    "def nbviewer(url, name=None, width=800, height=450):\n",
    "    return website('nbviewer.ipython.org/url/' + url, name, width, height)\n",
    "\n",
    "# Load and publish CSS\n",
    "style = HTML(open('talkStyle.css').read())\n",
    "\n",
    "display(style)"
   ]
  },
  {
   "cell_type": "code",
   "execution_count": null,
   "metadata": {
    "collapsed": true,
    "nbpresent": {
     "id": "71840cca-a85c-40f7-b250-3ec3ab37a56a"
    },
    "scrolled": false
   },
   "outputs": [],
   "source": []
  }
 ],
 "metadata": {
  "kernelspec": {
   "display_name": "Python [default]",
   "language": "python",
   "name": "python2"
  },
  "language_info": {
   "codemirror_mode": {
    "name": "ipython",
    "version": 2
   },
   "file_extension": ".py",
   "mimetype": "text/x-python",
   "name": "python",
   "nbconvert_exporter": "python",
   "pygments_lexer": "ipython2",
   "version": "2.7.11"
  }
 },
 "nbformat": 4,
 "nbformat_minor": 0
}
